{
 "cells": [
  {
   "cell_type": "markdown",
   "metadata": {},
   "source": [
    "### Non-Linear Models\n",
    "\n",
    "- Change the following in the src/compBF.py file \n",
    "\n",
    "```\n",
    "from src.modelpair2 import FirstModel, SecondModel\n",
    "```"
   ]
  },
  {
   "cell_type": "code",
   "execution_count": 1,
   "metadata": {},
   "outputs": [],
   "source": [
    "import torch\n",
    "import pandas as pd\n",
    "import numpy as np\n",
    "from scipy.optimize import minimize\n",
    "from scipy import integrate\n",
    "from torch.distributions.multivariate_normal import MultivariateNormal\n",
    "\n",
    "# our scripts and functions \n",
    "from src.compBF import BayesFactor\n",
    "from src.compBF import repetitions, plot_evidence, plot_bf\n",
    "from config import get_config"
   ]
  },
  {
   "cell_type": "code",
   "execution_count": 2,
   "metadata": {},
   "outputs": [],
   "source": [
    "config = get_config('nonlinear')\n",
    "labels = (r'$y=E + \\textrm{sin}\\,Ft$', r'$y=at^{2}+bt$')\n",
    "\n",
    "# change the number of data if we want \n",
    "config.ndata = 100\n",
    "\n",
    "# change the fiducial point if we want \n",
    "# config.fid1 = torch.Tensor([x0, x1])\n",
    "# config.fid2 = torch.Tensor([y0, y1])\n",
    "\n",
    "sigma = 1.0\n",
    "noisecov = torch.eye(config.ndata) * sigma**2"
   ]
  },
  {
   "cell_type": "markdown",
   "metadata": {},
   "source": [
    "# Testing Numerical Integration"
   ]
  },
  {
   "cell_type": "code",
   "execution_count": 3,
   "metadata": {},
   "outputs": [
    {
     "name": "stdout",
     "output_type": "stream",
     "text": [
      "Model 1: E + sin(Ft)\n",
      "Model 2: at^2 + bt\n"
     ]
    }
   ],
   "source": [
    "module = BayesFactor(config, noisecov)"
   ]
  },
  {
   "cell_type": "markdown",
   "metadata": {},
   "source": [
    "The data is being generated from Model 1 at the default fiducial point (same as in Alan's draft)."
   ]
  },
  {
   "cell_type": "code",
   "execution_count": 4,
   "metadata": {},
   "outputs": [],
   "source": [
    "data = module.model1.fid_model + sigma * torch.randn(config.ndata)"
   ]
  },
  {
   "cell_type": "code",
   "execution_count": 5,
   "metadata": {},
   "outputs": [],
   "source": [
    "def loglike1(parameters, module, data, noisecov):\n",
    "    theory = module.model1.function(parameters = parameters, domain=module.domain)\n",
    "    distribution = MultivariateNormal(theory, noisecov)\n",
    "    return distribution.log_prob(data).item()\n",
    "\n",
    "def logprior1(parameters, module):\n",
    "    nparams = len(parameters)\n",
    "    mean = torch.zeros(nparams)\n",
    "    cov = torch.eye(nparams) * module.config.priorwidth**2\n",
    "    distribution = MultivariateNormal(mean, cov)\n",
    "    return distribution.log_prob(parameters).item()\n",
    "\n",
    "def logpost1(parameters, module, data, noisecov):\n",
    "    parameters = torch.from_numpy(parameters)\n",
    "    loglike = loglike1(parameters, module, data, noisecov)\n",
    "    logprior = logprior1(parameters, module)\n",
    "    return loglike + logprior\n",
    "\n",
    "def integration(param1, param2, module, data, noisecov, logpost_max):\n",
    "    parameters = np.array([param1, param2])\n",
    "    logpost = logpost1(parameters, module, data, noisecov) - logpost_max\n",
    "    return np.exp(logpost)\n",
    "\n",
    "nlp = lambda *args: -logpost1(*args)"
   ]
  },
  {
   "cell_type": "markdown",
   "metadata": {},
   "source": [
    "### Optimisation\n",
    "Just to check we have a sound estimate of the fiducial point."
   ]
  },
  {
   "cell_type": "code",
   "execution_count": 7,
   "metadata": {},
   "outputs": [],
   "source": [
    "solution = minimize(nlp, module.model1.fid_params, args=(module, data, noisecov))\n",
    "covariance = solution.hess_inv\n",
    "minimum = solution.x\n",
    "logpost_max = logpost1(minimum, module, data, noisecov)\n",
    "arguments = (module, data, noisecov, logpost_max)"
   ]
  },
  {
   "cell_type": "markdown",
   "metadata": {},
   "source": [
    "2D integration using `scipy.integrate`."
   ]
  },
  {
   "cell_type": "code",
   "execution_count": 8,
   "metadata": {},
   "outputs": [],
   "source": [
    "# this cell is expensive because we are doing a 2D integration\n",
    "value, error = integrate.dblquad(integration, -np.inf, np.inf, -np.inf, np.inf, args=arguments)"
   ]
  },
  {
   "cell_type": "code",
   "execution_count": 9,
   "metadata": {},
   "outputs": [],
   "source": [
    "evi_numerical_1 = logpost_max + np.log(value)\n",
    "evi1, evi2, bayesfactor = module.log_evi_full_data(data)"
   ]
  },
  {
   "cell_type": "code",
   "execution_count": 10,
   "metadata": {},
   "outputs": [
    {
     "name": "stdout",
     "output_type": "stream",
     "text": [
      "Exact function, Numerical integration    : -137.524\n",
      "Taylor expansion, Analytical integration : -138.167\n"
     ]
    }
   ],
   "source": [
    "print(f'Exact function, Numerical integration    : {evi_numerical_1:.3f}')\n",
    "print(f'Taylor expansion, Analytical integration : {evi1:.3f}')"
   ]
  },
  {
   "cell_type": "code",
   "execution_count": 11,
   "metadata": {},
   "outputs": [
    {
     "name": "stdout",
     "output_type": "stream",
     "text": [
      "BF: Exact function, Numerical integration    : 1.866\n",
      "BF: Taylor expansion, Analytical integration : 1.222\n"
     ]
    }
   ],
   "source": [
    "print(f'BF: Exact function, Numerical integration    : {evi_numerical_1-evi2:.3f}')\n",
    "print(f'BF: Taylor expansion, Analytical integration : {bayesfactor:.3f}')"
   ]
  },
  {
   "cell_type": "markdown",
   "metadata": {},
   "source": [
    "### Single Example"
   ]
  },
  {
   "cell_type": "code",
   "execution_count": 3,
   "metadata": {},
   "outputs": [],
   "source": [
    "# module = BayesFactor(config, noisecov)\n",
    "# data = module.model1.fid_model + sigma * torch.randn(config.ndata)\n",
    "# quant_full_data = module.log_evi_full_data(data)\n",
    "# quant_comp_data = module.log_evi_comp_data(data)"
   ]
  },
  {
   "cell_type": "markdown",
   "metadata": {},
   "source": [
    "### Repeated Data"
   ]
  },
  {
   "cell_type": "code",
   "execution_count": 4,
   "metadata": {},
   "outputs": [],
   "source": [
    "df_nonlinear = repetitions(config, 5000, noisecov, sigma)"
   ]
  },
  {
   "cell_type": "code",
   "execution_count": 5,
   "metadata": {},
   "outputs": [
    {
     "data": {
      "text/html": [
       "<div>\n",
       "<style scoped>\n",
       "    .dataframe tbody tr th:only-of-type {\n",
       "        vertical-align: middle;\n",
       "    }\n",
       "\n",
       "    .dataframe tbody tr th {\n",
       "        vertical-align: top;\n",
       "    }\n",
       "\n",
       "    .dataframe thead th {\n",
       "        text-align: right;\n",
       "    }\n",
       "</style>\n",
       "<table border=\"1\" class=\"dataframe\">\n",
       "  <thead>\n",
       "    <tr style=\"text-align: right;\">\n",
       "      <th></th>\n",
       "      <th>evi_full_1</th>\n",
       "      <th>evi_full_2</th>\n",
       "      <th>bf_full_12</th>\n",
       "      <th>evi_comp_1</th>\n",
       "      <th>evi_comp_2</th>\n",
       "      <th>bf_comp_12</th>\n",
       "    </tr>\n",
       "  </thead>\n",
       "  <tbody>\n",
       "    <tr>\n",
       "      <th>0</th>\n",
       "      <td>-82.420279</td>\n",
       "      <td>-84.704454</td>\n",
       "      <td>2.284175</td>\n",
       "      <td>-19.265419</td>\n",
       "      <td>-21.546600</td>\n",
       "      <td>2.281181</td>\n",
       "    </tr>\n",
       "    <tr>\n",
       "      <th>1</th>\n",
       "      <td>-80.544730</td>\n",
       "      <td>-81.717172</td>\n",
       "      <td>1.172442</td>\n",
       "      <td>-20.558593</td>\n",
       "      <td>-21.734029</td>\n",
       "      <td>1.175437</td>\n",
       "    </tr>\n",
       "    <tr>\n",
       "      <th>2</th>\n",
       "      <td>-83.682457</td>\n",
       "      <td>-84.934056</td>\n",
       "      <td>1.251598</td>\n",
       "      <td>-19.557157</td>\n",
       "      <td>-20.800182</td>\n",
       "      <td>1.243024</td>\n",
       "    </tr>\n",
       "    <tr>\n",
       "      <th>3</th>\n",
       "      <td>-73.943274</td>\n",
       "      <td>-73.424951</td>\n",
       "      <td>-0.518323</td>\n",
       "      <td>-19.813707</td>\n",
       "      <td>-19.289717</td>\n",
       "      <td>-0.523990</td>\n",
       "    </tr>\n",
       "    <tr>\n",
       "      <th>4</th>\n",
       "      <td>-77.012398</td>\n",
       "      <td>-76.674773</td>\n",
       "      <td>-0.337625</td>\n",
       "      <td>-18.506041</td>\n",
       "      <td>-18.167783</td>\n",
       "      <td>-0.338258</td>\n",
       "    </tr>\n",
       "  </tbody>\n",
       "</table>\n",
       "</div>"
      ],
      "text/plain": [
       "   evi_full_1  evi_full_2  bf_full_12  evi_comp_1  evi_comp_2  bf_comp_12\n",
       "0  -82.420279  -84.704454    2.284175  -19.265419  -21.546600    2.281181\n",
       "1  -80.544730  -81.717172    1.172442  -20.558593  -21.734029    1.175437\n",
       "2  -83.682457  -84.934056    1.251598  -19.557157  -20.800182    1.243024\n",
       "3  -73.943274  -73.424951   -0.518323  -19.813707  -19.289717   -0.523990\n",
       "4  -77.012398  -76.674773   -0.337625  -18.506041  -18.167783   -0.338258"
      ]
     },
     "execution_count": 5,
     "metadata": {},
     "output_type": "execute_result"
    }
   ],
   "source": [
    "df_nonlinear.head()"
   ]
  },
  {
   "cell_type": "code",
   "execution_count": 6,
   "metadata": {},
   "outputs": [
    {
     "data": {
      "image/png": "[encoded data removed]",
      "text/plain": [
       "<Figure size 1440x576 with 2 Axes>"
      ]
     },
     "metadata": {
      "needs_background": "light"
     },
     "output_type": "display_data"
    }
   ],
   "source": [
    "plot_evidence(df_nonlinear, compression=False, labels=labels, save=True, linear = False)"
   ]
  },
  {
   "cell_type": "code",
   "execution_count": 7,
   "metadata": {},
   "outputs": [
    {
     "data": {
      "image/png": "[encoded data removed]",
      "text/plain": [
       "<Figure size 1440x576 with 2 Axes>"
      ]
     },
     "metadata": {
      "needs_background": "light"
     },
     "output_type": "display_data"
    }
   ],
   "source": [
    "plot_evidence(df_nonlinear, compression=True, labels=labels, save=True, linear=False)"
   ]
  },
  {
   "cell_type": "code",
   "execution_count": 8,
   "metadata": {},
   "outputs": [
    {
     "data": {
      "image/png": "[encoded data removed]",
      "text/plain": [
       "<Figure size 576x576 with 1 Axes>"
      ]
     },
     "metadata": {
      "needs_background": "light"
     },
     "output_type": "display_data"
    }
   ],
   "source": [
    "plot_bf(df_nonlinear, linear=False, save=True)"
   ]
  },
  {
   "cell_type": "code",
   "execution_count": null,
   "metadata": {},
   "outputs": [],
   "source": []
  }
 ],
 "metadata": {
  "kernelspec": {
   "display_name": "Python 3",
   "language": "python",
   "name": "python3"
  },
  "language_info": {
   "codemirror_mode": {
    "name": "ipython",
    "version": 3
   },
   "file_extension": ".py",
   "mimetype": "text/x-python",
   "name": "python",
   "nbconvert_exporter": "python",
   "pygments_lexer": "ipython3",
   "version": "3.7.6"
  }
 },
 "nbformat": 4,
 "nbformat_minor": 4
}
