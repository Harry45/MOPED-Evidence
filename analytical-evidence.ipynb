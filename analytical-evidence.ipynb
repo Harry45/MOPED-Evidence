{
 "cells": [
  {
   "cell_type": "code",
   "execution_count": 1,
   "metadata": {},
   "outputs": [],
   "source": [
    "import torch\n",
    "import numpy as np \n",
    "import scipy.stats as ss \n",
    "import matplotlib.pylab as plt \n",
    "from scipy.optimize import minimize\n",
    "from torch.distributions.multivariate_normal import MultivariateNormal\n",
    "\n",
    "plt.rc('text', usetex=True)\n",
    "plt.rc('font',**{'family':'sans-serif','serif':['Palatino']})\n",
    "figSize  = (12, 8)\n",
    "fontSize = 20"
   ]
  },
  {
   "cell_type": "code",
   "execution_count": 2,
   "metadata": {},
   "outputs": [],
   "source": [
    "param1 = [-1.0, 4.0]\n",
    "param2 = [4.0, 0.75] # [-1.0, 4.0, 0.1] # [-1.0, 4.0] # \n",
    "nparam1 = len(param1)\n",
    "nparam2 = len(param2)\n",
    "priorwidth = 10.0\n",
    "priorcov1 = np.eye(nparam1) * priorwidth**2\n",
    "priorcov2 = np.eye(nparam2) * priorwidth**2\n",
    "\n",
    "minx = 0.0 \n",
    "maxx = np.pi \n",
    "ndata = 100\n",
    "domain = np.linspace(minx, maxx, ndata)\n",
    "grad1 =  np.vstack([domain**2, domain]).T\n",
    "# grad2 = np.vstack([domain**3, domain, np.ones(ndata)]).T\n",
    "\n",
    "gradient_param_0 = np.sin(param2[1] * domain)\n",
    "gradient_param_1 = param2[0] * domain * np.cos(param2[1] * domain)\n",
    "grad2 = np.vstack([gradient_param_0, gradient_param_1]).T\n",
    "         \n",
    "sigma = 0.20\n",
    "noise_cov = np.diag(np.ones(ndata)*sigma**2)"
   ]
  },
  {
   "cell_type": "code",
   "execution_count": 3,
   "metadata": {},
   "outputs": [],
   "source": [
    "def model_1(param, domain):\n",
    "    return param[0]*domain**2 + param[1]*domain\n",
    "\n",
    "def model_2(param, domain):\n",
    "    return param[0] * np.sin(param[1]*domain) # param[0]*domain**3 + param[1]*domain + param[2] #  "
   ]
  },
  {
   "cell_type": "code",
   "execution_count": 4,
   "metadata": {},
   "outputs": [],
   "source": [
    "mu_fid_1 = model_1(param1, domain)\n",
    "mu_fid_2 = model_2(param2, domain)\n",
    "data = mu_fid_1 + sigma*np.random.randn(ndata)"
   ]
  },
  {
   "cell_type": "code",
   "execution_count": 5,
   "metadata": {},
   "outputs": [
    {
     "data": {
      "image/png": "[encoded data removed]",
      "text/plain": [
       "<Figure size 720x720 with 1 Axes>"
      ]
     },
     "metadata": {
      "needs_background": "light"
     },
     "output_type": "display_data"
    }
   ],
   "source": [
    "plt.figure(figsize = (10, 10))\n",
    "plt.errorbar(domain, data, yerr=sigma, fmt = 'ro')\n",
    "plt.ylabel(r'$f(t)$', fontsize = fontSize)\n",
    "plt.xlabel(r'$t$', fontsize = fontSize)\n",
    "plt.tick_params(axis='x', labelsize=fontSize)\n",
    "plt.tick_params(axis='y', labelsize=fontSize)\n",
    "plt.show()"
   ]
  },
  {
   "cell_type": "code",
   "execution_count": 6,
   "metadata": {},
   "outputs": [],
   "source": [
    "def log_likelihood(parameters, data, domain, covariance, option=1):\n",
    "    if option == 1:\n",
    "        theory = model_1(parameters, domain)\n",
    "    else:\n",
    "        theory = model_2(parameters, domain)\n",
    "    diff = data - theory \n",
    "    return -0.5*diff @ np.linalg.inv(covariance) @ diff\n",
    "\n",
    "nll = lambda *args: -log_likelihood(*args)"
   ]
  },
  {
   "cell_type": "code",
   "execution_count": 7,
   "metadata": {},
   "outputs": [],
   "source": [
    "# convert numpy to torch tensor\n",
    "nt = lambda *array: torch.from_numpy(*array)"
   ]
  },
  {
   "cell_type": "code",
   "execution_count": 8,
   "metadata": {},
   "outputs": [],
   "source": [
    "soln_1 = minimize(nll, param1, args=(data, domain, noise_cov, 1))\n",
    "soln_2 = minimize(nll, param2, args=(data, domain, noise_cov, 2))"
   ]
  },
  {
   "cell_type": "code",
   "execution_count": 9,
   "metadata": {},
   "outputs": [
    {
     "data": {
      "text/plain": [
       "array([-0.96242879,  3.90583637])"
      ]
     },
     "execution_count": 9,
     "metadata": {},
     "output_type": "execute_result"
    }
   ],
   "source": [
    "soln_1.x"
   ]
  },
  {
   "cell_type": "code",
   "execution_count": 10,
   "metadata": {},
   "outputs": [
    {
     "data": {
      "text/plain": [
       "array([4.0677017 , 0.77616071])"
      ]
     },
     "execution_count": 10,
     "metadata": {},
     "output_type": "execute_result"
    }
   ],
   "source": [
    "soln_2.x"
   ]
  },
  {
   "cell_type": "code",
   "execution_count": 11,
   "metadata": {},
   "outputs": [],
   "source": [
    "mu_fid_1 = model_1(soln_1.x, domain)\n",
    "mu_fid_2 = model_2(soln_2.x, domain)"
   ]
  },
  {
   "cell_type": "markdown",
   "metadata": {},
   "source": [
    "### Full Data"
   ]
  },
  {
   "cell_type": "code",
   "execution_count": 12,
   "metadata": {},
   "outputs": [],
   "source": [
    "covdata1 = noise_cov + grad1 @ priorcov1 @ grad1.T\n",
    "covdata2 = noise_cov + grad2 @ priorcov2 @ grad2.T"
   ]
  },
  {
   "cell_type": "code",
   "execution_count": 13,
   "metadata": {},
   "outputs": [],
   "source": [
    "# to replace with torch\n",
    "evi1 = ss.multivariate_normal(mu_fid_1, covdata1)\n",
    "evi2 = ss.multivariate_normal(mu_fid_2, covdata2)"
   ]
  },
  {
   "cell_type": "code",
   "execution_count": 14,
   "metadata": {},
   "outputs": [
    {
     "data": {
      "text/plain": [
       "19.662315363886172"
      ]
     },
     "execution_count": 14,
     "metadata": {},
     "output_type": "execute_result"
    }
   ],
   "source": [
    "evi1.logpdf(data)"
   ]
  },
  {
   "cell_type": "code",
   "execution_count": 15,
   "metadata": {},
   "outputs": [
    {
     "data": {
      "text/plain": [
       "2.4479544025140214"
      ]
     },
     "execution_count": 15,
     "metadata": {},
     "output_type": "execute_result"
    }
   ],
   "source": [
    "evi2.logpdf(data)"
   ]
  },
  {
   "cell_type": "code",
   "execution_count": 16,
   "metadata": {},
   "outputs": [
    {
     "data": {
      "text/plain": [
       "17.21436096137215"
      ]
     },
     "execution_count": 16,
     "metadata": {},
     "output_type": "execute_result"
    }
   ],
   "source": [
    "evi1.logpdf(data) - evi2.logpdf(data)"
   ]
  },
  {
   "cell_type": "markdown",
   "metadata": {},
   "source": [
    "### Extended Matrices (Alan's Implementation)"
   ]
  },
  {
   "cell_type": "code",
   "execution_count": 17,
   "metadata": {},
   "outputs": [],
   "source": [
    "nparam_tot = nparam1 + nparam2"
   ]
  },
  {
   "cell_type": "code",
   "execution_count": 18,
   "metadata": {},
   "outputs": [],
   "source": [
    "b1_mat = np.linalg.inv(noise_cov) @ grad1\n",
    "b2_mat = np.linalg.inv(noise_cov) @ grad2"
   ]
  },
  {
   "cell_type": "code",
   "execution_count": 19,
   "metadata": {},
   "outputs": [],
   "source": [
    "b_mat_ex = np.concatenate([b1_mat, b2_mat], axis = 1)\n",
    "lam_ex = b_mat_ex.T @ noise_cov @ b_mat_ex"
   ]
  },
  {
   "cell_type": "code",
   "execution_count": 20,
   "metadata": {},
   "outputs": [],
   "source": [
    "lam_1_ex = lam_ex + b_mat_ex.T @ grad1 @ priorcov1 @ grad1.T @ b_mat_ex\n",
    "lam_2_ex = lam_ex + b_mat_ex.T @ grad2 @ priorcov2 @ grad2.T @ b_mat_ex"
   ]
  },
  {
   "cell_type": "code",
   "execution_count": 21,
   "metadata": {},
   "outputs": [],
   "source": [
    "ystar1 = np.concatenate([b1_mat.T @ (mu_fid_1-mu_fid_1), b2_mat.T @ (mu_fid_1-mu_fid_2)])\n",
    "ystar2 = np.concatenate([b1_mat.T @ (mu_fid_2-mu_fid_1), b2_mat.T @ (mu_fid_2-mu_fid_2)])"
   ]
  },
  {
   "cell_type": "code",
   "execution_count": 22,
   "metadata": {},
   "outputs": [],
   "source": [
    "jitter = 1E-3\n",
    "mu1 = torch.from_numpy(ystar1) \n",
    "mu2 = torch.from_numpy(ystar2)\n",
    "cov1 = nt(lam_1_ex + jitter * np.eye(nparam_tot))\n",
    "cov2 = nt(lam_2_ex + jitter * np.eye(nparam_tot))\n",
    "\n",
    "ex_comp_evi1 = MultivariateNormal(mu1, cov1)\n",
    "ex_comp_evi2 = MultivariateNormal(mu2, cov2)"
   ]
  },
  {
   "cell_type": "code",
   "execution_count": 23,
   "metadata": {},
   "outputs": [],
   "source": [
    "ycomp1 = b1_mat.T @ (data - mu_fid_1)\n",
    "ycomp2 = b2_mat.T @ (data - mu_fid_2) \n",
    "ycomp = np.concatenate([ycomp1, ycomp2])"
   ]
  },
  {
   "cell_type": "code",
   "execution_count": 24,
   "metadata": {},
   "outputs": [
    {
     "data": {
      "text/plain": [
       "tensor(-27.8172, dtype=torch.float64)"
      ]
     },
     "execution_count": 24,
     "metadata": {},
     "output_type": "execute_result"
    }
   ],
   "source": [
    "ex_comp_evi1.log_prob(nt(ycomp))"
   ]
  },
  {
   "cell_type": "code",
   "execution_count": 25,
   "metadata": {},
   "outputs": [
    {
     "data": {
      "text/plain": [
       "tensor(-45.0092, dtype=torch.float64)"
      ]
     },
     "execution_count": 25,
     "metadata": {},
     "output_type": "execute_result"
    }
   ],
   "source": [
    "ex_comp_evi2.log_prob(nt(ycomp))"
   ]
  },
  {
   "cell_type": "code",
   "execution_count": 26,
   "metadata": {},
   "outputs": [
    {
     "data": {
      "text/plain": [
       "tensor(17.1920, dtype=torch.float64)"
      ]
     },
     "execution_count": 26,
     "metadata": {},
     "output_type": "execute_result"
    }
   ],
   "source": [
    "ex_comp_evi1.log_prob(nt(ycomp)) - ex_comp_evi2.log_prob(nt(ycomp))"
   ]
  },
  {
   "cell_type": "markdown",
   "metadata": {},
   "source": [
    "# Repetitions"
   ]
  },
  {
   "cell_type": "code",
   "execution_count": 27,
   "metadata": {},
   "outputs": [],
   "source": [
    "record_full = list()\n",
    "record_comp = list()\n",
    "record_comp_alan = list()\n",
    "evi_1_full = list()\n",
    "evi_2_full = list()\n",
    "evi_1_comp_alan = list()\n",
    "evi_2_comp_alan = list()\n",
    "ntrials = 50000\n",
    "\n",
    "for i in range(ntrials):\n",
    "    data = mu_fid_1 + sigma*np.random.randn(ndata)\n",
    "\n",
    "    ycomp1 = b1_mat.T @ (data - mu_fid_1)\n",
    "    ycomp2 = b2_mat.T @ (data - mu_fid_2) \n",
    "    ex_ycomp = np.concatenate([ycomp1, ycomp2])\n",
    "\n",
    "    evi_1 = evi1.logpdf(data)\n",
    "    evi_2 = evi2.logpdf(data)\n",
    "    \n",
    "    evi_c_a_1 = ex_comp_evi1.log_prob(nt(ex_ycomp))\n",
    "    evi_c_a_2 = ex_comp_evi2.log_prob(nt(ex_ycomp))\n",
    "\n",
    "    evi_1_full.append(evi_1)\n",
    "    evi_2_full.append(evi_2)\n",
    "\n",
    "    evi_1_comp_alan.append(evi_c_a_1)\n",
    "    evi_2_comp_alan.append(evi_c_a_2)\n",
    "    \n",
    "    record_full.append(evi_1 - evi_2)\n",
    "    record_comp_alan.append(evi_c_a_1 - evi_c_a_2)"
   ]
  },
  {
   "cell_type": "code",
   "execution_count": 28,
   "metadata": {},
   "outputs": [
    {
     "data": {
      "image/png": "[encoded data removed]",
      "text/plain": [
       "<Figure size 576x576 with 1 Axes>"
      ]
     },
     "metadata": {
      "needs_background": "light"
     },
     "output_type": "display_data"
    }
   ],
   "source": [
    "plt.figure(figsize = (8,8))\n",
    "plt.title('No Compression', fontsize = fontSize)\n",
    "plt.hist(evi_1_full, density = True, edgecolor='b', linewidth=0.5, alpha = 0.2, label = 'Model 1')\n",
    "plt.hist(evi_2_full, density = True, edgecolor='r', linewidth=1.5, histtype='step', label = 'Model 2')\n",
    "plt.xlabel(r'$\\textrm{log Z}$', fontsize = fontSize, labelpad=20)\n",
    "plt.tick_params(axis='x', labelsize=fontSize)\n",
    "plt.tick_params(axis='y', labelsize=fontSize)\n",
    "plt.legend(loc = 'best',prop={'family':'sans-serif', 'size':15})\n",
    "plt.show()"
   ]
  },
  {
   "cell_type": "code",
   "execution_count": 29,
   "metadata": {},
   "outputs": [
    {
     "data": {
      "image/png": "[encoded data removed]",
      "text/plain": [
       "<Figure size 576x576 with 1 Axes>"
      ]
     },
     "metadata": {
      "needs_background": "light"
     },
     "output_type": "display_data"
    }
   ],
   "source": [
    "plt.figure(figsize = (8,8))\n",
    "plt.title('Compression', fontsize = fontSize)\n",
    "plt.hist(evi_1_comp_alan, density = True, edgecolor='b', linewidth=0.5, alpha = 0.2, label = 'Model 1')\n",
    "plt.hist(evi_2_comp_alan, density = True, edgecolor='r', linewidth=1.5, histtype='step', label = 'Model 2')\n",
    "plt.xlabel(r'$\\textrm{log Z}$', fontsize = fontSize, labelpad=20)\n",
    "plt.tick_params(axis='x', labelsize=fontSize)\n",
    "plt.tick_params(axis='y', labelsize=fontSize)\n",
    "plt.legend(loc = 'best',prop={'family':'sans-serif', 'size':15})\n",
    "plt.show()"
   ]
  },
  {
   "cell_type": "code",
   "execution_count": 30,
   "metadata": {},
   "outputs": [
    {
     "data": {
      "image/png": "[encoded data removed]",
      "text/plain": [
       "<Figure size 576x576 with 1 Axes>"
      ]
     },
     "metadata": {
      "needs_background": "light"
     },
     "output_type": "display_data"
    }
   ],
   "source": [
    "plt.figure(figsize = (8,8))\n",
    "plt.hist(record_full, density = True, edgecolor='b', linewidth=0.5, label = 'Full Data', alpha = 0.2)\n",
    "plt.hist(record_comp_alan, density = True, edgecolor='r', linewidth=1.5, label = 'Compressed Data', histtype='step')\n",
    "plt.xlabel(r'$\\textrm{log B}_{12}$', fontsize = fontSize, labelpad=20)\n",
    "plt.tick_params(axis='x', labelsize=fontSize)\n",
    "plt.tick_params(axis='y', labelsize=fontSize)\n",
    "plt.legend(loc = 'best',prop={'family':'sans-serif', 'size':15})\n",
    "plt.show()"
   ]
  },
  {
   "cell_type": "markdown",
   "metadata": {},
   "source": [
    "### Full data"
   ]
  },
  {
   "cell_type": "code",
   "execution_count": 31,
   "metadata": {},
   "outputs": [
    {
     "data": {
      "text/plain": [
       "(12.554439690825697, 4.949707072167047)"
      ]
     },
     "execution_count": 31,
     "metadata": {},
     "output_type": "execute_result"
    }
   ],
   "source": [
    "np.mean(record_full), np.std(record_full)"
   ]
  },
  {
   "cell_type": "markdown",
   "metadata": {},
   "source": [
    "### Alan"
   ]
  },
  {
   "cell_type": "code",
   "execution_count": 32,
   "metadata": {},
   "outputs": [
    {
     "data": {
      "text/plain": [
       "(12.538222715508116, 4.9431740074336545)"
      ]
     },
     "execution_count": 32,
     "metadata": {},
     "output_type": "execute_result"
    }
   ],
   "source": [
    "np.mean(record_comp_alan), np.std(record_comp_alan)"
   ]
  },
  {
   "cell_type": "code",
   "execution_count": null,
   "metadata": {},
   "outputs": [],
   "source": []
  }
 ],
 "metadata": {
  "kernelspec": {
   "display_name": "Python 3",
   "language": "python",
   "name": "python3"
  },
  "language_info": {
   "codemirror_mode": {
    "name": "ipython",
    "version": 3
   },
   "file_extension": ".py",
   "mimetype": "text/x-python",
   "name": "python",
   "nbconvert_exporter": "python",
   "pygments_lexer": "ipython3",
   "version": "3.7.6"
  }
 },
 "nbformat": 4,
 "nbformat_minor": 4
}
