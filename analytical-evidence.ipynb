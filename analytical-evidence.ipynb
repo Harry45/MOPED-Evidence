{
 "cells": [
  {
   "cell_type": "code",
   "execution_count": 77,
   "metadata": {},
   "outputs": [],
   "source": [
    "import numpy as np \n",
    "import scipy.stats as ss \n",
    "import matplotlib.pylab as plt \n",
    "\n",
    "plt.rc('text', usetex=True)\n",
    "plt.rc('font',**{'family':'sans-serif','serif':['Palatino']})\n",
    "figSize  = (12, 8)\n",
    "fontSize = 20"
   ]
  },
  {
   "cell_type": "markdown",
   "metadata": {},
   "source": [
    "### Assumptions\n",
    "\n",
    "- Model 2 is always the extended model."
   ]
  },
  {
   "cell_type": "code",
   "execution_count": 2,
   "metadata": {},
   "outputs": [],
   "source": [
    "param1 = [-1.0, 4.0]\n",
    "param2 = [4.0, 0.75] # [-1.0, 4.0, 0.1] # [-1.0, 4.0] # \n",
    "nparam1 = len(param1)\n",
    "nparam2 = len(param2)\n",
    "priorwidth = 10.0\n",
    "priorcov1 = np.eye(nparam1) * priorwidth\n",
    "priorcov2 = np.eye(nparam2) * priorwidth\n",
    "\n",
    "minx = 0.0 \n",
    "maxx = np.pi \n",
    "ndata = 100\n",
    "domain = np.linspace(minx, maxx, ndata)\n",
    "grad1 =  np.vstack([domain**2, domain]).T\n",
    "# grad2 = np.vstack([domain**3, domain, np.ones(ndata)]).T # \n",
    "\n",
    "gradient_param_0 = np.sin(param2[1] * domain)\n",
    "gradient_param_1 = param2[0] * domain * np.cos(param2[1] * domain)\n",
    "grad2 = np.vstack([gradient_param_0, gradient_param_1]).T\n",
    "        \n",
    "sigma = 0.2\n",
    "noise_cov = np.diag(np.ones(ndata)*sigma**2)"
   ]
  },
  {
   "cell_type": "code",
   "execution_count": 3,
   "metadata": {},
   "outputs": [],
   "source": [
    "def model_1(param, domain):\n",
    "    return param[0]*domain**2 + param[1]*domain\n",
    "\n",
    "def model_2(param, domain):\n",
    "    return param[0] * np.sin(param[1]*domain) # param[0]*domain**3 + param[1]*domain #    + param[2]"
   ]
  },
  {
   "cell_type": "code",
   "execution_count": 56,
   "metadata": {},
   "outputs": [],
   "source": [
    "mu_fid_1 = model_1(param1, domain)\n",
    "mu_fid_2 = model_2(param2, domain)\n",
    "data = mu_fid_1 + sigma*np.random.randn(ndata)\n",
    "X1 = data - mu_fid_1"
   ]
  },
  {
   "cell_type": "markdown",
   "metadata": {},
   "source": [
    "### Full Data"
   ]
  },
  {
   "cell_type": "code",
   "execution_count": 57,
   "metadata": {},
   "outputs": [],
   "source": [
    "covdata1 = noise_cov + grad1 @ priorcov1 @ grad1.T\n",
    "covdata2 = noise_cov + grad2 @ priorcov2 @ grad2.T"
   ]
  },
  {
   "cell_type": "code",
   "execution_count": 58,
   "metadata": {},
   "outputs": [],
   "source": [
    "evi1 = ss.multivariate_normal(np.zeros(ndata), covdata1)\n",
    "evi2 = ss.multivariate_normal(np.zeros(ndata), covdata2)"
   ]
  },
  {
   "cell_type": "code",
   "execution_count": 59,
   "metadata": {},
   "outputs": [
    {
     "data": {
      "text/plain": [
       "22.083473873034514"
      ]
     },
     "execution_count": 59,
     "metadata": {},
     "output_type": "execute_result"
    }
   ],
   "source": [
    "evi1.logpdf(X1)"
   ]
  },
  {
   "cell_type": "code",
   "execution_count": 60,
   "metadata": {},
   "outputs": [
    {
     "data": {
      "text/plain": [
       "21.804515056623508"
      ]
     },
     "execution_count": 60,
     "metadata": {},
     "output_type": "execute_result"
    }
   ],
   "source": [
    "evi2.logpdf(X1)"
   ]
  },
  {
   "cell_type": "code",
   "execution_count": 61,
   "metadata": {},
   "outputs": [
    {
     "data": {
      "text/plain": [
       "0.27895881641100573"
      ]
     },
     "execution_count": 61,
     "metadata": {},
     "output_type": "execute_result"
    }
   ],
   "source": [
    "evi1.logpdf(X1) - evi2.logpdf(X1)"
   ]
  },
  {
   "cell_type": "markdown",
   "metadata": {},
   "source": [
    "### Compression"
   ]
  },
  {
   "cell_type": "code",
   "execution_count": 62,
   "metadata": {},
   "outputs": [],
   "source": [
    "b1_mat = np.linalg.inv(noise_cov) @ grad1\n",
    "b2_mat = np.linalg.inv(noise_cov) @ grad2"
   ]
  },
  {
   "cell_type": "code",
   "execution_count": 63,
   "metadata": {},
   "outputs": [],
   "source": [
    "lambda_1 = b1_mat.T @ noise_cov @ b1_mat\n",
    "lambda_2 = b2_mat.T @ noise_cov @ b2_mat"
   ]
  },
  {
   "cell_type": "code",
   "execution_count": 64,
   "metadata": {},
   "outputs": [],
   "source": [
    "cov_comp_2 = lambda_2 + lambda_2 @ priorcov2 @ lambda_2\n",
    "\n",
    "# modified covariance for first model \n",
    "wmat = grad2.T @ np.linalg.inv(noise_cov) @ grad1\n",
    "cov_comp_1 = lambda_2 + wmat @ priorcov1 @ wmat.T"
   ]
  },
  {
   "cell_type": "code",
   "execution_count": 65,
   "metadata": {},
   "outputs": [],
   "source": [
    "ycomp = b2_mat.T @ X1"
   ]
  },
  {
   "cell_type": "code",
   "execution_count": 66,
   "metadata": {},
   "outputs": [],
   "source": [
    "comp_evi1 = ss.multivariate_normal(np.zeros(nparam2), cov_comp_1)\n",
    "comp_evi2 = ss.multivariate_normal(np.zeros(nparam2), cov_comp_2)"
   ]
  },
  {
   "cell_type": "code",
   "execution_count": 67,
   "metadata": {},
   "outputs": [
    {
     "data": {
      "text/plain": [
       "-21.445278799889596"
      ]
     },
     "execution_count": 67,
     "metadata": {},
     "output_type": "execute_result"
    }
   ],
   "source": [
    "comp_evi1.logpdf(ycomp)"
   ]
  },
  {
   "cell_type": "code",
   "execution_count": 68,
   "metadata": {},
   "outputs": [
    {
     "data": {
      "text/plain": [
       "-21.69792408356197"
      ]
     },
     "execution_count": 68,
     "metadata": {},
     "output_type": "execute_result"
    }
   ],
   "source": [
    "comp_evi2.logpdf(ycomp)"
   ]
  },
  {
   "cell_type": "code",
   "execution_count": 69,
   "metadata": {},
   "outputs": [
    {
     "data": {
      "text/plain": [
       "0.25264528367237205"
      ]
     },
     "execution_count": 69,
     "metadata": {},
     "output_type": "execute_result"
    }
   ],
   "source": [
    "comp_evi1.logpdf(ycomp) - comp_evi2.logpdf(ycomp)"
   ]
  },
  {
   "cell_type": "markdown",
   "metadata": {},
   "source": [
    "# Repetitions"
   ]
  },
  {
   "cell_type": "code",
   "execution_count": 70,
   "metadata": {},
   "outputs": [],
   "source": [
    "record_full = list()\n",
    "record_comp = list()\n",
    "ntrials = 5000\n",
    "\n",
    "for i in range(ntrials):\n",
    "    data = mu_fid_1 + sigma*np.random.randn(ndata)\n",
    "    X1 = data - mu_fid_1\n",
    "    ycomp = b2_mat.T @ X1\n",
    "    record_full.append(evi1.logpdf(X1) - evi2.logpdf(X1))\n",
    "    record_comp.append(comp_evi1.logpdf(ycomp) - comp_evi2.logpdf(ycomp))"
   ]
  },
  {
   "cell_type": "code",
   "execution_count": 79,
   "metadata": {},
   "outputs": [
    {
     "data": {
      "image/png": "[encoded data removed]",
      "text/plain": [
       "<Figure size 1152x576 with 2 Axes>"
      ]
     },
     "metadata": {
      "needs_background": "light"
     },
     "output_type": "display_data"
    }
   ],
   "source": [
    "plt.figure(figsize = (16,8))\n",
    "plt.subplot(121)\n",
    "plt.hist(record_full, density = True, edgecolor='b', linewidth=0.5, label = 'Full Data', alpha = 0.2)\n",
    "plt.xlabel(r'$\\textrm{log B}_{12}$', fontsize = fontSize, labelpad=20)\n",
    "plt.tick_params(axis='x', labelsize=fontSize)\n",
    "plt.tick_params(axis='y', labelsize=fontSize)\n",
    "plt.subplot(122)\n",
    "plt.hist(record_comp, density = True, edgecolor='r', linewidth=1.5, label = 'Compressed Data', histtype='step')\n",
    "plt.xlabel(r'$\\textrm{log B}_{12}$', fontsize = fontSize, labelpad=20)\n",
    "plt.tick_params(axis='x', labelsize=fontSize)\n",
    "plt.tick_params(axis='y', labelsize=fontSize)\n",
    "plt.show()"
   ]
  },
  {
   "cell_type": "code",
   "execution_count": 72,
   "metadata": {},
   "outputs": [
    {
     "data": {
      "text/plain": [
       "(0.2508006167180772, 0.06280558287093481)"
      ]
     },
     "execution_count": 72,
     "metadata": {},
     "output_type": "execute_result"
    }
   ],
   "source": [
    "np.mean(record_full), np.std(record_full)"
   ]
  },
  {
   "cell_type": "code",
   "execution_count": 73,
   "metadata": {},
   "outputs": [
    {
     "data": {
      "text/plain": [
       "(0.25253860582771903, 0.00014376767156397047)"
      ]
     },
     "execution_count": 73,
     "metadata": {},
     "output_type": "execute_result"
    }
   ],
   "source": [
    "np.mean(record_comp), np.std(record_comp)"
   ]
  },
  {
   "cell_type": "code",
   "execution_count": null,
   "metadata": {},
   "outputs": [],
   "source": []
  },
  {
   "cell_type": "code",
   "execution_count": null,
   "metadata": {},
   "outputs": [],
   "source": []
  }
 ],
 "metadata": {
  "kernelspec": {
   "display_name": "Python 3",
   "language": "python",
   "name": "python3"
  },
  "language_info": {
   "codemirror_mode": {
    "name": "ipython",
    "version": 3
   },
   "file_extension": ".py",
   "mimetype": "text/x-python",
   "name": "python",
   "nbconvert_exporter": "python",
   "pygments_lexer": "ipython3",
   "version": "3.7.6"
  }
 },
 "nbformat": 4,
 "nbformat_minor": 4
}
