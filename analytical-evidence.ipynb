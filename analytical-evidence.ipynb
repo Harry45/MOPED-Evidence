{
 "cells": [
  {
   "cell_type": "code",
   "execution_count": 77,
   "metadata": {},
   "outputs": [],
   "source": [
    "import numpy as np \n",
    "import scipy.stats as ss \n",
    "import matplotlib.pylab as plt \n",
    "\n",
    "plt.rc('text', usetex=True)\n",
    "plt.rc('font',**{'family':'sans-serif','serif':['Palatino']})\n",
    "figSize  = (12, 8)\n",
    "fontSize = 20"
   ]
  },
  {
   "cell_type": "markdown",
   "metadata": {},
   "source": [
    "### Assumptions\n",
    "\n",
    "- Model 2 is always the extended model."
   ]
  },
  {
   "cell_type": "code",
   "execution_count": 348,
   "metadata": {},
   "outputs": [],
   "source": [
    "param1 = [-1.0, 4.0]\n",
    "param2 = [4.0, 0.75] # [-1.0, 4.0, 0.1] # [-1.0, 4.0] # \n",
    "nparam1 = len(param1)\n",
    "nparam2 = len(param2)\n",
    "priorwidth = 10.0\n",
    "priorcov1 = np.eye(nparam1) * priorwidth\n",
    "priorcov2 = np.eye(nparam2) * priorwidth\n",
    "\n",
    "minx = 0.0 \n",
    "maxx = np.pi \n",
    "ndata = 100\n",
    "domain = np.linspace(minx, maxx, ndata)\n",
    "grad1 =  np.vstack([domain**2, domain]).T\n",
    "# grad2 = np.vstack([domain**3, domain, np.ones(ndata)]).T # \n",
    "\n",
    "gradient_param_0 = np.sin(param2[1] * domain)\n",
    "gradient_param_1 = param2[0] * domain * np.cos(param2[1] * domain)\n",
    "grad2 = np.vstack([gradient_param_0, gradient_param_1]).T\n",
    "        \n",
    "sigma = 1.0\n",
    "noise_cov = np.diag(np.ones(ndata)*sigma**2)"
   ]
  },
  {
   "cell_type": "code",
   "execution_count": 349,
   "metadata": {},
   "outputs": [],
   "source": [
    "def model_1(param, domain):\n",
    "    return param[0]*domain**2 + param[1]*domain\n",
    "\n",
    "def model_2(param, domain):\n",
    "    return param[0] * np.sin(param[1]*domain) # param[0]*domain**3 + param[1]*domain #    + param[2]"
   ]
  },
  {
   "cell_type": "code",
   "execution_count": 350,
   "metadata": {},
   "outputs": [],
   "source": [
    "mu_fid_1 = model_1(param1, domain)\n",
    "data = mu_fid_1 + sigma*np.random.randn(ndata)\n",
    "X1 = data - mu_fid_1"
   ]
  },
  {
   "cell_type": "markdown",
   "metadata": {},
   "source": [
    "### Full Data"
   ]
  },
  {
   "cell_type": "code",
   "execution_count": 351,
   "metadata": {},
   "outputs": [],
   "source": [
    "covdata1 = noise_cov + grad1 @ priorcov1 @ grad1.T\n",
    "covdata2 = noise_cov + grad2 @ priorcov2 @ grad2.T"
   ]
  },
  {
   "cell_type": "code",
   "execution_count": 352,
   "metadata": {},
   "outputs": [],
   "source": [
    "evi1 = ss.multivariate_normal(np.zeros(ndata), covdata1)\n",
    "evi2 = ss.multivariate_normal(np.zeros(ndata), covdata2)"
   ]
  },
  {
   "cell_type": "code",
   "execution_count": 353,
   "metadata": {},
   "outputs": [
    {
     "data": {
      "text/plain": [
       "-146.61368794483406"
      ]
     },
     "execution_count": 353,
     "metadata": {},
     "output_type": "execute_result"
    }
   ],
   "source": [
    "evi1.logpdf(X1)"
   ]
  },
  {
   "cell_type": "code",
   "execution_count": 354,
   "metadata": {},
   "outputs": [
    {
     "data": {
      "text/plain": [
       "-146.90587433331396"
      ]
     },
     "execution_count": 354,
     "metadata": {},
     "output_type": "execute_result"
    }
   ],
   "source": [
    "evi2.logpdf(X1)"
   ]
  },
  {
   "cell_type": "code",
   "execution_count": 355,
   "metadata": {},
   "outputs": [
    {
     "data": {
      "text/plain": [
       "0.2921863884799052"
      ]
     },
     "execution_count": 355,
     "metadata": {},
     "output_type": "execute_result"
    }
   ],
   "source": [
    "evi1.logpdf(X1) - evi2.logpdf(X1)"
   ]
  },
  {
   "cell_type": "markdown",
   "metadata": {},
   "source": [
    "### Compression"
   ]
  },
  {
   "cell_type": "code",
   "execution_count": 356,
   "metadata": {},
   "outputs": [],
   "source": [
    "b1_mat = np.linalg.inv(noise_cov) @ grad1\n",
    "b2_mat = np.linalg.inv(noise_cov) @ grad2"
   ]
  },
  {
   "cell_type": "code",
   "execution_count": 357,
   "metadata": {},
   "outputs": [],
   "source": [
    "lambda_1 = b1_mat.T @ noise_cov @ b1_mat\n",
    "lambda_2 = b2_mat.T @ noise_cov @ b2_mat"
   ]
  },
  {
   "cell_type": "code",
   "execution_count": 358,
   "metadata": {},
   "outputs": [],
   "source": [
    "# cov_comp_1 = lambda_1 + lambda_1 @ priorcov1 @ lambda_1\n",
    "cov_comp_2 = lambda_2 + lambda_2 @ priorcov2 @ lambda_2\n",
    "\n",
    "# modified covariance for first model \n",
    "wmat = grad2.T @ np.linalg.inv(noise_cov) @ grad1\n",
    "cov_comp_1 = lambda_2 + wmat @ priorcov1 @ wmat.T"
   ]
  },
  {
   "cell_type": "code",
   "execution_count": 359,
   "metadata": {},
   "outputs": [],
   "source": [
    "ycomp = b2_mat.T @ X1"
   ]
  },
  {
   "cell_type": "code",
   "execution_count": 360,
   "metadata": {},
   "outputs": [],
   "source": [
    "comp_evi1 = ss.multivariate_normal(np.zeros(nparam2), cov_comp_1)\n",
    "comp_evi2 = ss.multivariate_normal(np.zeros(nparam2), cov_comp_2)"
   ]
  },
  {
   "cell_type": "code",
   "execution_count": 361,
   "metadata": {},
   "outputs": [
    {
     "data": {
      "text/plain": [
       "-15.010429653302932"
      ]
     },
     "execution_count": 361,
     "metadata": {},
     "output_type": "execute_result"
    }
   ],
   "source": [
    "comp_evi1.logpdf(ycomp)"
   ]
  },
  {
   "cell_type": "code",
   "execution_count": 362,
   "metadata": {},
   "outputs": [
    {
     "data": {
      "text/plain": [
       "-15.263488261135727"
      ]
     },
     "execution_count": 362,
     "metadata": {},
     "output_type": "execute_result"
    }
   ],
   "source": [
    "comp_evi2.logpdf(ycomp)"
   ]
  },
  {
   "cell_type": "code",
   "execution_count": 363,
   "metadata": {},
   "outputs": [
    {
     "data": {
      "text/plain": [
       "0.253058607832795"
      ]
     },
     "execution_count": 363,
     "metadata": {},
     "output_type": "execute_result"
    }
   ],
   "source": [
    "comp_evi1.logpdf(ycomp) - comp_evi2.logpdf(ycomp)"
   ]
  },
  {
   "cell_type": "markdown",
   "metadata": {},
   "source": [
    "### Extended Matrices"
   ]
  },
  {
   "cell_type": "code",
   "execution_count": 364,
   "metadata": {},
   "outputs": [],
   "source": [
    "from scipy.linalg import block_diag"
   ]
  },
  {
   "cell_type": "code",
   "execution_count": 365,
   "metadata": {},
   "outputs": [],
   "source": [
    "nparam_tot = nparam1 + nparam2"
   ]
  },
  {
   "cell_type": "code",
   "execution_count": 366,
   "metadata": {},
   "outputs": [],
   "source": [
    "b_mat_ex = np.concatenate([b1_mat, b2_mat], axis = 1)\n",
    "grad_ex = np.concatenate([grad1, grad2], axis = 1)\n",
    "lam_ex = grad_ex.T @ np.linalg.inv(noise_cov) @ grad_ex"
   ]
  },
  {
   "cell_type": "code",
   "execution_count": 367,
   "metadata": {},
   "outputs": [],
   "source": [
    "lam_1_ex = lam_ex + b_mat_ex.T @ grad1 @ priorcov1 @ grad1.T @ b_mat_ex\n",
    "lam_2_ex = lam_ex + b_mat_ex.T @ grad2 @ priorcov2 @ grad2.T @ b_mat_ex"
   ]
  },
  {
   "cell_type": "code",
   "execution_count": 368,
   "metadata": {},
   "outputs": [],
   "source": [
    "ex_comp_evi1 = ss.multivariate_normal(np.zeros(nparam_tot), lam_1_ex, allow_singular=True)\n",
    "ex_comp_evi2 = ss.multivariate_normal(np.zeros(nparam_tot), lam_2_ex, allow_singular=True)"
   ]
  },
  {
   "cell_type": "code",
   "execution_count": 369,
   "metadata": {},
   "outputs": [],
   "source": [
    "ex_ycomp = b_mat_ex.T @ X1"
   ]
  },
  {
   "cell_type": "code",
   "execution_count": 370,
   "metadata": {},
   "outputs": [
    {
     "data": {
      "text/plain": [
       "-16.024593658125532"
      ]
     },
     "execution_count": 370,
     "metadata": {},
     "output_type": "execute_result"
    }
   ],
   "source": [
    "ex_comp_evi1.logpdf(ex_ycomp)"
   ]
  },
  {
   "cell_type": "code",
   "execution_count": 371,
   "metadata": {},
   "outputs": [
    {
     "data": {
      "text/plain": [
       "-16.31678004242146"
      ]
     },
     "execution_count": 371,
     "metadata": {},
     "output_type": "execute_result"
    }
   ],
   "source": [
    "ex_comp_evi2.logpdf(ex_ycomp)"
   ]
  },
  {
   "cell_type": "code",
   "execution_count": 372,
   "metadata": {},
   "outputs": [
    {
     "data": {
      "text/plain": [
       "0.2921863842959276"
      ]
     },
     "execution_count": 372,
     "metadata": {},
     "output_type": "execute_result"
    }
   ],
   "source": [
    "ex_comp_evi1.logpdf(ex_ycomp) - ex_comp_evi2.logpdf(ex_ycomp)"
   ]
  },
  {
   "cell_type": "markdown",
   "metadata": {},
   "source": [
    "# Repetitions"
   ]
  },
  {
   "cell_type": "code",
   "execution_count": 379,
   "metadata": {},
   "outputs": [],
   "source": [
    "record_full = list()\n",
    "record_comp = list()\n",
    "record_comp_alan = list()\n",
    "evi_1_full = list()\n",
    "evi_2_full = list()\n",
    "evi_1_comp = list()\n",
    "evi_2_comp = list()\n",
    "evi_1_comp_alan = list()\n",
    "evi_2_comp_alan = list()\n",
    "ntrials = 5000\n",
    "\n",
    "for i in range(ntrials):\n",
    "    data = mu_fid_1 + sigma*np.random.randn(ndata)\n",
    "    X1 = data - mu_fid_1\n",
    "    ycomp = b2_mat.T @ X1\n",
    "    ex_ycomp = b_mat_ex.T @ X1\n",
    "    \n",
    "    evi_1 = evi1.logpdf(X1)\n",
    "    evi_2 = evi2.logpdf(X1)\n",
    "    evi_c_1 = comp_evi1.logpdf(ycomp)\n",
    "    evi_c_2 = comp_evi2.logpdf(ycomp)\n",
    "    \n",
    "    evi_c_a_1 = ex_comp_evi1.logpdf(ex_ycomp)\n",
    "    evi_c_a_2 = ex_comp_evi2.logpdf(ex_ycomp)\n",
    "\n",
    "    evi_1_full.append(evi_1)\n",
    "    evi_2_full.append(evi_2)\n",
    "    evi_1_comp.append(evi_c_1)\n",
    "    evi_2_comp.append(evi_c_2)\n",
    "    evi_1_comp_alan.append(evi_c_a_1)\n",
    "    evi_2_comp_alan.append(evi_c_a_2)\n",
    "    \n",
    "    record_full.append(evi_1 - evi_2)\n",
    "    record_comp.append(evi_c_1 - evi_c_2)\n",
    "    record_comp_alan.append(evi_c_a_1 - evi_c_a_2)"
   ]
  },
  {
   "cell_type": "code",
   "execution_count": 374,
   "metadata": {},
   "outputs": [
    {
     "data": {
      "image/png": "[encoded data removed]",
      "text/plain": [
       "<Figure size 1152x576 with 2 Axes>"
      ]
     },
     "metadata": {
      "needs_background": "light"
     },
     "output_type": "display_data"
    }
   ],
   "source": [
    "plt.figure(figsize = (16,8))\n",
    "plt.subplot(121)\n",
    "plt.hist(evi_1_full, density = True, edgecolor='b', linewidth=0.5, label = 'Full Data', alpha = 0.2)\n",
    "plt.xlabel(r'$\\textrm{log Z}_{1}$', fontsize = fontSize, labelpad=20)\n",
    "plt.tick_params(axis='x', labelsize=fontSize)\n",
    "plt.tick_params(axis='y', labelsize=fontSize)\n",
    "plt.subplot(122)\n",
    "plt.hist(evi_2_full, density = True, edgecolor='r', linewidth=1.5, label = 'Compressed Data', histtype='step')\n",
    "plt.xlabel(r'$\\textrm{log Z}_{2}$', fontsize = fontSize, labelpad=20)\n",
    "plt.tick_params(axis='x', labelsize=fontSize)\n",
    "plt.tick_params(axis='y', labelsize=fontSize)\n",
    "plt.show()"
   ]
  },
  {
   "cell_type": "code",
   "execution_count": 380,
   "metadata": {},
   "outputs": [
    {
     "data": {
      "image/png": "[encoded data removed]",
      "text/plain": [
       "<Figure size 1440x576 with 2 Axes>"
      ]
     },
     "metadata": {
      "needs_background": "light"
     },
     "output_type": "display_data"
    }
   ],
   "source": [
    "plt.figure(figsize = (20,8))\n",
    "plt.subplot(121)\n",
    "# plt.hist(evi_1_comp, density = True, edgecolor='b', linewidth=0.5, label = 'Full Data', alpha = 0.2)\n",
    "plt.hist(evi_1_comp_alan, density = True, edgecolor='b', linewidth=0.5, label = 'Full Data', alpha = 0.2)\n",
    "plt.xlabel(r'$\\textrm{log Z}_{1}$', fontsize = fontSize, labelpad=20)\n",
    "plt.tick_params(axis='x', labelsize=fontSize)\n",
    "plt.tick_params(axis='y', labelsize=fontSize)\n",
    "plt.subplot(122)\n",
    "# plt.hist(evi_2_comp, density = True, edgecolor='r', linewidth=1.5, label = 'Compressed Data', histtype='step')\n",
    "plt.hist(evi_2_comp_alan, density = True, edgecolor='r', linewidth=1.5, label = 'Compressed Data', histtype='step')\n",
    "plt.xlabel(r'$\\textrm{log Z}_{2}$', fontsize = fontSize, labelpad=20)\n",
    "plt.tick_params(axis='x', labelsize=fontSize)\n",
    "plt.tick_params(axis='y', labelsize=fontSize)\n",
    "plt.show()"
   ]
  },
  {
   "cell_type": "code",
   "execution_count": 376,
   "metadata": {},
   "outputs": [
    {
     "data": {
      "image/png": "[encoded data removed]",
      "text/plain": [
       "<Figure size 1152x576 with 2 Axes>"
      ]
     },
     "metadata": {
      "needs_background": "light"
     },
     "output_type": "display_data"
    }
   ],
   "source": [
    "plt.figure(figsize = (16,8))\n",
    "plt.subplot(121)\n",
    "plt.hist(record_full, density = True, edgecolor='b', linewidth=0.5, label = 'Full Data', alpha = 0.2)\n",
    "plt.xlabel(r'$\\textrm{log B}_{12}$', fontsize = fontSize, labelpad=20)\n",
    "plt.tick_params(axis='x', labelsize=fontSize)\n",
    "plt.tick_params(axis='y', labelsize=fontSize)\n",
    "plt.subplot(122)\n",
    "plt.hist(record_comp, density = True, edgecolor='r', linewidth=1.5, label = 'Compressed Data', histtype='step')\n",
    "plt.xlabel(r'$\\textrm{log B}_{12}$', fontsize = fontSize, labelpad=20)\n",
    "plt.tick_params(axis='x', labelsize=fontSize)\n",
    "plt.tick_params(axis='y', labelsize=fontSize)\n",
    "plt.show()"
   ]
  },
  {
   "cell_type": "code",
   "execution_count": 381,
   "metadata": {},
   "outputs": [
    {
     "data": {
      "image/png": "[encoded data removed]",
      "text/plain": [
       "<Figure size 576x576 with 1 Axes>"
      ]
     },
     "metadata": {
      "needs_background": "light"
     },
     "output_type": "display_data"
    }
   ],
   "source": [
    "plt.figure(figsize = (8,8))\n",
    "plt.hist(record_full, density = True, edgecolor='b', linewidth=0.5, label = 'Full Data', alpha = 0.2)\n",
    "plt.hist(record_comp_alan, density = True, edgecolor='r', linewidth=1.5, label = 'Compressed Data', histtype='step')\n",
    "plt.xlabel(r'$\\textrm{log B}_{12}$', fontsize = fontSize, labelpad=20)\n",
    "plt.tick_params(axis='x', labelsize=fontSize)\n",
    "plt.tick_params(axis='y', labelsize=fontSize)\n",
    "plt.show()"
   ]
  },
  {
   "cell_type": "markdown",
   "metadata": {},
   "source": [
    "### Full data"
   ]
  },
  {
   "cell_type": "code",
   "execution_count": 382,
   "metadata": {},
   "outputs": [
    {
     "data": {
      "text/plain": [
       "(0.24669383588144733, 0.061171326678351595)"
      ]
     },
     "execution_count": 382,
     "metadata": {},
     "output_type": "execute_result"
    }
   ],
   "source": [
    "np.mean(record_full), np.std(record_full)"
   ]
  },
  {
   "cell_type": "markdown",
   "metadata": {},
   "source": [
    "### Using one of the models (extended)"
   ]
  },
  {
   "cell_type": "code",
   "execution_count": 383,
   "metadata": {},
   "outputs": [
    {
     "data": {
      "text/plain": [
       "(0.2488523875857691, 0.0037004184188151245)"
      ]
     },
     "execution_count": 383,
     "metadata": {},
     "output_type": "execute_result"
    }
   ],
   "source": [
    "np.mean(record_comp), np.std(record_comp)"
   ]
  },
  {
   "cell_type": "markdown",
   "metadata": {},
   "source": [
    "### Alan"
   ]
  },
  {
   "cell_type": "code",
   "execution_count": 384,
   "metadata": {},
   "outputs": [
    {
     "data": {
      "text/plain": [
       "(0.24669383432604408, 0.06117132595591677)"
      ]
     },
     "execution_count": 384,
     "metadata": {},
     "output_type": "execute_result"
    }
   ],
   "source": [
    "np.mean(record_comp_alan), np.std(record_comp_alan)"
   ]
  },
  {
   "cell_type": "code",
   "execution_count": null,
   "metadata": {},
   "outputs": [],
   "source": []
  }
 ],
 "metadata": {
  "kernelspec": {
   "display_name": "Python 3",
   "language": "python",
   "name": "python3"
  },
  "language_info": {
   "codemirror_mode": {
    "name": "ipython",
    "version": 3
   },
   "file_extension": ".py",
   "mimetype": "text/x-python",
   "name": "python",
   "nbconvert_exporter": "python",
   "pygments_lexer": "ipython3",
   "version": "3.7.6"
  }
 },
 "nbformat": 4,
 "nbformat_minor": 4
}
