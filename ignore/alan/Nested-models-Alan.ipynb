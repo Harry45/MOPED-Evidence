{
 "cells": [
  {
   "cell_type": "code",
   "execution_count": 1,
   "metadata": {},
   "outputs": [],
   "source": [
    "import numpy as np \n",
    "import matplotlib.pylab as plt \n",
    "from scipy.integrate import dblquad, tplquad\n",
    "from getdist import plots, MCSamples\n",
    "import getdist\n",
    "import torch \n",
    "import warnings\n",
    "warnings.filterwarnings('ignore')\n",
    "\n",
    "plt.rc('text', usetex=True)\n",
    "plt.rc('font',**{'family':'sans-serif','serif':['Palatino']})\n",
    "figSize  = (12, 8)\n",
    "fontSize = 20\n",
    "\n",
    "plt.rc('xtick', labelsize=20) \n",
    "plt.rc('ytick', labelsize=20) "
   ]
  },
  {
   "cell_type": "markdown",
   "metadata": {},
   "source": [
    "# Models \n",
    "\n",
    "$$\\mathcal{M}_{0}: y = A \\sin(wx)$$\n",
    "\n",
    "$$\\mathcal{M}_{1}: y= ax^{2}+bx$$\n",
    "\n",
    "$\\mathcal{M}_{0}$ is not nested in $\\mathcal{M}_{1}$. \n",
    "\n",
    "**Steps**\n",
    "\n",
    "- Generate data using $\\mathcal{M}_{0}$.\n",
    "- Compute evidence analytically. \n",
    "- Compute evidence numerically. \n",
    "- Compute Bayes Factor. \n",
    "- Repeat 2-4 with the compression scheme. "
   ]
  },
  {
   "cell_type": "code",
   "execution_count": 2,
   "metadata": {},
   "outputs": [],
   "source": [
    "def model_0(xvalues: torch.Tensor, parameters: torch.Tensor) -> torch.Tensor:\n",
    "    \n",
    "    output = parameters[0]*xvalues**2 + parameters[1]*xvalues\n",
    "    output = output.to(torch.float64)\n",
    "    return output\n",
    "\n",
    "def model_1(xvalues: torch.Tensor, parameters: torch.Tensor) -> torch.Tensor:\n",
    "    \n",
    "    output = parameters[0]*xvalues**2 + parameters[1]*xvalues + parameters[2]\n",
    "    output = output.to(torch.float64)\n",
    "    return output"
   ]
  },
  {
   "cell_type": "code",
   "execution_count": 3,
   "metadata": {},
   "outputs": [],
   "source": [
    "def Z0(Y1: torch.Tensor, design_0: torch.Tensor, B1: torch.Tensor, \\\n",
    "       Lambda1: torch.Tensor, Sigma0: torch.Tensor, \\\n",
    "       mustar_0: torch.Tensor, mustar_1: torch.Tensor) -> torch.Tensor:\n",
    "    \n",
    "    Z0debug = False\n",
    "    \n",
    "    Ybarstar  = B1.t() @ (mustar_0-mustar_1)\n",
    "\n",
    "    Psi = Lambda1+B1.t() @ design_0 @ Sigma0 @ design_0.t() @ B1\n",
    "    ZZ_pdf_Psi = torch.distributions.multivariate_normal.MultivariateNormal \\\n",
    "    (Ybarstar, Psi)\n",
    "    \n",
    "    logZ0 = ZZ_pdf_Psi.log_prob(Y1).item()\n",
    "\n",
    "    if(Z0debug):\n",
    "\n",
    "#        print('Lambda1:',Lambda1)\n",
    "#        print('Psi:',Psi)\n",
    "        print('Y1:',Y1)\n",
    "#        print('Ybarstar:',Ybarstar)\n",
    "#        print('B1:',B1)\n",
    "#        print('Sigma0:',Sigma0)\n",
    "#        print('design_0:',design_0)\n",
    "    \n",
    "        print(-0.5*np.log(np.linalg.det(2.*np.pi*Psi)))\n",
    "        print('logZ0 (new):',logZ0)\n",
    "\n",
    "    return logZ0"
   ]
  },
  {
   "cell_type": "code",
   "execution_count": 4,
   "metadata": {},
   "outputs": [
    {
     "name": "stdout",
     "output_type": "stream",
     "text": [
      "Results/Nested_-10_40_10_-10_40_0_5_10_10\n"
     ]
    }
   ],
   "source": [
    "xmin = 0.1\n",
    "xmax = torch.pi\n",
    "ndata = 10\n",
    "xvals = torch.linspace(xmin, xmax, ndata)\n",
    "\n",
    "# True parameters:\n",
    "\n",
    "a_param = -1.0\n",
    "b_param = 4.0\n",
    "c_param = 1.0\n",
    "\n",
    "# Fiducial parameters:\n",
    " \n",
    "a_fid = -1.0\n",
    "b_fid = 4.0\n",
    "c_fid = 0.0\n",
    "\n",
    "# model 0\n",
    "m0_parameters = torch.tensor([a_param, b_param])\n",
    "m0_function = model_0(xvals, m0_parameters)\n",
    "\n",
    "# model 1\n",
    "m1_parameters = torch.tensor([a_param, b_param, c_param])\n",
    "m1_function = model_1(xvals, m1_parameters)\n",
    "\n",
    "# Error and prior width:\n",
    "\n",
    "sigma = 0.5\n",
    "priorWidth = 1.0\n",
    "\n",
    "# Fiducial mean:\n",
    "\n",
    "fid_0_parameters = torch.tensor([a_fid, b_fid])\n",
    "fid_1_parameters = torch.tensor([a_fid, b_fid, c_fid])\n",
    "mustar_0 = model_0(xvals, fid_0_parameters)\n",
    "mustar_1 = model_1(xvals, fid_1_parameters)\n",
    "\n",
    "debug = False\n",
    "\n",
    "u = '_'\n",
    "fileroot='Results/Nested_'+str(round(a_param*10))+\\\n",
    "    u+str(round(b_param*10))+u+str(round(c_param*10))+u+str(round(a_fid*10))+u+str(round(b_fid*10))+\\\n",
    "    u+str(round(c_fid*10))+u+str(round(sigma*10))+u+str(round(priorWidth*10))+u+str(ndata)\n",
    "\n",
    "print(fileroot)"
   ]
  },
  {
   "cell_type": "markdown",
   "metadata": {},
   "source": [
    "# Data\n",
    "The data is generated using Model trueModel."
   ]
  },
  {
   "cell_type": "code",
   "execution_count": 5,
   "metadata": {},
   "outputs": [
    {
     "name": "stdout",
     "output_type": "stream",
     "text": [
      "tensor([ 1.6069,  0.5119,  1.3168,  1.1113,  0.2311,  0.9578, -0.1380,  2.2813,\n",
      "         1.6527,  1.3425], dtype=torch.float64)\n",
      "tensor([1.9969, 2.0719, 3.8184, 4.3261, 3.9306, 4.9136, 3.8457, 6.0644, 5.0068,\n",
      "        4.0393], dtype=torch.float64)\n"
     ]
    }
   ],
   "source": [
    "trueModel = 1\n",
    "\n",
    "if(trueModel==0):\n",
    "    dataTrue = model_0(xvals, m0_parameters) + torch.empty(ndata).normal_(mean=0.0,std=sigma)\n",
    "    dataTrue = dataTrue.type(torch.float64)\n",
    "else:\n",
    "    dataTrue = model_1(xvals, m1_parameters) + torch.empty(ndata).normal_(mean=0.0,std=sigma)\n",
    "    dataTrue = dataTrue.type(torch.float64)\n",
    "    \n",
    "X = dataTrue-mustar_1\n",
    "\n",
    "print(X)\n",
    "print(dataTrue)"
   ]
  },
  {
   "cell_type": "code",
   "execution_count": 6,
   "metadata": {},
   "outputs": [
    {
     "data": {
      "image/png": "[encoded data removed]",
      "text/plain": [
       "<Figure size 720x576 with 1 Axes>"
      ]
     },
     "metadata": {
      "needs_background": "light"
     },
     "output_type": "display_data"
    }
   ],
   "source": [
    "plt.figure(figsize = (10, 8))\n",
    "plt.plot(xvals, m0_function, lw = 2, label = r'$ax^{2} + bx$')\n",
    "plt.plot(xvals, m1_function, lw = 2, label = r'$ax^{2} + bx+c$')\n",
    "plt.errorbar(xvals, dataTrue, yerr = sigma, fmt = 'ro', label = 'Data')\n",
    "plt.xlim(xmin, xmax)\n",
    "plt.ylabel(r'$f(x)$', fontsize = fontSize)\n",
    "plt.xlabel(r'$x$', fontsize = fontSize)\n",
    "plt.tick_params(axis='x', labelsize=fontSize)\n",
    "plt.tick_params(axis='y', labelsize=fontSize)\n",
    "plt.legend(loc = 'best',prop={'family':'sans-serif', 'size':15})\n",
    "plt.show()"
   ]
  },
  {
   "cell_type": "markdown",
   "metadata": {},
   "source": [
    "# Define all quantities "
   ]
  },
  {
   "cell_type": "code",
   "execution_count": 7,
   "metadata": {},
   "outputs": [],
   "source": [
    "C = torch.from_numpy(np.diag([sigma**2] * ndata))\n",
    "C_inv = torch.from_numpy(np.diag([1/sigma**2] * ndata))"
   ]
  },
  {
   "cell_type": "code",
   "execution_count": 8,
   "metadata": {},
   "outputs": [],
   "source": [
    "design_0 = torch.zeros((ndata, 2), dtype = float)\n",
    "design_0[:,0] = xvals**2\n",
    "design_0[:,1] = xvals\n",
    "\n",
    "design_1 = torch.zeros((ndata, 3), dtype = float)\n",
    "design_1[:,0] = xvals**2\n",
    "design_1[:,1] = xvals\n",
    "design_1[:,2] = 1"
   ]
  },
  {
   "cell_type": "code",
   "execution_count": 9,
   "metadata": {},
   "outputs": [
    {
     "name": "stdout",
     "output_type": "stream",
     "text": [
      "tensor([[0.0100, 0.1000],\n",
      "        [0.1918, 0.4380],\n",
      "        [0.6020, 0.7759],\n",
      "        [1.2407, 1.1139],\n",
      "        [2.1078, 1.4518],\n",
      "        [3.2033, 1.7898],\n",
      "        [4.5272, 2.1277],\n",
      "        [6.0796, 2.4657],\n",
      "        [7.8604, 2.8036],\n",
      "        [9.8696, 3.1416]], dtype=torch.float64)\n"
     ]
    }
   ],
   "source": [
    "print(design_0)"
   ]
  },
  {
   "cell_type": "code",
   "execution_count": 10,
   "metadata": {},
   "outputs": [
    {
     "data": {
      "text/plain": [
       "[<matplotlib.lines.Line2D at 0x7fcf00c12e50>]"
      ]
     },
     "execution_count": 10,
     "metadata": {},
     "output_type": "execute_result"
    },
    {
     "data": {
      "image/png": "[encoded data removed]",
      "text/plain": [
       "<Figure size 432x288 with 1 Axes>"
      ]
     },
     "metadata": {
      "needs_background": "light"
     },
     "output_type": "display_data"
    }
   ],
   "source": [
    "plt.plot(xvals,design_0[:,0])\n",
    "plt.plot(xvals,design_0[:,1])\n",
    "plt.plot(xvals,design_1[:,0])\n",
    "plt.plot(xvals,design_1[:,1])"
   ]
  },
  {
   "cell_type": "markdown",
   "metadata": {},
   "source": [
    "# Define the priors\n",
    "\n",
    "We are assuming independent normal distribution. Multivariate normal distribution with the identity matrix as covariance. "
   ]
  },
  {
   "cell_type": "code",
   "execution_count": 11,
   "metadata": {},
   "outputs": [],
   "source": [
    "theta_fid_0 = torch.tensor([a_fid, b_fid], dtype = float)\n",
    "theta_fid_1 = torch.tensor([a_fid, b_fid, c_fid], dtype = float)\n",
    "\n",
    "Sigma0 = priorWidth * torch.eye(2, dtype = float)\n",
    "Sigma1 = priorWidth * torch.eye(3, dtype = float)\n",
    "\n",
    "Sigma0_inv = torch.linalg.inv(Sigma0)\n",
    "Sigma1_inv = torch.linalg.inv(Sigma1)"
   ]
  },
  {
   "cell_type": "markdown",
   "metadata": {},
   "source": [
    "# Evidence Computation"
   ]
  },
  {
   "cell_type": "markdown",
   "metadata": {},
   "source": [
    "$$ Z(\\boldsymbol{x}) = \\mathcal{N}(\\boldsymbol{x}|\\boldsymbol{\\mu},\\,\\mathbf{C}+\\boldsymbol{\\Phi}\\boldsymbol{\\Sigma}\\boldsymbol{\\Phi}^{\\textrm{T}})$$"
   ]
  },
  {
   "cell_type": "code",
   "execution_count": 12,
   "metadata": {},
   "outputs": [],
   "source": [
    "G0 = C + design_0 @ Sigma0 @ design_0.t()\n",
    "G1 = C + design_1 @ Sigma1 @ design_1.t()"
   ]
  },
  {
   "cell_type": "code",
   "execution_count": 13,
   "metadata": {},
   "outputs": [],
   "source": [
    "zero = torch.zeros(ndata)\n",
    "\n",
    "X_pdf0 = torch.distributions.multivariate_normal.MultivariateNormal(mustar_0, G0)\n",
    "X_pdf1 = torch.distributions.multivariate_normal.MultivariateNormal(mustar_1, G1)"
   ]
  },
  {
   "cell_type": "code",
   "execution_count": 14,
   "metadata": {},
   "outputs": [],
   "source": [
    "ZX0 = X_pdf0.log_prob(dataTrue).item()\n",
    "ZX1 = X_pdf1.log_prob(dataTrue).item()"
   ]
  },
  {
   "cell_type": "code",
   "execution_count": 15,
   "metadata": {},
   "outputs": [
    {
     "name": "stdout",
     "output_type": "stream",
     "text": [
      "The log-evidence of Model 0 is -19.9309\n",
      "The log-evidence of Model 1 is -16.3030\n",
      "The log-Bayes Factor between Model 0 and 1 is -3.6280\n"
     ]
    }
   ],
   "source": [
    "print(f'The log-evidence of Model 0 is {ZX0:.4f}')\n",
    "print(f'The log-evidence of Model 1 is {ZX1:.4f}')\n",
    "print(f'The log-Bayes Factor between Model 0 and 1 is {ZX0 - ZX1:.4f}')"
   ]
  },
  {
   "cell_type": "markdown",
   "metadata": {},
   "source": [
    "# Compression"
   ]
  },
  {
   "cell_type": "code",
   "execution_count": 16,
   "metadata": {},
   "outputs": [],
   "source": [
    "# calculate the MOPED vectors (gradient is analytical)\n",
    "\n",
    "B0 = C_inv @ design_0\n",
    "B1 = C_inv @ design_1"
   ]
  },
  {
   "cell_type": "code",
   "execution_count": 17,
   "metadata": {},
   "outputs": [
    {
     "name": "stdout",
     "output_type": "stream",
     "text": [
      "[181.30410301  75.50645505  43.49737659]\n"
     ]
    }
   ],
   "source": [
    "# calculate the compressed data vectors \n",
    "\n",
    "Y1 = B1.t() @ (dataTrue-mustar_1)\n",
    "\n",
    "print(Y1.numpy())"
   ]
  },
  {
   "cell_type": "markdown",
   "metadata": {},
   "source": [
    "# Analytical Evidence"
   ]
  },
  {
   "cell_type": "code",
   "execution_count": 18,
   "metadata": {},
   "outputs": [],
   "source": [
    "Yzero1 = 0.0*Y1"
   ]
  },
  {
   "cell_type": "code",
   "execution_count": 19,
   "metadata": {},
   "outputs": [
    {
     "name": "stdout",
     "output_type": "stream",
     "text": [
      "tensor([[933.1779, 353.5776, 142.7697],\n",
      "        [353.5776, 142.7697,  64.8319],\n",
      "        [142.7697,  64.8319,  40.0000]], dtype=torch.float64)\n"
     ]
    }
   ],
   "source": [
    "Lambda1 = design_1.t() @ C_inv @ design_1\n",
    "\n",
    "print(Lambda1)\n",
    "\n",
    "Lambda1_inv = torch.linalg.inv(Lambda1)"
   ]
  },
  {
   "cell_type": "code",
   "execution_count": 20,
   "metadata": {},
   "outputs": [
    {
     "name": "stdout",
     "output_type": "stream",
     "text": [
      "Fisher: [[933.17791991 353.57755709]\n",
      " [353.57755709 142.76966083]]\n",
      "Errors: 0.1318507947346826 0.3370908895443259\n"
     ]
    }
   ],
   "source": [
    "Fisher = design_0.t() @ B1 @ Lambda1_inv @ B1.t() @ design_0\n",
    "Fisher_inv = torch.linalg.inv(Fisher)\n",
    "\n",
    "print('Fisher:',Fisher.numpy())\n",
    "print('Errors:',np.sqrt(Fisher_inv[0,0]).numpy(),np.sqrt(Fisher_inv[1,1]).numpy())"
   ]
  },
  {
   "cell_type": "code",
   "execution_count": 21,
   "metadata": {},
   "outputs": [
    {
     "name": "stdout",
     "output_type": "stream",
     "text": [
      "tensor([[1017154.4731,  390040.5167,  162006.1401],\n",
      "        [ 390040.5167,  149746.2040,   62394.2759],\n",
      "        [ 162006.1401,   62394.2759,   26226.3455]], dtype=torch.float64)\n",
      "tensor([[933.1779, 353.5776, 142.7697],\n",
      "        [353.5776, 142.7697,  64.8319],\n",
      "        [142.7697,  64.8319,  40.0000]], dtype=torch.float64)\n",
      "tensor([[1017154.4731,  390040.5167,  162006.1401],\n",
      "        [ 390040.5167,  149746.2040,   62394.2759],\n",
      "        [ 162006.1401,   62394.2759,   26226.3455]], dtype=torch.float64)\n",
      "tensor(41535.4754, dtype=torch.float64)\n",
      "tensor(2.8791e+09, dtype=torch.float64)\n",
      "torch.return_types.linalg_eig(\n",
      "eigenvalues=tensor([1.1926e+06+0.j, 5.3881e+02+0.j, 4.4805e+00+0.j],\n",
      "       dtype=torch.complex128),\n",
      "eigenvectors=tensor([[-0.9235+0.j, -0.3076+0.j,  0.2292+0.j],\n",
      "        [-0.3542+0.j,  0.4546+0.j, -0.8172+0.j],\n",
      "        [-0.1472+0.j,  0.8359+0.j,  0.5288+0.j]], dtype=torch.complex128))\n"
     ]
    }
   ],
   "source": [
    "H1 = Lambda1+ (Lambda1 @ Sigma1 @ Lambda1.t() )\n",
    "print(H1)\n",
    "print(Lambda1)\n",
    "print(Lambda1+B1.t() @ design_1 @ Sigma1 @ design_1.t() @ B1)\n",
    "print(torch.linalg.det(Lambda1))\n",
    "print(torch.linalg.det(H1))\n",
    "print(torch.linalg.eig(H1))"
   ]
  },
  {
   "cell_type": "code",
   "execution_count": 22,
   "metadata": {},
   "outputs": [],
   "source": [
    "ZY_pdf1 = torch.distributions.multivariate_normal.MultivariateNormal(Yzero1, H1)"
   ]
  },
  {
   "cell_type": "code",
   "execution_count": 23,
   "metadata": {},
   "outputs": [
    {
     "name": "stdout",
     "output_type": "stream",
     "text": [
      "ZY0: -18.39961203535278\n",
      "ZY1: -14.771627133626446\n"
     ]
    }
   ],
   "source": [
    "ZY1 = ZY_pdf1.log_prob(Y1).item()\n",
    "ZY0 = Z0(Y1, design_0, B1, Lambda1, Sigma0, mustar_0, mustar_1)\n",
    "\n",
    "print('ZY0:',ZY0)\n",
    "print('ZY1:',ZY1)"
   ]
  },
  {
   "cell_type": "code",
   "execution_count": 24,
   "metadata": {},
   "outputs": [],
   "source": [
    "if(debug):\n",
    "    print('design_1:',design_1)"
   ]
  },
  {
   "cell_type": "code",
   "execution_count": 25,
   "metadata": {},
   "outputs": [
    {
     "name": "stdout",
     "output_type": "stream",
     "text": [
      "X log-evidence of Model 0 is -19.9309\n",
      "X log-evidence of Model 1 is -16.3030\n",
      "Y log-evidence of (true)  Model 0 is -18.3996\n",
      "Y log-evidence of (false) Model 1 is -14.7716\n",
      "X log-Bayes Factor between Model 0 and 1 is -3.6280\n",
      "Y log-Bayes Factor between Model 0 and 1 is -3.6280\n",
      "The difference is -0.0000\n"
     ]
    }
   ],
   "source": [
    "print(f'X log-evidence of Model 0 is {ZX0:.4f}')\n",
    "print(f'X log-evidence of Model 1 is {ZX1:.4f}')\n",
    "print(f'Y log-evidence of (true)  Model 0 is {ZY0:.4f}')\n",
    "print(f'Y log-evidence of (false) Model 1 is {ZY1:.4f}')\n",
    "print(f'X log-Bayes Factor between Model 0 and 1 is {ZX0 - ZX1:.4f}')\n",
    "print(f'Y log-Bayes Factor between Model 0 and 1 is {ZY0 - ZY1:.4f}')\n",
    "print(f'The difference is {ZY0-ZY1-ZX0+ZX1:.4f}')"
   ]
  },
  {
   "cell_type": "code",
   "execution_count": 26,
   "metadata": {},
   "outputs": [
    {
     "name": "stdout",
     "output_type": "stream",
     "text": [
      "[181.30410301  75.50645505  43.49737659]\n",
      "[[1017154.4730517   390040.51667599  162006.14013967]\n",
      " [ 390040.51667599  149746.20402886   62394.27591752]\n",
      " [ 162006.14013967   62394.27591752   26226.34548255]]\n",
      "[[933.17791991 353.57755709 142.76966081]\n",
      " [353.57755709 142.76966083  64.83185509]\n",
      " [142.76966081  64.83185509  40.        ]]\n",
      "[[1. 0. 0.]\n",
      " [0. 1. 0.]\n",
      " [0. 0. 1.]]\n"
     ]
    }
   ],
   "source": [
    "print(Y1.numpy())\n",
    "print(H1.numpy())\n",
    "print(Lambda1.numpy())\n",
    "print(Sigma1.numpy())"
   ]
  },
  {
   "cell_type": "code",
   "execution_count": 27,
   "metadata": {},
   "outputs": [],
   "source": [
    "ntrials = 100000\n",
    "\n",
    "Z0_X = np.zeros(ntrials)\n",
    "Z1_X = np.zeros(ntrials)\n",
    "Z0_Y = np.zeros(ntrials)\n",
    "Z1_Y = np.zeros(ntrials)\n",
    "Bayes_X = np.zeros(ntrials)\n",
    "Bayes_Y = np.zeros(ntrials)\n",
    "Bayes_diff = np.zeros(ntrials)\n",
    "\n",
    "debug=False\n",
    "\n",
    "for n in range(ntrials):\n",
    "    if(trueModel==0):\n",
    "        data = model_0(xvals, m0_parameters) + torch.empty(ndata).normal_(mean=0.0,std=sigma)\n",
    "        data = data.type(torch.float64)\n",
    "    else:\n",
    "        data = model_1(xvals, m1_parameters) + torch.empty(ndata).normal_(mean=0.0,std=sigma)\n",
    "        data = data.type(torch.float64)\n",
    "        \n",
    "    Z0_X[n]  = X_pdf0.log_prob(data).item()\n",
    "    Z1_X[n]  = X_pdf1.log_prob(data).item()\n",
    "    \n",
    "    Bayes_X[n] = Z0_X[n]-Z1_X[n]\n",
    "     \n",
    "    Y1   = B1.t() @ (data-mustar_1)  \n",
    "\n",
    "    Z0_Y[n]  = Z0(Y1, design_0, B1, Lambda1, Sigma0, mustar_0, mustar_1)\n",
    "    Z1_Y[n]  = ZY_pdf1.log_prob(Y1).item()\n",
    "    \n",
    "    Bayes_Y[n] = Z0_Y[n]-Z1_Y[n]\n",
    "\n",
    "    Bayes_diff[n] = Bayes_Y[n] - Bayes_X[n]\n",
    "    \n",
    "    if(debug):\n",
    "        print('Y1=',Y1.numpy())\n",
    "        print('ZY0=',Z0_Y[n])\n",
    "        print('ZY1=',Z1_Y[n])\n",
    "        print('BX=',Z0_X[n]-Z1_X[n])\n",
    "        print('BY=',Z0_Y[n]-Z1_Y[n])"
   ]
  },
  {
   "cell_type": "code",
   "execution_count": 28,
   "metadata": {},
   "outputs": [
    {
     "data": {
      "image/png": "[encoded data removed]",
      "text/plain": [
       "<Figure size 432x288 with 1 Axes>"
      ]
     },
     "metadata": {
      "needs_background": "light"
     },
     "output_type": "display_data"
    }
   ],
   "source": [
    "nbins = 50\n",
    "\n",
    "plt.hist(Z0_X,bins=nbins, alpha=1, \\\n",
    "         range=[np.min([np.min(Z1_X),np.min(Z0_X)]), np.max([np.max(Z1_X),np.max(Z0_X)])]);\n",
    "plt.hist(Z1_X,bins=nbins, alpha=0.5, \\\n",
    "         range=[np.min([np.min(Z1_X),np.min(Z0_X)]), np.max([np.max(Z1_X),np.max(Z0_X)])]);\n",
    "plt.xlabel(r'$\\ln Z$', fontsize=20);\n",
    "plt.ylabel(r'$p(\\ln Z)$', fontsize=20);\n",
    "plt.legend([r'$Z_0$',r'$Z_1$'], fontsize=20)\n",
    "plt.title('No compression', fontsize=20)\n",
    "plt.savefig(fileroot+'ZX01.pdf', bbox_inches='tight')"
   ]
  },
  {
   "cell_type": "code",
   "execution_count": 29,
   "metadata": {},
   "outputs": [
    {
     "data": {
      "image/png": "[encoded data removed]",
      "text/plain": [
       "<Figure size 432x288 with 1 Axes>"
      ]
     },
     "metadata": {
      "needs_background": "light"
     },
     "output_type": "display_data"
    }
   ],
   "source": [
    "plt.hist(Z0_Y,bins=nbins, alpha=1, \\\n",
    "         range=[np.min(Z0_Y),np.max(Z0_Y)]);\n",
    "plt.xlabel(r'$\\ln Z_0$', fontsize=20);\n",
    "plt.ylabel(r'$p(\\ln Z)$', fontsize=20);\n",
    "plt.title('MOPED compression', fontsize=20)\n",
    "plt.savefig(fileroot+'ZY0.pdf', bbox_inches='tight')"
   ]
  },
  {
   "cell_type": "code",
   "execution_count": 30,
   "metadata": {},
   "outputs": [
    {
     "data": {
      "image/png": "[encoded data removed]",
      "text/plain": [
       "<Figure size 432x288 with 1 Axes>"
      ]
     },
     "metadata": {
      "needs_background": "light"
     },
     "output_type": "display_data"
    }
   ],
   "source": [
    "plt.hist(Z1_Y,bins=nbins, alpha=1, \\\n",
    "         range=[np.min(Z1_Y),np.max(Z1_Y)]);\n",
    "plt.xlabel(r'$\\ln Z_1$', fontsize=20);\n",
    "plt.ylabel(r'$p(\\ln Z)$', fontsize=20);\n",
    "plt.title('MOPED compression', fontsize=20)\n",
    "plt.savefig(fileroot+'ZY1.pdf', bbox_inches='tight')"
   ]
  },
  {
   "cell_type": "code",
   "execution_count": 31,
   "metadata": {},
   "outputs": [
    {
     "data": {
      "image/png": "[encoded data removed]",
      "text/plain": [
       "<Figure size 432x288 with 1 Axes>"
      ]
     },
     "metadata": {
      "needs_background": "light"
     },
     "output_type": "display_data"
    }
   ],
   "source": [
    "offset = 10.0\n",
    "plt.hist(Z0_Y,bins=nbins, alpha=1, \\\n",
    "         range=[np.min([np.min(Z0_Y),np.min(Z1_Y)])+offset,np.max([np.max(Z0_Y),np.max(Z1_Y)])]);\n",
    "plt.hist(Z1_Y,bins=nbins, alpha=0.5, \\\n",
    "         range=[np.min([np.min(Z0_Y),np.min(Z1_Y)])+offset,np.max([np.max(Z0_Y),np.max(Z1_Y)])]);\n",
    "plt.xlabel(r'$\\ln Z$', fontsize=20);\n",
    "plt.ylabel(r'$p(\\ln Z)$', fontsize=20);\n",
    "plt.legend([r'$Z_0$',r'$Z_1$'], fontsize=20)\n",
    "plt.title('MOPED compression', fontsize=20)\n",
    "plt.savefig(fileroot+'ZY01.pdf', bbox_inches='tight')"
   ]
  },
  {
   "cell_type": "code",
   "execution_count": 32,
   "metadata": {},
   "outputs": [
    {
     "data": {
      "image/png": "[encoded data removed]",
      "text/plain": [
       "<Figure size 432x288 with 1 Axes>"
      ]
     },
     "metadata": {
      "needs_background": "light"
     },
     "output_type": "display_data"
    }
   ],
   "source": [
    "offset2 = 4\n",
    "plotmin = np.min([np.min(Bayes_X),np.min(Bayes_Y)])+offset2\n",
    "plotmax = np.max([np.max(Bayes_X),np.max(Bayes_Y)])\n",
    "\n",
    "plt.hist(Bayes_X, alpha=1,bins=nbins, range=[plotmin,plotmax]);\n",
    "plt.hist(Bayes_Y, alpha=0.5,bins=nbins, range=[plotmin,plotmax]);\n",
    "plt.xlabel(r'$\\ln B_{01}$', fontsize=20);\n",
    "plt.ylabel(r'$p(\\ln B_{01})$', fontsize=20);\n",
    "plt.legend(['No compression','MOPED compression'], fontsize=20)\n",
    "plt.savefig(fileroot+'BXY.pdf', bbox_inches='tight')"
   ]
  },
  {
   "cell_type": "code",
   "execution_count": 33,
   "metadata": {
    "scrolled": true
   },
   "outputs": [
    {
     "data": {
      "image/png": "[encoded data removed]",
      "text/plain": [
       "<Figure size 432x288 with 1 Axes>"
      ]
     },
     "metadata": {
      "needs_background": "light"
     },
     "output_type": "display_data"
    }
   ],
   "source": [
    "#plotExtend = np.min([np.min(Bayes_X)/np.max(Bayes_X),np.min(Bayes_Y)/np.max(Bayes_Y)])\n",
    "plotExtend = 1.1\n",
    "\n",
    "plotmax = np.max(Bayes_X)*plotExtend\n",
    "plotmin = np.min(Bayes_X)\n",
    "\n",
    "plt.hist(Bayes_X, alpha=1,bins=nbins, color='BlueViolet',range=[plotmin,plotmax]);\n",
    "plt.xlabel(r'$\\ln B_{01}$', fontsize=20);\n",
    "plt.ylabel(r'$p(\\ln B_{01})$', fontsize=20);\n",
    "plt.title('No compression', fontsize=20)\n",
    "plt.savefig(fileroot+'BX.pdf', bbox_inches='tight')"
   ]
  },
  {
   "cell_type": "code",
   "execution_count": 34,
   "metadata": {},
   "outputs": [
    {
     "data": {
      "image/png": "[encoded data removed]",
      "text/plain": [
       "<Figure size 432x288 with 1 Axes>"
      ]
     },
     "metadata": {
      "needs_background": "light"
     },
     "output_type": "display_data"
    }
   ],
   "source": [
    "#plotmin = np.min(Bayes_Y)\n",
    "plotmax = np.max(Bayes_Y)*plotExtend\n",
    "plotmin = np.min(Bayes_Y)\n",
    "\n",
    "plt.hist(Bayes_Y, alpha=1,bins=nbins, color='Gray',range=[plotmin,plotmax]);\n",
    "plt.xlabel(r'$\\ln B_{01}$', fontsize=20);\n",
    "plt.ylabel(r'$p(\\ln B_{01})$', fontsize=20);\n",
    "plt.title('MOPED compression', fontsize=20)\n",
    "plt.savefig(fileroot+'BY.pdf', bbox_inches='tight')"
   ]
  },
  {
   "cell_type": "code",
   "execution_count": 35,
   "metadata": {},
   "outputs": [
    {
     "name": "stdout",
     "output_type": "stream",
     "text": [
      "Fraction X0: 12762\n",
      "Fraction Y0: 12762\n"
     ]
    }
   ],
   "source": [
    "FractionX0 = (Bayes_X > 0).sum()\n",
    "FractionY0 = (Bayes_Y > 0).sum()\n",
    "\n",
    "print('Fraction X0:', FractionX0)\n",
    "print('Fraction Y0:', FractionY0)"
   ]
  },
  {
   "cell_type": "raw",
   "metadata": {},
   "source": []
  },
  {
   "cell_type": "code",
   "execution_count": null,
   "metadata": {},
   "outputs": [],
   "source": []
  },
  {
   "cell_type": "code",
   "execution_count": null,
   "metadata": {},
   "outputs": [],
   "source": []
  }
 ],
 "metadata": {
  "kernelspec": {
   "display_name": "Python 3",
   "language": "python",
   "name": "python3"
  },
  "language_info": {
   "codemirror_mode": {
    "name": "ipython",
    "version": 3
   },
   "file_extension": ".py",
   "mimetype": "text/x-python",
   "name": "python",
   "nbconvert_exporter": "python",
   "pygments_lexer": "ipython3",
   "version": "3.7.6"
  }
 },
 "nbformat": 4,
 "nbformat_minor": 5
}
