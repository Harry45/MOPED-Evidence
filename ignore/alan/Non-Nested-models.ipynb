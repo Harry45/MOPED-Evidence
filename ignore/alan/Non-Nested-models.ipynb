{
 "cells": [
  {
   "cell_type": "code",
   "execution_count": 1,
   "metadata": {},
   "outputs": [],
   "source": [
    "import numpy as np \n",
    "import matplotlib.pylab as plt \n",
    "from scipy.integrate import dblquad, tplquad\n",
    "from getdist import plots, MCSamples\n",
    "import getdist\n",
    "import torch \n",
    "import warnings\n",
    "warnings.filterwarnings('ignore')\n",
    "\n",
    "plt.rc('text', usetex=True)\n",
    "plt.rc('font',**{'family':'sans-serif','serif':['Palatino']})\n",
    "figSize  = (12, 8)\n",
    "fontSize = 20\n",
    "\n",
    "plt.rc('xtick', labelsize=20) \n",
    "plt.rc('ytick', labelsize=20) "
   ]
  },
  {
   "cell_type": "markdown",
   "metadata": {},
   "source": [
    "# Models \n",
    "\n",
    "$$\\mathcal{M}_{0}: y = A \\sin(wx)$$\n",
    "\n",
    "$$\\mathcal{M}_{1}: y= ax^{2}+bx$$\n",
    "\n",
    "$\\mathcal{M}_{0}$ is not nested in $\\mathcal{M}_{1}$. \n",
    "\n",
    "**Steps**\n",
    "\n",
    "- Generate data using $\\mathcal{M}_{0}$.\n",
    "- Compute evidence analytically. \n",
    "- Compute evidence numerically. \n",
    "- Compute Bayes Factor. \n",
    "- Repeat 2-4 with the compression scheme. "
   ]
  },
  {
   "cell_type": "code",
   "execution_count": 2,
   "metadata": {},
   "outputs": [],
   "source": [
    "def model_0(xvalues: torch.Tensor, parameters: torch.Tensor) -> torch.Tensor:\n",
    "    \n",
    "    output = parameters[0]*torch.sin(parameters[1]*xvalues)\n",
    "    output = output.to(torch.float64)\n",
    "    return output\n",
    "\n",
    "def model_1(xvalues: torch.Tensor, parameters: torch.Tensor) -> torch.Tensor:\n",
    "    \n",
    "    output = parameters[0]*xvalues**2 + parameters[1]*xvalues\n",
    "    output = output.to(torch.float64)\n",
    "    return output"
   ]
  },
  {
   "cell_type": "code",
   "execution_count": 3,
   "metadata": {},
   "outputs": [],
   "source": [
    "def Z0(Y1: torch.Tensor, design_0: torch.Tensor, B1: torch.Tensor, \\\n",
    "       Lambda1: torch.Tensor, Sigma0: torch.Tensor, \\\n",
    "       mustar_0: torch.Tensor, mustar_1: torch.Tensor) -> torch.Tensor:\n",
    "    \n",
    "    Z0debug = False\n",
    "    \n",
    "    Ybarstar  = B1.t() @ (mustar_0-mustar_1)\n",
    "\n",
    "    Psi = Lambda1+B1.t() @ design_0 @ Sigma0 @ design_0.t() @ B1\n",
    "    ZZ_pdf_Psi = torch.distributions.multivariate_normal.MultivariateNormal \\\n",
    "    (Ybarstar, Psi)\n",
    "    \n",
    "    logZ0 = ZZ_pdf_Psi.log_prob(Y1).item()\n",
    "\n",
    "    if(Z0debug):\n",
    "\n",
    "#        print('Lambda1:',Lambda1)\n",
    "#        print('Psi:',Psi)\n",
    "        print('Y1:',Y1)\n",
    "#        print('Ybarstar:',Ybarstar)\n",
    "#        print('B1:',B1)\n",
    "#        print('Sigma0:',Sigma0)\n",
    "#        print('design_0:',design_0)\n",
    "    \n",
    "        print(-0.5*np.log(np.linalg.det(2.*np.pi*Psi)))\n",
    "        print('logZ0 (new):',logZ0)\n",
    "\n",
    "    return logZ0"
   ]
  },
  {
   "cell_type": "code",
   "execution_count": 4,
   "metadata": {},
   "outputs": [
    {
     "name": "stdout",
     "output_type": "stream",
     "text": [
      "Results/NonNested40_30_-10_40_40_8_20_100_10\n"
     ]
    }
   ],
   "source": [
    "trueModel = 0\n",
    "\n",
    "xmin = 0.0\n",
    "xmax = 1.0\n",
    "\n",
    "torch.pi\n",
    "ndata = 10\n",
    "xvals = torch.linspace(xmin, xmax, ndata)\n",
    "\n",
    "# These for illustration only:\n",
    "\n",
    "a_param = -1.0\n",
    "b_param = 2.0\n",
    "\n",
    "# True parameters:\n",
    " \n",
    "amp_param = 4.0\n",
    "ang_param = 3.0\n",
    "\n",
    "# model 0\n",
    "m0_parameters = torch.tensor([amp_param, ang_param])\n",
    "m0_function = model_0(xvals, m0_parameters)\n",
    "\n",
    "# model 1\n",
    "m1_parameters = torch.tensor([a_param, b_param])\n",
    "m1_function = model_1(xvals, m1_parameters)\n",
    "\n",
    "# Fiducial model in both spaces:\n",
    "\n",
    "a_fid = -1.0\n",
    "b_fid = 4.0\n",
    "amp_fid = 4.0\n",
    "ang_fid = 0.8\n",
    "\n",
    "# Error and prior width:\n",
    "\n",
    "sigma = 2.0\n",
    "priorWidth = 10.0\n",
    "\n",
    "# Fiducial mean:\n",
    "\n",
    "fid_0_parameters = torch.tensor([amp_fid,ang_fid])\n",
    "fid_1_parameters = torch.tensor([a_fid, b_fid])\n",
    "mustar_0 = model_0(xvals, fid_0_parameters)\n",
    "mustar_1 = model_1(xvals, fid_1_parameters)\n",
    "\n",
    "debug = False\n",
    "\n",
    "u = '_'\n",
    "fileroot='Results/NonNested'+str(round(amp_param*10))+\\\n",
    "    u+str(round(ang_param*10))+u+str(round(a_fid*10))+u+str(round(b_fid*10))+\\\n",
    "    u+str(round(amp_fid*10))+u+str(round(ang_fid*10))+\\\n",
    "    u+str(round(sigma*10))+u+str(round(priorWidth*10))+u+str(ndata)\n",
    "\n",
    "print(fileroot)"
   ]
  },
  {
   "cell_type": "markdown",
   "metadata": {},
   "source": [
    "# Data\n",
    "The data is generated using Model trueModel."
   ]
  },
  {
   "cell_type": "code",
   "execution_count": 5,
   "metadata": {},
   "outputs": [
    {
     "name": "stdout",
     "output_type": "stream",
     "text": [
      "tensor([-2.7899, -3.3367,  1.7092,  3.7359,  4.4149,  0.2651, -1.0532,  2.3889,\n",
      "        -0.1827, -5.3968], dtype=torch.float64)\n",
      "tensor([-2.7899, -2.9046,  2.5487,  4.9581,  5.9951,  2.1787,  1.1690,  4.8951,\n",
      "         2.5827, -2.3968], dtype=torch.float64)\n"
     ]
    }
   ],
   "source": [
    "if(trueModel==0):\n",
    "    dataTrue = model_0(xvals, m0_parameters) + torch.empty(ndata).normal_(mean=0.0,std=sigma)\n",
    "    dataTrue = dataTrue.type(torch.float64)\n",
    "else:\n",
    "    dataTrue = model_1(xvals, m1_parameters) + torch.empty(ndata).normal_(mean=0.0,std=sigma)\n",
    "    dataTrue = dataTrue.type(torch.float64)\n",
    "    \n",
    "X = dataTrue-mustar_1\n",
    "\n",
    "print(X)\n",
    "print(dataTrue)"
   ]
  },
  {
   "cell_type": "code",
   "execution_count": 6,
   "metadata": {},
   "outputs": [
    {
     "data": {
      "image/png": "[encoded data removed]",
      "text/plain": [
       "<Figure size 720x576 with 1 Axes>"
      ]
     },
     "metadata": {
      "needs_background": "light"
     },
     "output_type": "display_data"
    }
   ],
   "source": [
    "plt.figure(figsize = (10, 8))\n",
    "plt.plot(xvals, m0_function, lw = 2, label = r'$A sin(wx)$')\n",
    "plt.plot(xvals, m1_function, lw = 2, label = r'$ax^{2} + bx$')\n",
    "plt.errorbar(xvals, dataTrue, yerr = sigma, fmt = 'ro', label = 'Data')\n",
    "plt.xlim(xmin, xmax)\n",
    "plt.ylabel(r'$f(x)$', fontsize = fontSize)\n",
    "plt.xlabel(r'$x$', fontsize = fontSize)\n",
    "plt.tick_params(axis='x', labelsize=fontSize)\n",
    "plt.tick_params(axis='y', labelsize=fontSize)\n",
    "plt.legend(loc = 'best',prop={'family':'sans-serif', 'size':15})\n",
    "plt.show()"
   ]
  },
  {
   "cell_type": "markdown",
   "metadata": {},
   "source": [
    "# Define all quantities "
   ]
  },
  {
   "cell_type": "code",
   "execution_count": 7,
   "metadata": {},
   "outputs": [],
   "source": [
    "C = torch.from_numpy(np.diag([sigma**2] * ndata))\n",
    "C_inv = torch.from_numpy(np.diag([1/sigma**2] * ndata))"
   ]
  },
  {
   "cell_type": "code",
   "execution_count": 8,
   "metadata": {},
   "outputs": [],
   "source": [
    "design_0 = torch.zeros((ndata, 2), dtype = float)\n",
    "design_0[:,0] = torch.sin(ang_fid*xvals)\n",
    "design_0[:,1] = xvals*amp_fid*torch.cos(ang_fid*xvals)\n",
    "\n",
    "design_1 = torch.zeros((ndata, 2), dtype = float)\n",
    "design_1[:,0] = xvals**2\n",
    "design_1[:,1] = xvals"
   ]
  },
  {
   "cell_type": "code",
   "execution_count": 9,
   "metadata": {},
   "outputs": [
    {
     "name": "stdout",
     "output_type": "stream",
     "text": [
      "tensor([[0.0000, 0.0000],\n",
      "        [0.0888, 0.4427],\n",
      "        [0.1768, 0.8749],\n",
      "        [0.2635, 1.2862],\n",
      "        [0.3481, 1.6666],\n",
      "        [0.4300, 2.0063],\n",
      "        [0.5084, 2.2963],\n",
      "        [0.5828, 2.5280],\n",
      "        [0.6527, 2.6938],\n",
      "        [0.7174, 2.7868]], dtype=torch.float64)\n"
     ]
    }
   ],
   "source": [
    "print(design_0)"
   ]
  },
  {
   "cell_type": "code",
   "execution_count": 10,
   "metadata": {},
   "outputs": [
    {
     "data": {
      "text/plain": [
       "[<matplotlib.lines.Line2D at 0x7f80b66df760>]"
      ]
     },
     "execution_count": 10,
     "metadata": {},
     "output_type": "execute_result"
    },
    {
     "data": {
      "image/png": "[encoded data removed]",
      "text/plain": [
       "<Figure size 432x288 with 1 Axes>"
      ]
     },
     "metadata": {
      "needs_background": "light"
     },
     "output_type": "display_data"
    }
   ],
   "source": [
    "plt.plot(xvals,design_0[:,0])\n",
    "plt.plot(xvals,design_0[:,1])\n",
    "plt.plot(xvals,design_1[:,0])\n",
    "plt.plot(xvals,design_1[:,1])"
   ]
  },
  {
   "cell_type": "markdown",
   "metadata": {},
   "source": [
    "# Define the priors\n",
    "\n",
    "We are assuming independent normal distribution. Multivariate normal distribution with the identity matrix as covariance. "
   ]
  },
  {
   "cell_type": "code",
   "execution_count": 11,
   "metadata": {},
   "outputs": [],
   "source": [
    "theta_fid_0 = torch.tensor([amp_fid, ang_fid], dtype = float)\n",
    "theta_fid_1 = torch.tensor([a_fid, b_fid], dtype = float)\n",
    "\n",
    "Sigma0 = priorWidth * torch.eye(2, dtype = float)\n",
    "Sigma1 = priorWidth * torch.eye(2, dtype = float)\n",
    "\n",
    "Sigma0_inv = torch.linalg.inv(Sigma0)\n",
    "Sigma1_inv = torch.linalg.inv(Sigma1)"
   ]
  },
  {
   "cell_type": "markdown",
   "metadata": {},
   "source": [
    "# Evidence Computation"
   ]
  },
  {
   "cell_type": "markdown",
   "metadata": {},
   "source": [
    "$$ Z(\\boldsymbol{x}) = \\mathcal{N}(\\boldsymbol{x}|\\boldsymbol{\\mu},\\,\\mathbf{C}+\\boldsymbol{\\Phi}\\boldsymbol{\\Sigma}\\boldsymbol{\\Phi}^{\\textrm{T}})$$"
   ]
  },
  {
   "cell_type": "code",
   "execution_count": 12,
   "metadata": {},
   "outputs": [],
   "source": [
    "G0 = C + design_0 @ Sigma0 @ design_0.t()\n",
    "G1 = C + design_1 @ Sigma1 @ design_1.t()"
   ]
  },
  {
   "cell_type": "code",
   "execution_count": 13,
   "metadata": {},
   "outputs": [],
   "source": [
    "zero = torch.zeros(ndata)\n",
    "\n",
    "X_pdf0 = torch.distributions.multivariate_normal.MultivariateNormal(mustar_0, G0)\n",
    "X_pdf1 = torch.distributions.multivariate_normal.MultivariateNormal(mustar_1, G1)"
   ]
  },
  {
   "cell_type": "code",
   "execution_count": 14,
   "metadata": {},
   "outputs": [],
   "source": [
    "ZX0 = X_pdf0.log_prob(dataTrue).item()\n",
    "ZX1 = X_pdf1.log_prob(dataTrue).item()"
   ]
  },
  {
   "cell_type": "code",
   "execution_count": 15,
   "metadata": {},
   "outputs": [
    {
     "name": "stdout",
     "output_type": "stream",
     "text": [
      "The log-evidence of Model 0 is -29.9249\n",
      "The log-evidence of Model 1 is -28.0206\n",
      "The log-Bayes Factor between Model 0 and 1 is -1.9043\n"
     ]
    }
   ],
   "source": [
    "print(f'The log-evidence of Model 0 is {ZX0:.4f}')\n",
    "print(f'The log-evidence of Model 1 is {ZX1:.4f}')\n",
    "print(f'The log-Bayes Factor between Model 0 and 1 is {ZX0 - ZX1:.4f}')"
   ]
  },
  {
   "cell_type": "markdown",
   "metadata": {},
   "source": [
    "# Compression"
   ]
  },
  {
   "cell_type": "code",
   "execution_count": 16,
   "metadata": {},
   "outputs": [],
   "source": [
    "# calculate the MOPED vectors (gradient is analytical)\n",
    "\n",
    "B0 = C_inv @ design_0\n",
    "B1 = C_inv @ design_1"
   ]
  },
  {
   "cell_type": "code",
   "execution_count": 17,
   "metadata": {},
   "outputs": [
    {
     "name": "stdout",
     "output_type": "stream",
     "text": [
      "[-0.78799394 -0.25989193]\n"
     ]
    }
   ],
   "source": [
    "# calculate the compressed data vectors \n",
    "\n",
    "Y1 = B1.t() @ (dataTrue-mustar_1)\n",
    "\n",
    "print(Y1.numpy())"
   ]
  },
  {
   "cell_type": "markdown",
   "metadata": {},
   "source": [
    "# Analytical Evidence"
   ]
  },
  {
   "cell_type": "code",
   "execution_count": 18,
   "metadata": {},
   "outputs": [],
   "source": [
    "Yzero1 = 0.0*Y1"
   ]
  },
  {
   "cell_type": "code",
   "execution_count": 19,
   "metadata": {},
   "outputs": [
    {
     "name": "stdout",
     "output_type": "stream",
     "text": [
      "tensor([[0.5842, 0.6944],\n",
      "        [0.6944, 0.8796]], dtype=torch.float64)\n"
     ]
    }
   ],
   "source": [
    "Lambda1 = design_1.t() @ C_inv @ design_1\n",
    "\n",
    "print(Lambda1)\n",
    "\n",
    "Lambda1_inv = torch.linalg.inv(Lambda1)"
   ]
  },
  {
   "cell_type": "code",
   "execution_count": 20,
   "metadata": {},
   "outputs": [
    {
     "name": "stdout",
     "output_type": "stream",
     "text": [
      "Fisher: [[0.48834001 2.09333208]\n",
      " [2.09333208 9.02408025]]\n",
      "Errors: 19.08309255237318 4.439238071166151\n"
     ]
    }
   ],
   "source": [
    "Fisher = design_0.t() @ B1 @ Lambda1_inv @ B1.t() @ design_0\n",
    "Fisher_inv = torch.linalg.inv(Fisher)\n",
    "\n",
    "print('Fisher:',Fisher.numpy())\n",
    "print('Errors:',np.sqrt(Fisher_inv[0,0]).numpy(),np.sqrt(Fisher_inv[1,1]).numpy())"
   ]
  },
  {
   "cell_type": "code",
   "execution_count": 21,
   "metadata": {},
   "outputs": [
    {
     "name": "stdout",
     "output_type": "stream",
     "text": [
      "tensor([[ 8.8202, 10.8603],\n",
      "        [10.8603, 13.4396]], dtype=torch.float64)\n",
      "tensor([[0.5842, 0.6944],\n",
      "        [0.6944, 0.8796]], dtype=torch.float64)\n",
      "tensor([[ 8.8202, 10.8603],\n",
      "        [10.8603, 13.4396]], dtype=torch.float64)\n",
      "tensor(0.0317, dtype=torch.float64)\n",
      "tensor(0.5955, dtype=torch.float64)\n",
      "torch.return_types.linalg_eig(\n",
      "eigenvalues=tensor([ 0.0268+0.j, 22.2331+0.j], dtype=torch.complex128),\n",
      "eigenvectors=tensor([[-0.7772+0.j, -0.6293+0.j],\n",
      "        [ 0.6293+0.j, -0.7772+0.j]], dtype=torch.complex128))\n"
     ]
    }
   ],
   "source": [
    "H1 = Lambda1+ (Lambda1 @ Sigma1 @ Lambda1.t() )\n",
    "print(H1)\n",
    "print(Lambda1)\n",
    "print(Lambda1+B1.t() @ design_1 @ Sigma1 @ design_1.t() @ B1)\n",
    "print(torch.linalg.det(Lambda1))\n",
    "print(torch.linalg.det(H1))\n",
    "print(torch.linalg.eig(H1))"
   ]
  },
  {
   "cell_type": "code",
   "execution_count": 22,
   "metadata": {},
   "outputs": [],
   "source": [
    "ZY_pdf1 = torch.distributions.multivariate_normal.MultivariateNormal(Yzero1, H1)"
   ]
  },
  {
   "cell_type": "code",
   "execution_count": 23,
   "metadata": {},
   "outputs": [
    {
     "name": "stdout",
     "output_type": "stream",
     "text": [
      "ZY0: -7.28503206786164\n",
      "ZY1: -5.350619963186793\n"
     ]
    }
   ],
   "source": [
    "ZY1 = ZY_pdf1.log_prob(Y1).item()\n",
    "ZY0 = Z0(Y1, design_0, B1, Lambda1, Sigma0, mustar_0, mustar_1)\n",
    "\n",
    "print('ZY0:',ZY0)\n",
    "print('ZY1:',ZY1)"
   ]
  },
  {
   "cell_type": "code",
   "execution_count": 24,
   "metadata": {},
   "outputs": [],
   "source": [
    "if(debug):\n",
    "    print('design_1:',design_1)"
   ]
  },
  {
   "cell_type": "code",
   "execution_count": 25,
   "metadata": {},
   "outputs": [
    {
     "name": "stdout",
     "output_type": "stream",
     "text": [
      "X log-evidence of Model 0 is -29.9249\n",
      "X log-evidence of Model 1 is -28.0206\n",
      "Y log-evidence of (true)  Model 0 is -7.2850\n",
      "Y log-evidence of (false) Model 1 is -5.3506\n",
      "X log-Bayes Factor between Model 0 and 1 is -1.9043\n",
      "Y log-Bayes Factor between Model 0 and 1 is -1.9344\n",
      "The difference is -0.0301\n"
     ]
    }
   ],
   "source": [
    "print(f'X log-evidence of Model 0 is {ZX0:.4f}')\n",
    "print(f'X log-evidence of Model 1 is {ZX1:.4f}')\n",
    "print(f'Y log-evidence of (true)  Model 0 is {ZY0:.4f}')\n",
    "print(f'Y log-evidence of (false) Model 1 is {ZY1:.4f}')\n",
    "print(f'X log-Bayes Factor between Model 0 and 1 is {ZX0 - ZX1:.4f}')\n",
    "print(f'Y log-Bayes Factor between Model 0 and 1 is {ZY0 - ZY1:.4f}')\n",
    "print(f'The difference is {ZY0-ZY1-ZX0+ZX1:.4f}')"
   ]
  },
  {
   "cell_type": "code",
   "execution_count": 26,
   "metadata": {},
   "outputs": [
    {
     "name": "stdout",
     "output_type": "stream",
     "text": [
      "[-0.78799394 -0.25989193]\n",
      "[[ 8.82023381 10.86026006]\n",
      " [10.86026006 13.4396434 ]]\n",
      "[[0.58424782 0.69444444]\n",
      " [0.69444444 0.87962963]]\n",
      "[[10.  0.]\n",
      " [ 0. 10.]]\n"
     ]
    }
   ],
   "source": [
    "print(Y1.numpy())\n",
    "print(H1.numpy())\n",
    "print(Lambda1.numpy())\n",
    "print(Sigma1.numpy())"
   ]
  },
  {
   "cell_type": "code",
   "execution_count": 27,
   "metadata": {},
   "outputs": [],
   "source": [
    "ntrials = 100000\n",
    "\n",
    "Z0_X = np.zeros(ntrials)\n",
    "Z1_X = np.zeros(ntrials)\n",
    "Z0_Y = np.zeros(ntrials)\n",
    "Z1_Y = np.zeros(ntrials)\n",
    "Bayes_X = np.zeros(ntrials)\n",
    "Bayes_Y = np.zeros(ntrials)\n",
    "Bayes_diff = np.zeros(ntrials)\n",
    "\n",
    "debug=False\n",
    "\n",
    "for n in range(ntrials):\n",
    "    data = model_0(xvals, m0_parameters) + \\\n",
    "            torch.empty(ndata).normal_(mean=0.0,std=sigma)\n",
    "    data = data.type(torch.float64)\n",
    "    \n",
    "    Z0_X[n]  = X_pdf0.log_prob(data).item()\n",
    "    Z1_X[n]  = X_pdf1.log_prob(data).item()\n",
    "    \n",
    "    Bayes_X[n] = Z0_X[n]-Z1_X[n]\n",
    "     \n",
    "    Y1   = B1.t() @ (data-mustar_1)  \n",
    "\n",
    "    Z0_Y[n]  = Z0(Y1, design_0, B1, Lambda1, Sigma0, mustar_0, mustar_1)\n",
    "    Z1_Y[n]  = ZY_pdf1.log_prob(Y1).item()\n",
    "    \n",
    "    Bayes_Y[n] = Z0_Y[n]-Z1_Y[n]\n",
    "\n",
    "    Bayes_diff[n] = Bayes_Y[n] - Bayes_X[n]\n",
    "    \n",
    "    if(debug):\n",
    "        print('Y1=',Y1.numpy())\n",
    "        print('ZY0=',Z0_Y[n])\n",
    "        print('ZY1=',Z1_Y[n])\n",
    "        print('BX=',Z0_X[n]-Z1_X[n])\n",
    "        print('BY=',Z0_Y[n]-Z1_Y[n])"
   ]
  },
  {
   "cell_type": "code",
   "execution_count": 28,
   "metadata": {},
   "outputs": [
    {
     "data": {
      "image/png": "[encoded data removed]",
      "text/plain": [
       "<Figure size 432x288 with 1 Axes>"
      ]
     },
     "metadata": {
      "needs_background": "light"
     },
     "output_type": "display_data"
    }
   ],
   "source": [
    "nbins = 50\n",
    "\n",
    "plt.hist(Z0_X,bins=nbins, alpha=1, range=[np.min(Z1_X),np.max(Z0_X)]);\n",
    "plt.hist(Z1_X,bins=nbins, alpha=0.5, range=[np.min(Z1_X),np.max(Z0_X)]);\n",
    "plt.xlabel(r'$\\ln Z$', fontsize=20);\n",
    "plt.ylabel(r'$p(\\ln Z)$', fontsize=20);\n",
    "plt.legend([r'$Z_0$',r'$Z_1$'], fontsize=20)\n",
    "plt.title('No compression', fontsize=20)\n",
    "plt.savefig(fileroot+'ZX01.pdf', bbox_inches='tight')"
   ]
  },
  {
   "cell_type": "code",
   "execution_count": 29,
   "metadata": {},
   "outputs": [
    {
     "data": {
      "image/png": "[encoded data removed]",
      "text/plain": [
       "<Figure size 432x288 with 1 Axes>"
      ]
     },
     "metadata": {
      "needs_background": "light"
     },
     "output_type": "display_data"
    }
   ],
   "source": [
    "plt.hist(Z0_Y,bins=nbins, alpha=1, \\\n",
    "         range=[np.min(Z0_Y),np.max(Z0_Y)]);\n",
    "plt.xlabel(r'$\\ln Z_0$', fontsize=20);\n",
    "plt.ylabel(r'$p(\\ln Z)$', fontsize=20);\n",
    "plt.title('MOPED compression', fontsize=20)\n",
    "plt.savefig(fileroot+'ZY0.pdf', bbox_inches='tight')"
   ]
  },
  {
   "cell_type": "code",
   "execution_count": 30,
   "metadata": {},
   "outputs": [
    {
     "data": {
      "image/png": "[encoded data removed]",
      "text/plain": [
       "<Figure size 432x288 with 1 Axes>"
      ]
     },
     "metadata": {
      "needs_background": "light"
     },
     "output_type": "display_data"
    }
   ],
   "source": [
    "plt.hist(Z1_Y,bins=nbins, alpha=1, \\\n",
    "         range=[np.min(Z1_Y),np.max(Z1_Y)]);\n",
    "plt.xlabel(r'$\\ln Z_1$', fontsize=20);\n",
    "plt.ylabel(r'$p(\\ln Z)$', fontsize=20);\n",
    "plt.title('MOPED compression', fontsize=20)\n",
    "plt.savefig(fileroot+'ZY1.pdf', bbox_inches='tight')"
   ]
  },
  {
   "cell_type": "code",
   "execution_count": 31,
   "metadata": {},
   "outputs": [
    {
     "data": {
      "image/png": "[encoded data removed]",
      "text/plain": [
       "<Figure size 432x288 with 1 Axes>"
      ]
     },
     "metadata": {
      "needs_background": "light"
     },
     "output_type": "display_data"
    }
   ],
   "source": [
    "plt.hist(Z0_Y,bins=nbins, alpha=1, \\\n",
    "         range=[np.min([np.min(Z0_Y),np.min(Z1_Y)]),np.max([np.max(Z0_Y),np.max(Z1_Y)])]);\n",
    "plt.hist(Z1_Y,bins=nbins, alpha=0.5);\n",
    "plt.xlabel(r'$\\ln Z$', fontsize=20);\n",
    "plt.ylabel(r'$p(\\ln Z)$', fontsize=20);\n",
    "plt.legend([r'$Z_0$',r'$Z_1$'], fontsize=20)\n",
    "plt.title('MOPED compression', fontsize=20)\n",
    "plt.savefig(fileroot+'ZY01.pdf', bbox_inches='tight')"
   ]
  },
  {
   "cell_type": "code",
   "execution_count": 32,
   "metadata": {},
   "outputs": [
    {
     "data": {
      "image/png": "[encoded data removed]",
      "text/plain": [
       "<Figure size 432x288 with 1 Axes>"
      ]
     },
     "metadata": {
      "needs_background": "light"
     },
     "output_type": "display_data"
    }
   ],
   "source": [
    "plotmin = np.min([np.min(Bayes_X),np.min(Bayes_Y)])\n",
    "plotmax = np.max([np.max(Bayes_X),np.max(Bayes_Y)])\n",
    "\n",
    "plt.hist(Bayes_X, alpha=1,bins=nbins, range=[plotmin,plotmax]);\n",
    "plt.hist(Bayes_Y, alpha=0.5,bins=nbins, range=[plotmin,plotmax]);\n",
    "plt.xlabel(r'$\\ln B_{01}$', fontsize=20);\n",
    "plt.ylabel(r'$p(\\ln B_{01})$', fontsize=20);\n",
    "plt.legend(['No compression','MOPED compression'], fontsize=20)\n",
    "plt.savefig(fileroot+'BXY.pdf', bbox_inches='tight')"
   ]
  },
  {
   "cell_type": "code",
   "execution_count": 33,
   "metadata": {
    "scrolled": true
   },
   "outputs": [
    {
     "data": {
      "image/png": "[encoded data removed]",
      "text/plain": [
       "<Figure size 432x288 with 1 Axes>"
      ]
     },
     "metadata": {
      "needs_background": "light"
     },
     "output_type": "display_data"
    }
   ],
   "source": [
    "limitscale = np.min([np.min(Bayes_X)/np.max(Bayes_X),np.min(Bayes_Y)/np.max(Bayes_Y)])\n",
    "\n",
    "plotmax = np.max(Bayes_X)*1.2\n",
    "#plotmin = plotmax*limitscale\n",
    "plotmin = np.min(Bayes_X)\n",
    "\n",
    "plt.hist(Bayes_X, alpha=1,bins=nbins, color='gray',range=[plotmin,plotmax]);\n",
    "plt.xlabel(r'$\\ln B_{01}$', fontsize=20);\n",
    "plt.ylabel(r'$p(\\ln B_{01})$', fontsize=20);\n",
    "plt.title('No compression', fontsize=20)\n",
    "plt.savefig(fileroot+'BX.pdf', bbox_inches='tight')"
   ]
  },
  {
   "cell_type": "code",
   "execution_count": 34,
   "metadata": {},
   "outputs": [
    {
     "data": {
      "image/png": "[encoded data removed]",
      "text/plain": [
       "<Figure size 432x288 with 1 Axes>"
      ]
     },
     "metadata": {
      "needs_background": "light"
     },
     "output_type": "display_data"
    }
   ],
   "source": [
    "#plotmin = np.min(Bayes_Y)\n",
    "plotmax = np.max(Bayes_Y)\n",
    "plotmin = plotmax*limitscale\n",
    "plotmin = np.min(Bayes_Y)\n",
    "\n",
    "plt.hist(Bayes_Y, alpha=1,bins=nbins, color='Maroon',range=[plotmin,plotmax]);\n",
    "plt.xlabel(r'$\\ln B_{01}$', fontsize=20);\n",
    "plt.ylabel(r'$p(\\ln B_{01})$', fontsize=20);\n",
    "plt.title('MOPED compression', fontsize=20)\n",
    "plt.savefig(fileroot+'BY.pdf', bbox_inches='tight')"
   ]
  },
  {
   "cell_type": "code",
   "execution_count": 35,
   "metadata": {},
   "outputs": [
    {
     "name": "stdout",
     "output_type": "stream",
     "text": [
      "Fraction X0: 0.00413\n",
      "Fraction Y0: 0.00394\n",
      "True model : 0\n"
     ]
    }
   ],
   "source": [
    "FractionX0 = (Bayes_X > 0).sum()/ntrials\n",
    "FractionY0 = (Bayes_Y > 0).sum()/ntrials\n",
    "\n",
    "print('Fraction X0:', FractionX0)\n",
    "print('Fraction Y0:', FractionY0)\n",
    "\n",
    "print('True model :',trueModel)"
   ]
  },
  {
   "cell_type": "code",
   "execution_count": null,
   "metadata": {},
   "outputs": [],
   "source": []
  }
 ],
 "metadata": {
  "kernelspec": {
   "display_name": "Python 3",
   "language": "python",
   "name": "python3"
  },
  "language_info": {
   "codemirror_mode": {
    "name": "ipython",
    "version": 3
   },
   "file_extension": ".py",
   "mimetype": "text/x-python",
   "name": "python",
   "nbconvert_exporter": "python",
   "pygments_lexer": "ipython3",
   "version": "3.7.6"
  }
 },
 "nbformat": 4,
 "nbformat_minor": 5
}
