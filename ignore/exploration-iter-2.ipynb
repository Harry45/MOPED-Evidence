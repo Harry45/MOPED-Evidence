{
 "cells": [
  {
   "cell_type": "code",
   "execution_count": 1,
   "metadata": {},
   "outputs": [],
   "source": [
    "import numpy as np \n",
    "import pandas as pd\n",
    "from scipy.optimize import minimize\n",
    "import matplotlib.pylab as plt \n",
    "\n",
    "plt.rc('text', usetex=True)\n",
    "plt.rc('font',**{'family':'sans-serif','serif':['Palatino']})\n",
    "figSize  = (12, 8)\n",
    "fontSize = 20"
   ]
  },
  {
   "cell_type": "code",
   "execution_count": 2,
   "metadata": {},
   "outputs": [],
   "source": [
    "class FirstModel:\n",
    "    def __init__(self, domain, fiducial, noisecov):\n",
    "\n",
    "        self.domain = domain\n",
    "        self.fiducial = fiducial\n",
    "        self.nparam = len(fiducial)\n",
    "        self.ndata = len(self.domain)\n",
    "        \n",
    "        # (N x p)\n",
    "        self.grad1 = self.gradient(fiducial)\n",
    "        \n",
    "        # (N x p)\n",
    "        self.bmat1 = np.linalg.inv(noisecov) @ self.grad1\n",
    "        \n",
    "        # (p x p)\n",
    "        self.lam1 = self.bmat1.T @ noisecov @ self.bmat1\n",
    "        \n",
    "        # theory of size N \n",
    "        self.theory_fid_1 = self.function(self.fiducial)\n",
    "\n",
    "    ## Example 1 \n",
    "\n",
    "    def function(self, parameters):\n",
    "        mean = parameters[0] * np.sin(parameters[1] * self.domain)\n",
    "        return mean\n",
    "        \n",
    "    def gradient(self, parameters):\n",
    "        gradient_param_0 = np.sin(parameters[1] * self.domain)\n",
    "        gradient_param_1 = parameters[0] * self.domain * np.cos(parameters[1] * self.domain)\n",
    "        grad = np.vstack([gradient_param_0, gradient_param_1]).T\n",
    "        return grad \n",
    "\n",
    "    ## Example 2\n",
    "\n",
    "#     def function(self, parameters):\n",
    "#         mean = parameters[0] * self.domain**3 + parameters[1] * self.domain + parameters[2]\n",
    "#         return mean\n",
    "        \n",
    "#     def gradient(self, parameters):\n",
    "#         grad = np.vstack([self.domain**3, self.domain, np.ones(self.ndata)]).T\n",
    "#         return grad \n",
    "\n",
    "    ## Example 3\n",
    "\n",
    "#     def function(self, parameters):\n",
    "#         mean = parameters[0] * self.domain**2 + parameters[1] * self.domain\n",
    "#         return mean\n",
    "        \n",
    "#     def gradient(self, parameters):\n",
    "#         grad = np.vstack([self.domain**2, self.domain]).T\n",
    "#         return grad "
   ]
  },
  {
   "cell_type": "code",
   "execution_count": 3,
   "metadata": {},
   "outputs": [],
   "source": [
    "class SecondModel(FirstModel):\n",
    "    \n",
    "    def __init__(self, domain, fiducial1, fiducial2, noisecov):\n",
    "        \n",
    "        self.domain = domain \n",
    "        self.fiducial = fiducial2\n",
    "        self.nparam = len(fiducial2)\n",
    "        \n",
    "        # the first model\n",
    "        self.first_model = FirstModel(domain, fiducial1, noisecov)\n",
    "        \n",
    "        assert self.first_model.nparam >= self.nparam, 'Model 1 should have atleast the same number of parameters as Model 2'\n",
    "        \n",
    "        # (N x m)\n",
    "        self.grad2 = self.gradient(self.fiducial)\n",
    "        \n",
    "        # new B matrix \n",
    "        self.bmat2 = self.grad2.T @ self.first_model.bmat1 @ np.linalg.inv(self.first_model.lam1)\n",
    "        \n",
    "        # (m x m)\n",
    "        self.lam2 = self.bmat2 @ self.first_model.bmat1.T @ self.grad2\n",
    "        \n",
    "        # theory of size N \n",
    "        self.theory_fid_2 = self.function(self.fiducial) \n",
    "        \n",
    "    def function(self, parameters):\n",
    "        mean = parameters[0] * self.domain**3 + parameters[1] * self.domain\n",
    "        return mean\n",
    "    \n",
    "    def gradient(self, parameters):\n",
    "        grad = np.vstack([self.domain**3, self.domain]).T\n",
    "        return grad"
   ]
  },
  {
   "cell_type": "code",
   "execution_count": 4,
   "metadata": {},
   "outputs": [],
   "source": [
    "def evidence_full_data(data, cov_data, comp_data, comp_cov, cov_prior):\n",
    "    invterm = np.linalg.inv(comp_cov + np.linalg.inv(cov_prior))\n",
    "    det1 = np.linalg.slogdet(2.0 * np.pi * invterm)[1]\n",
    "    det2 = np.linalg.slogdet(2.0 * np.pi * cov_data)[1]\n",
    "    det3 = np.linalg.slogdet(2.0 * np.pi * cov_prior)[1]\n",
    "    chi2_1 = data @ np.linalg.inv(cov_data) @ data\n",
    "    chi2_2 = comp_data @ invterm @ comp_data\n",
    "    evidence = 0.5 * (det1 - det2 - det3 - chi2_1 + chi2_2)\n",
    "    return evidence"
   ]
  },
  {
   "cell_type": "code",
   "execution_count": 5,
   "metadata": {},
   "outputs": [],
   "source": [
    "def evidence_comp_data_1(comp_data, comp_cov, cov_prior):\n",
    "    invterm = np.linalg.inv(comp_cov + np.linalg.inv(cov_prior))\n",
    "    det1 = np.linalg.slogdet(2.0 * np.pi * invterm)[1]\n",
    "    det2 = np.linalg.slogdet(2.0 * np.pi * comp_cov)[1]\n",
    "    det3 = np.linalg.slogdet(2.0 * np.pi * cov_prior)[1]\n",
    "    chi2_1 = comp_data @ np.linalg.inv(comp_cov) @ comp_data\n",
    "    chi2_2 = comp_data @ invterm @ comp_data\n",
    "    evidence = 0.5 * (det1 - det2 - det3 - chi2_1 + chi2_2)\n",
    "    return evidence"
   ]
  },
  {
   "cell_type": "code",
   "execution_count": 6,
   "metadata": {},
   "outputs": [],
   "source": [
    "def evidence_comp_data_2(comp_data1, comp_data2, comp_cov1, comp_cov2, cov_prior):\n",
    "    invterm = np.linalg.inv(comp_cov2 + np.linalg.inv(cov_prior))\n",
    "    det1 = np.linalg.slogdet(2.0 * np.pi * invterm)[1]\n",
    "    det2 = np.linalg.slogdet(2.0 * np.pi * comp_cov1)[1]\n",
    "    det3 = np.linalg.slogdet(2.0 * np.pi * cov_prior)[1]\n",
    "    chi2_1 = comp_data1 @ np.linalg.inv(comp_cov1) @ comp_data1\n",
    "    chi2_2 = comp_data2 @ invterm @ comp_data2\n",
    "    evidence = 0.5 * (det1 - det2 - det3 - chi2_1 + chi2_2)\n",
    "    return evidence"
   ]
  },
  {
   "cell_type": "code",
   "execution_count": 43,
   "metadata": {},
   "outputs": [],
   "source": [
    "class EvidenceAndBF:\n",
    "    \n",
    "    def __init__(self, domain, fiducial1, fiducial2, noisecov, covprior1, covprior2):\n",
    "        \n",
    "        self.noisecov = noisecov\n",
    "        self.invnoise = np.linalg.inv(noisecov)\n",
    "        \n",
    "        self.covprior1 = covprior1\n",
    "        self.covprior2 = covprior2\n",
    "    \n",
    "        self.models = SecondModel(domain, fiducial1, fiducial2, noisecov)\n",
    "        # self.delta_mu = np.zeros(len(domain))\n",
    "        self.delta_mu = self.models.first_model.theory_fid_1 - self.models.theory_fid_2\n",
    "        self.delta_ys = self.models.first_model.bmat1.T @ self.delta_mu\n",
    "        \n",
    "    def calculations(self, data):\n",
    "        \n",
    "        capital_x1 = data - self.models.first_model.theory_fid_1\n",
    "        capital_x2 = capital_x1 + self.delta_mu\n",
    "        capital_y1 = self.models.first_model.bmat1.T @ capital_x1\n",
    "        capital_y2 = capital_y1 + self.delta_ys\n",
    "        capital_By2 = self.models.bmat2 @ capital_y2\n",
    "        \n",
    "        # uncompressed \n",
    "        evidence_1 = evidence_full_data(capital_x1, self.noisecov, capital_y1, self.models.first_model.lam1, self.covprior1)\n",
    "        evidence_2 = evidence_full_data(capital_x2, self.noisecov, capital_By2, self.models.lam2, self.covprior2)\n",
    "\n",
    "        # evidence for the compressed data \n",
    "        comp_evi_1 = evidence_comp_data_1(capital_y1, self.models.first_model.lam1, self.covprior1)\n",
    "        comp_evi_2 = evidence_comp_data_2(capital_y2, capital_By2, self.models.first_model.lam1, self.models.lam2, self.covprior2)\n",
    "        \n",
    "        \n",
    "        # record all quantities \n",
    "        record = dict()\n",
    "        record['evi_full_1'] = evidence_1\n",
    "        record['evi_full_2'] = evidence_2\n",
    "        record['evi_comp_1'] = comp_evi_1\n",
    "        record['evi_comp_2'] = comp_evi_2\n",
    "        record['bf_full'] = evidence_1 - evidence_2\n",
    "        record['bf_comp'] = comp_evi_1 - comp_evi_2\n",
    "        \n",
    "        return record "
   ]
  },
  {
   "cell_type": "code",
   "execution_count": 44,
   "metadata": {},
   "outputs": [],
   "source": [
    "sigma = 0.2\n",
    "ndata = 100\n",
    "minx = 0.0 \n",
    "maxx = np.pi \n",
    "prior_width = 10.0 \n",
    "ntrials = 5000\n",
    "\n",
    "## For Example 1 \n",
    "fid1 = [4.0, 0.75] \n",
    "fid2 = [-0.2, 3.0] \n",
    "\n",
    "## For Example 2 \n",
    "# fid1 = [-0.5, 2.0, 0.5] \n",
    "# fid2 = [-1.0, 4.0]\n",
    "\n",
    "## For Example 3 \n",
    "# fid1 = [-1.0, 4.0]\n",
    "# fid2 = [-1.0, 4.0]\n",
    "\n",
    "nparam1 = len(fid1)\n",
    "nparam2 = len(fid2)\n",
    "\n",
    "prior_cov_1 = prior_width * np.eye(nparam1)\n",
    "prior_cov_2 = prior_width * np.eye(nparam2)\n",
    "\n",
    "domain = np.linspace(minx, maxx, ndata)\n",
    "noise_cov = np.diag(np.ones(ndata)*sigma**2)\n",
    "\n",
    "## Labels for Example 1\n",
    "label_model_1 = r'$A\\,\\textrm{sin}\\omega t$'\n",
    "label_model_2 = r'$at^{3}+bt$'\n",
    "\n",
    "## Labels for Example 2\n",
    "# label_model_1 = r'$at^{3}+bt+c$'\n",
    "# label_model_2 = r'$pt^{3}+qt$'\n",
    "\n",
    "## Labels for Example 3\n",
    "# label_model_1 = r'$at^{2}+bt$'\n",
    "# label_model_2 = r'$pt^{3}+qt$'"
   ]
  },
  {
   "cell_type": "markdown",
   "metadata": {},
   "source": [
    "### Single Experiment"
   ]
  },
  {
   "cell_type": "code",
   "execution_count": 45,
   "metadata": {},
   "outputs": [],
   "source": [
    "def log_likelihood(parameters, data, domain, fid1, fid2, covariance, option=1):\n",
    "    model = SecondModel(domain, fid1, fid2, covariance)\n",
    "    if option == 1:\n",
    "        theory = model.first_model.function(parameters)\n",
    "    else:\n",
    "        theory = model.function(parameters)\n",
    "    diff = data - theory \n",
    "    return -0.5*diff @ np.linalg.inv(covariance) @ diff\n",
    "\n",
    "nll = lambda *args: -log_likelihood(*args)"
   ]
  },
  {
   "cell_type": "code",
   "execution_count": 46,
   "metadata": {},
   "outputs": [],
   "source": [
    "evidence_bf = EvidenceAndBF(domain, fid1, fid2, noise_cov, prior_cov_1, prior_cov_2)\n",
    "data = evidence_bf.models.first_model.theory_fid_1 + sigma*np.random.randn(ndata)"
   ]
  },
  {
   "cell_type": "code",
   "execution_count": 47,
   "metadata": {},
   "outputs": [],
   "source": [
    "soln_1 = minimize(nll, fid1, args=(data, domain, fid1, fid2, noise_cov, 1))\n",
    "soln_2 = minimize(nll, fid2, args=(data, domain, fid1, fid2, noise_cov, 2))"
   ]
  },
  {
   "cell_type": "code",
   "execution_count": 48,
   "metadata": {},
   "outputs": [
    {
     "data": {
      "text/plain": [
       "array([4.04044479, 0.75764885])"
      ]
     },
     "execution_count": 48,
     "metadata": {},
     "output_type": "execute_result"
    }
   ],
   "source": [
    "soln_1.x"
   ]
  },
  {
   "cell_type": "code",
   "execution_count": 49,
   "metadata": {},
   "outputs": [
    {
     "data": {
      "text/plain": [
       "array([-0.21098162,  2.89386026])"
      ]
     },
     "execution_count": 49,
     "metadata": {},
     "output_type": "execute_result"
    }
   ],
   "source": [
    "soln_2.x"
   ]
  },
  {
   "cell_type": "markdown",
   "metadata": {},
   "source": [
    "### Update the Fiducial Points"
   ]
  },
  {
   "cell_type": "code",
   "execution_count": 50,
   "metadata": {},
   "outputs": [],
   "source": [
    "fid1 = soln_1.x\n",
    "fid2 = soln_2.x\n",
    "evidence_bf = EvidenceAndBF(domain, fid1, fid2, noise_cov, prior_cov_1, prior_cov_2)"
   ]
  },
  {
   "cell_type": "code",
   "execution_count": 51,
   "metadata": {},
   "outputs": [
    {
     "data": {
      "text/plain": [
       "{'evi_full_1': 13.12314685121107,\n",
       " 'evi_full_2': 3.6531329693868035,\n",
       " 'evi_comp_1': -21.75316806003847,\n",
       " 'evi_comp_2': -22.915384319786213,\n",
       " 'bf_full': 9.470013881824267,\n",
       " 'bf_comp': 1.1622162597477441}"
      ]
     },
     "execution_count": 51,
     "metadata": {},
     "output_type": "execute_result"
    }
   ],
   "source": [
    "evidence_bf.calculations(data)"
   ]
  },
  {
   "cell_type": "code",
   "execution_count": null,
   "metadata": {},
   "outputs": [],
   "source": [
    "# {'evi_full_1': 5.9773886988790315,\n",
    "#  'evi_full_2': -1.2133828805285356,\n",
    "#  'evi_comp_1': -21.67452019109978,\n",
    "#  'evi_comp_2': -22.876995061070843,\n",
    "#  'bf_full': 7.190771579407567,\n",
    "#  'bf_comp': 1.2024748699710628}"
   ]
  },
  {
   "cell_type": "markdown",
   "metadata": {},
   "source": [
    "# Exact Evidence\n",
    "\n",
    "Execute only when we have two polynomials"
   ]
  },
  {
   "cell_type": "code",
   "execution_count": 35,
   "metadata": {},
   "outputs": [],
   "source": [
    "def exact_evidence(data, noise_cov, gradient, covprior):\n",
    "    invnoise = np.linalg.inv(noise_cov)\n",
    "    prod1 = gradient.T @ invnoise @ gradient \n",
    "    prod2 = gradient.T @ invnoise @ data\n",
    "    invterm = np.linalg.inv(prod1 + np.linalg.inv(covprior))\n",
    "    det1 = np.linalg.slogdet(2.0 * np.pi * invterm)[1]\n",
    "    det2 = np.linalg.slogdet(2.0 * np.pi * noise_cov)[1]\n",
    "    det3 = np.linalg.slogdet(2.0 * np.pi * covprior)[1]\n",
    "    chi2_1 = data @ invnoise @ data\n",
    "    chi2_2 = prod2.T @ invterm @ prod2\n",
    "    evidence = 0.5 * (det1 - det2 - det3 - chi2_1 + chi2_2)\n",
    "    return evidence"
   ]
  },
  {
   "cell_type": "code",
   "execution_count": 36,
   "metadata": {},
   "outputs": [],
   "source": [
    "# polynomial = False\n",
    "# if polynomial: \n",
    "\n",
    "#     grad1 = np.vstack([domain**3, domain, np.ones(len(domain))]).T\n",
    "#     grad2 = np.vstack([domain**3, domain]).T\n",
    "#     theory_fid_1 = fid1[0]*domain**3 + fid1[1] * domain + fid1[2]\n",
    "#     theory_fid_2 = fid2[0]*domain**3 + fid2[1] * domain\n",
    "#     X1 = data - theory_fid_1\n",
    "#     X2 = X1 + (theory_fid_1 - theory_fid_2)\n",
    "#     evi1 = exact_evidence(X1, noise_cov, grad1, prior_cov_1)\n",
    "#     evi2 = exact_evidence(X2, noise_cov, grad2, prior_cov_2)\n",
    "    \n",
    "#     print(f'log-evidence for Model 1 is {evi1:.3f}')\n",
    "#     print(f'log-evidence for Model 2 is {evi2:.3f}')"
   ]
  },
  {
   "cell_type": "markdown",
   "metadata": {},
   "source": [
    "### Plot of an example of data"
   ]
  },
  {
   "cell_type": "code",
   "execution_count": 37,
   "metadata": {},
   "outputs": [],
   "source": [
    "grid = np.linspace(minx, maxx, 1000)\n",
    "theory_1 = FirstModel(grid, fid1, 1E-5*np.eye(1000)).function(fid1)\n",
    "theory_2 = SecondModel(grid, fid1, fid2, 1E-5*np.eye(1000)).function(fid2)"
   ]
  },
  {
   "cell_type": "code",
   "execution_count": 38,
   "metadata": {},
   "outputs": [
    {
     "data": {
      "image/png": "[encoded data removed]",
      "text/plain": [
       "<Figure size 576x576 with 1 Axes>"
      ]
     },
     "metadata": {
      "needs_background": "light"
     },
     "output_type": "display_data"
    }
   ],
   "source": [
    "plt.figure(figsize=(8,8))\n",
    "plt.errorbar(domain, data, yerr=sigma, fmt = 'co', markersize = 2)\n",
    "plt.plot(grid, theory_1, lw = 2, c = 'k', label = label_model_1)\n",
    "plt.plot(grid, theory_2, lw = 2, c = 'r', label = label_model_2)\n",
    "plt.xlim(minx, maxx)\n",
    "plt.xlabel(r'$t$', fontsize = fontSize)\n",
    "plt.ylabel(r'$f(t)$', fontsize = fontSize)\n",
    "plt.tick_params(axis='x', labelsize=fontSize)\n",
    "plt.tick_params(axis='y', labelsize=fontSize)\n",
    "plt.legend(loc = 'best',prop={'family':'sans-serif', 'size':15})\n",
    "# plt.savefig('results/data.pdf', bbox_inches = 'tight')\n",
    "# plt.savefig('results/data.png', bbox_inches = 'tight')\n",
    "plt.show()"
   ]
  },
  {
   "cell_type": "markdown",
   "metadata": {},
   "source": [
    "### Repeated Experiments"
   ]
  },
  {
   "cell_type": "code",
   "execution_count": 248,
   "metadata": {},
   "outputs": [],
   "source": [
    "store_quantities = list()\n",
    "for i in range(ntrials):\n",
    "    data = evidence_bf.models.first_model.theory_fid_1 + sigma*np.random.randn(ndata)\n",
    "    calculations = evidence_bf.calculations(data)\n",
    "    store_quantities.append(calculations)"
   ]
  },
  {
   "cell_type": "code",
   "execution_count": 249,
   "metadata": {},
   "outputs": [],
   "source": [
    "dataframe = pd.DataFrame(store_quantities)"
   ]
  },
  {
   "cell_type": "code",
   "execution_count": 250,
   "metadata": {},
   "outputs": [
    {
     "data": {
      "text/html": [
       "<div>\n",
       "<style scoped>\n",
       "    .dataframe tbody tr th:only-of-type {\n",
       "        vertical-align: middle;\n",
       "    }\n",
       "\n",
       "    .dataframe tbody tr th {\n",
       "        vertical-align: top;\n",
       "    }\n",
       "\n",
       "    .dataframe thead th {\n",
       "        text-align: right;\n",
       "    }\n",
       "</style>\n",
       "<table border=\"1\" class=\"dataframe\">\n",
       "  <thead>\n",
       "    <tr style=\"text-align: right;\">\n",
       "      <th></th>\n",
       "      <th>evi_full_1</th>\n",
       "      <th>evi_full_2</th>\n",
       "      <th>evi_comp_1</th>\n",
       "      <th>evi_comp_2</th>\n",
       "      <th>bf_full</th>\n",
       "      <th>bf_comp</th>\n",
       "    </tr>\n",
       "  </thead>\n",
       "  <tbody>\n",
       "    <tr>\n",
       "      <th>0</th>\n",
       "      <td>0.660751</td>\n",
       "      <td>-5.821189</td>\n",
       "      <td>-21.635270</td>\n",
       "      <td>-22.857558</td>\n",
       "      <td>6.481939</td>\n",
       "      <td>1.222288</td>\n",
       "    </tr>\n",
       "    <tr>\n",
       "      <th>1</th>\n",
       "      <td>9.317743</td>\n",
       "      <td>6.125880</td>\n",
       "      <td>-21.635267</td>\n",
       "      <td>-22.857573</td>\n",
       "      <td>3.191863</td>\n",
       "      <td>1.222306</td>\n",
       "    </tr>\n",
       "    <tr>\n",
       "      <th>2</th>\n",
       "      <td>9.355336</td>\n",
       "      <td>1.926087</td>\n",
       "      <td>-21.635307</td>\n",
       "      <td>-22.857624</td>\n",
       "      <td>7.429249</td>\n",
       "      <td>1.222317</td>\n",
       "    </tr>\n",
       "    <tr>\n",
       "      <th>3</th>\n",
       "      <td>-1.676371</td>\n",
       "      <td>-19.157960</td>\n",
       "      <td>-21.635286</td>\n",
       "      <td>-22.857549</td>\n",
       "      <td>17.481588</td>\n",
       "      <td>1.222263</td>\n",
       "    </tr>\n",
       "    <tr>\n",
       "      <th>4</th>\n",
       "      <td>5.969439</td>\n",
       "      <td>-1.707449</td>\n",
       "      <td>-21.635268</td>\n",
       "      <td>-22.857542</td>\n",
       "      <td>7.676889</td>\n",
       "      <td>1.222274</td>\n",
       "    </tr>\n",
       "  </tbody>\n",
       "</table>\n",
       "</div>"
      ],
      "text/plain": [
       "   evi_full_1  evi_full_2  evi_comp_1  evi_comp_2    bf_full   bf_comp\n",
       "0    0.660751   -5.821189  -21.635270  -22.857558   6.481939  1.222288\n",
       "1    9.317743    6.125880  -21.635267  -22.857573   3.191863  1.222306\n",
       "2    9.355336    1.926087  -21.635307  -22.857624   7.429249  1.222317\n",
       "3   -1.676371  -19.157960  -21.635286  -22.857549  17.481588  1.222263\n",
       "4    5.969439   -1.707449  -21.635268  -22.857542   7.676889  1.222274"
      ]
     },
     "execution_count": 250,
     "metadata": {},
     "output_type": "execute_result"
    }
   ],
   "source": [
    "dataframe.head()"
   ]
  },
  {
   "cell_type": "markdown",
   "metadata": {},
   "source": [
    "## Plots"
   ]
  },
  {
   "cell_type": "code",
   "execution_count": 251,
   "metadata": {},
   "outputs": [
    {
     "data": {
      "image/png": "[encoded data removed]",
      "text/plain": [
       "<Figure size 1440x576 with 2 Axes>"
      ]
     },
     "metadata": {
      "needs_background": "light"
     },
     "output_type": "display_data"
    }
   ],
   "source": [
    "max_first = np.mean(dataframe['evi_full_1'].values)\n",
    "max_second = np.mean(dataframe['evi_full_2'].values)\n",
    "\n",
    "plt.figure(figsize = (20,8))\n",
    "plt.suptitle('No Compression', fontsize = fontSize, y=0.95)\n",
    "plt.subplot(121)\n",
    "plt.hist(dataframe['evi_full_1'].values - max_first, density = True, edgecolor='b', linewidth=1.0, label = label_model_1, alpha = 0.2)\n",
    "plt.xlabel(r'$\\textrm{log }Z-$' + f'{abs(max_first):.2f}', fontsize = fontSize, labelpad=20)\n",
    "plt.tick_params(axis='x', labelsize=fontSize)\n",
    "plt.tick_params(axis='y', labelsize=fontSize)\n",
    "# plt.ticklabel_format(style='sci', axis='y', scilimits=(0,0))\n",
    "# plt.ticklabel_format(style='sci', axis='x', scilimits=(0,0))\n",
    "plt.legend(loc = 'upper left',prop={'family':'sans-serif', 'size':15})\n",
    "\n",
    "plt.subplot(122)\n",
    "plt.hist(dataframe['evi_full_2'].values - max_second, density = True, edgecolor='r', linewidth=1.5, label = label_model_2, histtype='step')\n",
    "plt.xlabel(r'$\\textrm{log }Z-$' + f'{abs(max_second):.2f}', fontsize = fontSize, labelpad=20)\n",
    "plt.tick_params(axis='x', labelsize=fontSize)\n",
    "plt.tick_params(axis='y', labelsize=fontSize)\n",
    "# plt.ticklabel_format(style='sci', axis='y', scilimits=(0,0))\n",
    "# plt.ticklabel_format(style='sci', axis='x', scilimits=(0,0))\n",
    "plt.legend(loc = 'upper left',prop={'family':'sans-serif', 'size':15})\n",
    "\n",
    "# plt.savefig('results/evidence_comp_data.pdf', bbox_inches = 'tight')\n",
    "# plt.savefig('results/evidence_comp_data.png', bbox_inches = 'tight')\n",
    "plt.show()"
   ]
  },
  {
   "cell_type": "code",
   "execution_count": 252,
   "metadata": {},
   "outputs": [
    {
     "data": {
      "image/png": "[encoded data removed]",
      "text/plain": [
       "<Figure size 1440x576 with 2 Axes>"
      ]
     },
     "metadata": {
      "needs_background": "light"
     },
     "output_type": "display_data"
    }
   ],
   "source": [
    "max_comp_first = np.mean(dataframe['evi_comp_1'].values)\n",
    "max_comp_second = np.mean(dataframe['evi_comp_2'].values)\n",
    "\n",
    "plt.figure(figsize = (20,8))\n",
    "plt.suptitle('Compression', fontsize = fontSize, y=0.95)\n",
    "plt.subplot(121)\n",
    "plt.hist(dataframe['evi_comp_1'].values - max_comp_first, density = True, edgecolor='b', linewidth=1.0, label = label_model_1, alpha = 0.2)\n",
    "plt.xlabel(r'$\\textrm{log }Z-$' + f'{abs(max_comp_first):.2f}', fontsize = fontSize, labelpad=20)\n",
    "plt.tick_params(axis='x', labelsize=fontSize)\n",
    "plt.tick_params(axis='y', labelsize=fontSize)\n",
    "# plt.ticklabel_format(style='sci', axis='y', scilimits=(0,0))\n",
    "# plt.ticklabel_format(style='sci', axis='x', scilimits=(0,0))\n",
    "plt.legend(loc = 'upper left',prop={'family':'sans-serif', 'size':15})\n",
    "\n",
    "plt.subplot(122)\n",
    "plt.hist(dataframe['evi_comp_2'].values - max_comp_second, density = True, edgecolor='r', linewidth=1.5, label = label_model_2, histtype='step')\n",
    "plt.xlabel(r'$\\textrm{log }Z-$' + f'{abs(max_comp_second):.2f}', fontsize = fontSize, labelpad=20)\n",
    "plt.tick_params(axis='x', labelsize=fontSize)\n",
    "plt.tick_params(axis='y', labelsize=fontSize)\n",
    "# plt.ticklabel_format(style='sci', axis='y', scilimits=(0,0))\n",
    "# plt.ticklabel_format(style='sci', axis='x', scilimits=(0,0))\n",
    "plt.legend(loc = 'upper left',prop={'family':'sans-serif', 'size':15})\n",
    "\n",
    "# plt.savefig('results/evidence_comp_data.pdf', bbox_inches = 'tight')\n",
    "# plt.savefig('results/evidence_comp_data.png', bbox_inches = 'tight')\n",
    "plt.show()"
   ]
  },
  {
   "cell_type": "code",
   "execution_count": 253,
   "metadata": {},
   "outputs": [
    {
     "data": {
      "image/png": "[encoded data removed]",
      "text/plain": [
       "<Figure size 864x576 with 1 Axes>"
      ]
     },
     "metadata": {
      "needs_background": "light"
     },
     "output_type": "display_data"
    }
   ],
   "source": [
    "plt.figure(figsize = (12,8))\n",
    "plt.title('log Bayes-Factor', fontsize=fontSize, y=1.02)\n",
    "plt.hist(dataframe['bf_full'].values, density = True, edgecolor='b', linewidth=0.5, label = 'Full Data', alpha = 0.2)\n",
    "# plt.hist(dataframe['bf_comp'].values, density = True, edgecolor='r', linewidth=1.5, label = 'Compressed Data', histtype='step')\n",
    "plt.xlabel(r'$\\textrm{log }B_{12}$', fontsize = fontSize, labelpad=20)\n",
    "plt.tick_params(axis='x', labelsize=fontSize)\n",
    "plt.tick_params(axis='y', labelsize=fontSize)\n",
    "# plt.ticklabel_format(style='sci', axis='y', scilimits=(0,0))\n",
    "# plt.ticklabel_format(style='sci', axis='x', scilimits=(0,0))\n",
    "plt.legend(loc = 'upper right',prop={'family':'sans-serif', 'size':15})\n",
    "# plt.savefig('results/log-bayes-factor.pdf', bbox_inches = 'tight')\n",
    "# plt.savefig('results/log-bayes-factor.png', bbox_inches = 'tight')\n",
    "plt.show()"
   ]
  },
  {
   "cell_type": "code",
   "execution_count": 254,
   "metadata": {},
   "outputs": [
    {
     "data": {
      "image/png": "[encoded data removed]",
      "text/plain": [
       "<Figure size 864x576 with 1 Axes>"
      ]
     },
     "metadata": {
      "needs_background": "light"
     },
     "output_type": "display_data"
    }
   ],
   "source": [
    "plt.figure(figsize = (12,8))\n",
    "plt.title('log Bayes-Factor', fontsize=fontSize, y=1.02)\n",
    "# plt.hist(dataframe['bf_full'].values, density = True, edgecolor='b', linewidth=0.5, label = 'Full Data', alpha = 0.2)\n",
    "plt.hist(dataframe['bf_comp'].values, density = True, edgecolor='r', linewidth=1.5, label = 'Compressed Data', histtype='step')\n",
    "plt.xlabel(r'$\\textrm{log }B_{12}$', fontsize = fontSize, labelpad=20)\n",
    "plt.tick_params(axis='x', labelsize=fontSize)\n",
    "plt.tick_params(axis='y', labelsize=fontSize)\n",
    "# plt.ticklabel_format(style='sci', axis='y', scilimits=(0,0))\n",
    "# plt.ticklabel_format(style='sci', axis='x', scilimits=(0,0))\n",
    "plt.legend(loc = 'upper right',prop={'family':'sans-serif', 'size':15})\n",
    "# plt.savefig('results/log-bayes-factor.pdf', bbox_inches = 'tight')\n",
    "# plt.savefig('results/log-bayes-factor.png', bbox_inches = 'tight')\n",
    "plt.show()"
   ]
  },
  {
   "cell_type": "code",
   "execution_count": 28,
   "metadata": {},
   "outputs": [
    {
     "name": "stdout",
     "output_type": "stream",
     "text": [
      "The mean of the log Bayes-Factor distribution is  : 1.128\n",
      "The width of the log Bayes-Factor distribution is : 0.000\n"
     ]
    }
   ],
   "source": [
    "std_bf = np.std(dataframe['bf_comp'].values)\n",
    "mean_bf = np.mean(dataframe['bf_comp'].values)\n",
    "\n",
    "print(f'The mean of the log Bayes-Factor distribution is  : {mean_bf:.3f}')\n",
    "print(f'The width of the log Bayes-Factor distribution is : {std_bf:.3f}')"
   ]
  },
  {
   "cell_type": "code",
   "execution_count": 29,
   "metadata": {},
   "outputs": [],
   "source": [
    "# sigma = 0.5, ndata = 100\n",
    "# The mean of the log Bayes-Factor distribution is  : 0.822\n",
    "# The width of the log Bayes-Factor distribution is : 0.017\n",
    "\n",
    "# sigma = 0.5, ndata = 200\n",
    "# The mean of the log Bayes-Factor distribution is  : 0.789\n",
    "# The width of the log Bayes-Factor distribution is : 0.012\n",
    "    \n",
    "# sigma = 1.0, ndata = 100\n",
    "# The mean of the log Bayes-Factor distribution is  : 1.023\n",
    "# The width of the log Bayes-Factor distribution is : 0.055\n",
    "\n",
    "# sigma = 1.0, ndata = 200\n",
    "# The mean of the log Bayes-Factor distribution is  : 0.702\n",
    "# The width of the log Bayes-Factor distribution is : 0.026"
   ]
  },
  {
   "cell_type": "code",
   "execution_count": null,
   "metadata": {},
   "outputs": [],
   "source": []
  }
 ],
 "metadata": {
  "kernelspec": {
   "display_name": "Python 3",
   "language": "python",
   "name": "python3"
  },
  "language_info": {
   "codemirror_mode": {
    "name": "ipython",
    "version": 3
   },
   "file_extension": ".py",
   "mimetype": "text/x-python",
   "name": "python",
   "nbconvert_exporter": "python",
   "pygments_lexer": "ipython3",
   "version": "3.7.6"
  }
 },
 "nbformat": 4,
 "nbformat_minor": 4
}
