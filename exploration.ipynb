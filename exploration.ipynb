{
 "cells": [
  {
   "cell_type": "code",
   "execution_count": 265,
   "metadata": {},
   "outputs": [],
   "source": [
    "import numpy as np \n",
    "import matplotlib.pylab as plt \n",
    "from scipy.stats import multivariate_normal, norm\n",
    "\n",
    "plt.rc('text', usetex=True)\n",
    "plt.rc('font',**{'family':'sans-serif','serif':['Palatino']})\n",
    "figSize  = (12, 8)\n",
    "fontSize = 20"
   ]
  },
  {
   "cell_type": "markdown",
   "metadata": {},
   "source": [
    "## Sinusiodal Model\n",
    "\n",
    "$$\n",
    "y = A\\,\\textrm{sin}(\\omega t)\n",
    "$$\n",
    "\n",
    "The approximate model is:\n",
    "\n",
    "$$\n",
    "y \\approx A_{*}\\,\\textrm{sin}(\\omega_{*}t) + (A - A_{*})\\textrm{sin}(\\omega_{*}t) + (\\omega - \\omega_{*})\\,A_{*}t\\,\\textrm{cos}(\\omega_{*}t)\n",
    "$$\n",
    "\n",
    "which can be written in matrix format as \n",
    "\n",
    "$$\n",
    "y \\approx A_{*}\\,\\textrm{sin}(\\omega_{*}t) - \\left[\\begin{array}{cc}\n",
    "\\textrm{sin }\\omega_{*}t & \\;\\;A_{*}t\\end{array}\\,\\textrm{cos}\\omega_{*}t\\right]\\left[\\begin{array}{c}\n",
    "A_{*}\\\\\n",
    "\\omega_{*}\n",
    "\\end{array}\\right]+\\left[\\begin{array}{cc}\n",
    "\\textrm{sin }\\omega_{*}t & \\;\\;A_{*}t\\end{array}\\,\\textrm{cos}\\omega_{*}t\\right]\\left[\\begin{array}{c}\n",
    "A\\\\\n",
    "\\omega\n",
    "\\end{array}\\right]\n",
    "$$"
   ]
  },
  {
   "cell_type": "code",
   "execution_count": 23,
   "metadata": {},
   "outputs": [],
   "source": [
    "def model_sin(xvalues, parameters):\n",
    "    \n",
    "    function = parameters[0] * np.sin(parameters[1] * xvalues)\n",
    "    gradient_param_0 = np.sin(parameters[1] * xvalues)\n",
    "    gradient_param_1 = parameters[0] * xvalues * np.cos(parameters[1] * xvalues)\n",
    "    \n",
    "    # this is of shape Ndata x 2 \n",
    "    gradient = np.vstack([gradient_param_0, gradient_param_1]).T\n",
    "    return function, gradient"
   ]
  },
  {
   "cell_type": "code",
   "execution_count": 33,
   "metadata": {},
   "outputs": [],
   "source": [
    "def approximate_sin(xvalues, model_fid, grad_fid, param_fid, new_param):\n",
    "    delta_param = new_param - param_fid\n",
    "    func_approx = model_fid + grad_fid @ delta_param\n",
    "    return func_approx"
   ]
  },
  {
   "cell_type": "code",
   "execution_count": 25,
   "metadata": {},
   "outputs": [],
   "source": [
    "def model_quad(xvalues, parameters):\n",
    "    function = parameters[0] * xvalues**2 + parameters[1] * xvalues\n",
    "    gradient = np.vstack([xvalues**2, xvalues]).T\n",
    "    return function, gradient"
   ]
  },
  {
   "cell_type": "code",
   "execution_count": 142,
   "metadata": {},
   "outputs": [],
   "source": [
    "minx = 0.0 \n",
    "maxx = np.pi \n",
    "ndata = 100\n",
    "\n",
    "param_1_fid = np.array([4.0, 0.75])\n",
    "param_2_fid = np.array([-1.0, 4.0])\n",
    "\n",
    "xvalues = np.linspace(minx, maxx, ndata)\n",
    "model_1_fid, grad_1_fid = model_sin(xvalues, param_1_fid)\n",
    "model_2_fid, grad_2_fid = model_quad(xvalues, param_2_fid)"
   ]
  },
  {
   "cell_type": "code",
   "execution_count": 143,
   "metadata": {},
   "outputs": [
    {
     "data": {
      "image/png": "[encoded data removed]",
      "text/plain": [
       "<Figure size 576x432 with 1 Axes>"
      ]
     },
     "metadata": {
      "needs_background": "light"
     },
     "output_type": "display_data"
    }
   ],
   "source": [
    "plt.figure(figsize = (8, 6))\n",
    "plt.plot(xvalues, model_1_fid, c = 'b', label = r'$A\\,\\textrm{sin}\\,\\omega t$', lw = 2)\n",
    "plt.plot(xvalues, model_2_fid, c = 'r', label = r'$at^{2} + bt$', lw=2)\n",
    "plt.xlim(minx, maxx)\n",
    "plt.ylabel(r'$f(t)$', fontsize = fontSize)\n",
    "plt.xlabel(r'$t$', fontsize = fontSize)\n",
    "plt.tick_params(axis='x', labelsize=fontSize)\n",
    "plt.tick_params(axis='y', labelsize=fontSize)\n",
    "plt.legend(loc = 'best',prop={'family':'sans-serif', 'size':15})\n",
    "plt.show()"
   ]
  },
  {
   "cell_type": "markdown",
   "metadata": {},
   "source": [
    "# Noise and Priors"
   ]
  },
  {
   "cell_type": "code",
   "execution_count": 284,
   "metadata": {},
   "outputs": [],
   "source": [
    "sigma = 1.5\n",
    "noise_cov = np.diag(np.ones(ndata)*sigma**2)\n",
    "noise_invcov = np.diag(1./(np.ones(ndata)*sigma**2))"
   ]
  },
  {
   "cell_type": "code",
   "execution_count": 285,
   "metadata": {},
   "outputs": [],
   "source": [
    "priorwidth = 10\n",
    "\n",
    "# we will use beta to denote A and omega \n",
    "# we will use theta to denote a and b \n",
    "mean_beta = np.zeros(2)\n",
    "mean_theta = np.zeros(2)\n",
    "\n",
    "cov_beta = priorwidth * np.eye(2)\n",
    "cov_theta = priorwidth * np.eye(2)\n",
    "\n",
    "# priors \n",
    "\n",
    "p_beta = multivariate_normal(mean_beta, cov_beta)\n",
    "p_theta = multivariate_normal(mean_theta, cov_theta)"
   ]
  },
  {
   "cell_type": "markdown",
   "metadata": {},
   "source": [
    "# Compression Vectors"
   ]
  },
  {
   "cell_type": "code",
   "execution_count": null,
   "metadata": {},
   "outputs": [],
   "source": [
    "B_sin = noise_invcov @ grad_1_fid\n",
    "B_quad = noise_invcov @ grad_2_fid"
   ]
  },
  {
   "cell_type": "markdown",
   "metadata": {},
   "source": [
    "# Evidence Calculations (Uncompressed)"
   ]
  },
  {
   "cell_type": "code",
   "execution_count": 286,
   "metadata": {},
   "outputs": [],
   "source": [
    "difference = model_1_fid - grad_1_fid @ param_1_fid"
   ]
  },
  {
   "cell_type": "code",
   "execution_count": 287,
   "metadata": {},
   "outputs": [],
   "source": [
    "cov_data_sin = noise_cov + grad_1_fid @ cov_beta @ grad_1_fid.T\n",
    "cov_data_quad = noise_cov + grad_2_fid @ cov_theta @ grad_2_fid.T"
   ]
  },
  {
   "cell_type": "code",
   "execution_count": 288,
   "metadata": {},
   "outputs": [],
   "source": [
    "evi_sin = multivariate_normal(grad_1_fid @ mean_beta + difference, cov_data_sin)\n",
    "evi_quad = multivariate_normal(grad_2_fid @ mean_theta, cov_data_quad)"
   ]
  },
  {
   "cell_type": "code",
   "execution_count": 289,
   "metadata": {},
   "outputs": [],
   "source": [
    "epsilon = np.random.randn(ndata) * sigma\n",
    "data = model_1_fid + epsilon"
   ]
  },
  {
   "cell_type": "code",
   "execution_count": 290,
   "metadata": {},
   "outputs": [
    {
     "data": {
      "image/png": "[encoded data removed]",
      "text/plain": [
       "<Figure size 576x432 with 1 Axes>"
      ]
     },
     "metadata": {
      "needs_background": "light"
     },
     "output_type": "display_data"
    }
   ],
   "source": [
    "plt.figure(figsize = (8, 6))\n",
    "plt.errorbar(xvalues, data, yerr = sigma, fmt = 'go', label = 'Data')\n",
    "plt.plot(xvalues, model_1_fid, c = 'b', label = r'$A\\,\\textrm{sin}\\,\\omega t$', lw = 2)\n",
    "plt.plot(xvalues, model_2_fid, c = 'r', label = r'$at^{2} + bt$', lw=2)\n",
    "plt.xlim(minx, maxx)\n",
    "plt.ylabel(r'$f(t)$', fontsize = fontSize)\n",
    "plt.xlabel(r'$t$', fontsize = fontSize)\n",
    "plt.tick_params(axis='x', labelsize=fontSize)\n",
    "plt.tick_params(axis='y', labelsize=fontSize)\n",
    "plt.legend(loc = 'best',prop={'family':'sans-serif', 'size':15})\n",
    "plt.show()"
   ]
  },
  {
   "cell_type": "code",
   "execution_count": 291,
   "metadata": {},
   "outputs": [
    {
     "data": {
      "text/plain": [
       "-202.81547021730896"
      ]
     },
     "execution_count": 291,
     "metadata": {},
     "output_type": "execute_result"
    }
   ],
   "source": [
    "evi_sin.logpdf(data)"
   ]
  },
  {
   "cell_type": "code",
   "execution_count": 292,
   "metadata": {},
   "outputs": [
    {
     "data": {
      "text/plain": [
       "-201.0933712709085"
      ]
     },
     "execution_count": 292,
     "metadata": {},
     "output_type": "execute_result"
    }
   ],
   "source": [
    "evi_quad.logpdf(data)"
   ]
  },
  {
   "cell_type": "code",
   "execution_count": 293,
   "metadata": {},
   "outputs": [
    {
     "data": {
      "text/plain": [
       "-1.7220989464004504"
      ]
     },
     "execution_count": 293,
     "metadata": {},
     "output_type": "execute_result"
    }
   ],
   "source": [
    "evi_sin.logpdf(data) - evi_quad.logpdf(data)"
   ]
  },
  {
   "cell_type": "markdown",
   "metadata": {},
   "source": [
    "# Evidence Calculations (Compression)"
   ]
  },
  {
   "cell_type": "code",
   "execution_count": 295,
   "metadata": {},
   "outputs": [],
   "source": [
    "comp_cov_data_sin = B_sin.T @ (noise_cov + grad_1_fid @ cov_beta @ grad_1_fid.T) @ B_sin\n",
    "comp_cov_data_quad = B_quad.T @ (noise_cov + grad_2_fid @ cov_theta @ grad_2_fid.T) @ B_quad"
   ]
  },
  {
   "cell_type": "code",
   "execution_count": 296,
   "metadata": {},
   "outputs": [],
   "source": [
    "comp_evi_sin = multivariate_normal(B_sin.T @ (grad_1_fid @ mean_beta + difference), comp_cov_data_sin)\n",
    "comp_evi_quad = multivariate_normal(B_quad.T @ (grad_2_fid @ mean_theta), comp_cov_data_quad)"
   ]
  },
  {
   "cell_type": "code",
   "execution_count": 297,
   "metadata": {},
   "outputs": [
    {
     "data": {
      "text/plain": [
       "-14.49403315523606"
      ]
     },
     "execution_count": 297,
     "metadata": {},
     "output_type": "execute_result"
    }
   ],
   "source": [
    "comp_evi_sin.logpdf(B_sin.T @ data)"
   ]
  },
  {
   "cell_type": "code",
   "execution_count": 298,
   "metadata": {},
   "outputs": [
    {
     "data": {
      "text/plain": [
       "-22.439895327699446"
      ]
     },
     "execution_count": 298,
     "metadata": {},
     "output_type": "execute_result"
    }
   ],
   "source": [
    "comp_evi_quad.logpdf(B_sin.T @ data)"
   ]
  },
  {
   "cell_type": "code",
   "execution_count": 299,
   "metadata": {},
   "outputs": [
    {
     "data": {
      "text/plain": [
       "7.945862172463386"
      ]
     },
     "execution_count": 299,
     "metadata": {},
     "output_type": "execute_result"
    }
   ],
   "source": [
    "comp_evi_sin.logpdf(B_sin.T @ data) - comp_evi_quad.logpdf(B_sin.T @ data)"
   ]
  },
  {
   "cell_type": "markdown",
   "metadata": {},
   "source": [
    "# Repeated Experiments"
   ]
  },
  {
   "cell_type": "code",
   "execution_count": 300,
   "metadata": {},
   "outputs": [],
   "source": [
    "ntrials = 10000\n",
    "record = dict()\n",
    "record['evi_sin'] = list()\n",
    "record['evi_quad'] = list()\n",
    "record['bf_sq'] = list()\n",
    "record['comp_evi_sin'] = list()\n",
    "record['comp_evi_quad'] = list()\n",
    "record['comp_bf_sq'] = list()\n",
    "\n",
    "for i in range(ntrials):\n",
    "    \n",
    "    epsilon = np.random.randn(ndata) * sigma\n",
    "    data = model_1_fid + epsilon\n",
    "    comp_data_sin = B_sin.T @ data\n",
    "    comp_data_quad = B_quad.T @ data\n",
    "    \n",
    "    # uncompressed\n",
    "    evi_sin_value = evi_sin.logpdf(data)\n",
    "    evi_quad_value = evi_quad.logpdf(data)\n",
    "    record['evi_sin'].append(evi_sin_value)\n",
    "    record['evi_quad'].append(evi_quad_value)\n",
    "    record['bf_sq'].append(evi_sin_value - evi_quad_value)\n",
    "    \n",
    "    # compressed case \n",
    "    comp_evi_sin_value = comp_evi_sin.logpdf(comp_data_sin)\n",
    "    comp_evi_quad_value = comp_evi_quad.logpdf(comp_data_sin)\n",
    "    record['comp_evi_sin'].append(comp_evi_sin_value)\n",
    "    record['comp_evi_quad'].append(comp_evi_quad_value)\n",
    "    record['comp_bf_sq'].append(comp_evi_sin_value - comp_evi_quad_value)"
   ]
  },
  {
   "cell_type": "code",
   "execution_count": 301,
   "metadata": {},
   "outputs": [],
   "source": [
    "comp_mu = np.mean(record['comp_bf_sq'])\n",
    "comp_std = np.std(record['comp_bf_sq'])\n",
    "\n",
    "mu = np.mean(record['bf_sq'])\n",
    "std = np.std(record['bf_sq'])\n",
    "\n",
    "norm_comp = norm(comp_mu, comp_std)\n",
    "norm_uncomp = norm(mu, std)\n",
    "\n",
    "min_logbf = min([min(record['comp_bf_sq']), min(record['bf_sq'])])\n",
    "max_logbf = max([max(record['comp_bf_sq']), max(record['bf_sq'])])\n",
    "\n",
    "grid_bf = np.linspace(min_logbf, max_logbf, 10000)\n",
    "pdf_comp = norm_comp.pdf(grid_bf)\n",
    "pdf_uncomp = norm_uncomp.pdf(grid_bf)\n",
    "\n",
    "# labels \n",
    "label_comp = 'Compression, $\\\\textrm{log B}_{12}\\sim\\mathcal{N}$' + f'$(\\mu={comp_mu:.3f},\\,\\sigma={comp_std:.3f})$'\n",
    "label_uncomp = 'No Compression, $\\\\textrm{log B}_{12}\\sim\\mathcal{N}$' + f'$(\\mu={mu:.3f},\\,\\sigma={std:.3f})$'"
   ]
  },
  {
   "cell_type": "code",
   "execution_count": 302,
   "metadata": {},
   "outputs": [
    {
     "data": {
      "image/png": "[encoded data removed]",
      "text/plain": [
       "<Figure size 864x576 with 1 Axes>"
      ]
     },
     "metadata": {
      "needs_background": "light"
     },
     "output_type": "display_data"
    }
   ],
   "source": [
    "plt.figure(figsize = (12,8))\n",
    "plt.hist(record['comp_bf_sq'], density = True, edgecolor='r', linewidth=0.5, label = 'Compression', histtype='step')\n",
    "plt.hist(record['bf_sq'], density = True, edgecolor='b', linewidth=0.5, label = 'No compression', alpha = 0.2, color = 'b')\n",
    "plt.plot(grid_bf, pdf_comp, label = label_comp, c = 'r', linestyle = '--')\n",
    "plt.plot(grid_bf, pdf_uncomp, label = label_uncomp, c = 'b', linestyle = '--')\n",
    "plt.xlabel(r'$\\textrm{log }B_{12}$', fontsize = fontSize)\n",
    "plt.tick_params(axis='x', labelsize=fontSize)\n",
    "plt.tick_params(axis='y', labelsize=fontSize)\n",
    "plt.xlim(min_logbf, max_logbf)\n",
    "plt.legend(loc = 'best',prop={'family':'sans-serif', 'size':15})\n",
    "plt.show()"
   ]
  },
  {
   "cell_type": "code",
   "execution_count": null,
   "metadata": {},
   "outputs": [],
   "source": []
  }
 ],
 "metadata": {
  "kernelspec": {
   "display_name": "Python 3",
   "language": "python",
   "name": "python3"
  },
  "language_info": {
   "codemirror_mode": {
    "name": "ipython",
    "version": 3
   },
   "file_extension": ".py",
   "mimetype": "text/x-python",
   "name": "python",
   "nbconvert_exporter": "python",
   "pygments_lexer": "ipython3",
   "version": "3.7.6"
  }
 },
 "nbformat": 4,
 "nbformat_minor": 4
}
