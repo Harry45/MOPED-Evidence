{
 "cells": [
  {
   "cell_type": "code",
   "execution_count": 1,
   "metadata": {},
   "outputs": [],
   "source": [
    "import numpy as np \n",
    "import matplotlib.pylab as plt \n",
    "from scipy.stats import multivariate_normal, norm\n",
    "from scipy.optimize import minimize\n",
    "\n",
    "plt.rc('text', usetex=True)\n",
    "plt.rc('font',**{'family':'sans-serif','serif':['Palatino']})\n",
    "figSize  = (12, 8)\n",
    "fontSize = 20"
   ]
  },
  {
   "cell_type": "code",
   "execution_count": 70,
   "metadata": {},
   "outputs": [],
   "source": [
    "sigma = 0.2\n",
    "minx = 0.0 \n",
    "maxx = np.pi \n",
    "ndata = 100\n",
    "priorwidth = 10\n",
    "nbeta = 3 # 2 parameters for the first model \n",
    "ntheta = 2 # 2 parameters for the second model\n",
    "label1 = r'$at^{2} + bt + c$' # r'$A\\,\\textrm{sin}\\,\\omega t$' # \n",
    "label2 =  r'$pt^{2}+qt$' # r'$pt^{3} + qt + r$' # r'$pt^{3} + qt$' #\n",
    "figlabel = 'quadratic_three_quadratic_two'\n",
    "\n",
    "param_1_fid = np.array([-1.0, 4.0, 1.0]) # np.array([4.0, 0.75]) # \n",
    "param_2_fid = np.array([-1.0, 4.0]) # np.array([-1.0, 4.0]) # "
   ]
  },
  {
   "cell_type": "code",
   "execution_count": 71,
   "metadata": {},
   "outputs": [],
   "source": [
    "def first_model(xvalues, parameters):\n",
    "    function = parameters[0] * xvalues**2 + parameters[1] * xvalues + parameters[2]\n",
    "    gradient = np.vstack([xvalues**2, xvalues, np.ones(len(xvalues))]).T\n",
    "    return function, gradient\n",
    "\n",
    "def second_model(xvalues, parameters):\n",
    "    function = parameters[0] * xvalues**2 + parameters[1] * xvalues \n",
    "    gradient = np.vstack([xvalues**2, xvalues]).T\n",
    "    return function, gradient"
   ]
  },
  {
   "cell_type": "code",
   "execution_count": 72,
   "metadata": {},
   "outputs": [],
   "source": [
    "# def first_model(xvalues, parameters):\n",
    "#     function = parameters[0] * xvalues**2 + parameters[1] * xvalues + parameters[2]\n",
    "#     gradient = np.vstack([xvalues**2, xvalues, np.ones(len(xvalues))]).T\n",
    "#     return function, gradient\n",
    "\n",
    "# def second_model(xvalues, parameters):\n",
    "#     function = parameters[0] * xvalues**3 + parameters[1] * xvalues + parameters[2]\n",
    "#     gradient = np.vstack([xvalues**3, xvalues, np.ones(len(xvalues))]).T\n",
    "#     return function, gradient"
   ]
  },
  {
   "cell_type": "code",
   "execution_count": 73,
   "metadata": {},
   "outputs": [],
   "source": [
    "# def first_model(xvalues, parameters):\n",
    "    \n",
    "#     function = parameters[0] * np.sin(parameters[1] * xvalues)\n",
    "#     gradient_param_0 = np.sin(parameters[1] * xvalues)\n",
    "#     gradient_param_1 = parameters[0] * xvalues * np.cos(parameters[1] * xvalues)\n",
    "    \n",
    "#     # this is of shape Ndata x 2 \n",
    "#     gradient = np.vstack([gradient_param_0, gradient_param_1]).T\n",
    "#     return function, gradient\n",
    "\n",
    "# def second_model(xvalues, parameters):\n",
    "#     function = parameters[0] * xvalues**3 + parameters[1] * xvalues\n",
    "#     gradient = np.vstack([factor * xvalues**2, xvalues]).T\n",
    "#     return function, gradient"
   ]
  },
  {
   "cell_type": "code",
   "execution_count": 74,
   "metadata": {},
   "outputs": [],
   "source": [
    "def log_evidence_calculations(Lambda, covPrior, covNoise, data, compData):\n",
    "    invterm = np.linalg.inv(Lambda + np.linalg.inv(covPrior))\n",
    "    a_quant = 0.5 * compData @ invterm @ compData\n",
    "    d_quant = np.linalg.slogdet(2.0 * np.pi * invterm)[1] - np.linalg.slogdet(2.0 * np.pi * covPrior)[1]\n",
    "    \n",
    "    chi2_comp = -0.5 * compData @ np.linalg.inv(Lambda) @ compData\n",
    "    chi2_uncomp = -0.5 * data @ np.linalg.inv(covNoise) @ data\n",
    "    det_comp = np.linalg.slogdet(2.0 * np.pi * Lambda)[1]\n",
    "    det_uncomp = np.linalg.slogdet(2.0 * np.pi * covNoise)[1]\n",
    "    \n",
    "    log_evi_comp = a_quant + chi2_comp + 0.5 * (d_quant - det_comp)\n",
    "    log_evi_uncomp = a_quant + chi2_uncomp + 0.5 * (d_quant - det_uncomp)\n",
    "    \n",
    "    return log_evi_comp, log_evi_uncomp"
   ]
  },
  {
   "cell_type": "code",
   "execution_count": 75,
   "metadata": {},
   "outputs": [],
   "source": [
    "def log_likelihood_first(beta, x, data, invcov):\n",
    "    model = first_model(x, beta)\n",
    "    diff = data - model[0]\n",
    "    chi2 = diff @ invcov @ diff\n",
    "    return -0.5*chi2\n",
    "\n",
    "def log_likelihood_second(theta, x, data, invcov):\n",
    "    model = second_model(x, theta)\n",
    "    diff = data - model[0]\n",
    "    chi2 = diff @ invcov @ diff\n",
    "    return -0.5*chi2\n",
    "\n",
    "\n",
    "nll_first = lambda *args: -log_likelihood_first(*args)\n",
    "nll_second = lambda *args: -log_likelihood_second(*args)"
   ]
  },
  {
   "cell_type": "markdown",
   "metadata": {},
   "source": [
    "## Noise and Priors"
   ]
  },
  {
   "cell_type": "code",
   "execution_count": 76,
   "metadata": {},
   "outputs": [],
   "source": [
    "noise_cov = np.diag(np.ones(ndata)*sigma**2)\n",
    "noise_invcov = np.diag(1./(np.ones(ndata)*sigma**2))"
   ]
  },
  {
   "cell_type": "code",
   "execution_count": 77,
   "metadata": {},
   "outputs": [],
   "source": [
    "# we will use beta to denote A and omega \n",
    "# we will use theta to denote a and b \n",
    "mean_beta = np.zeros(nbeta)\n",
    "mean_theta = np.zeros(ntheta)\n",
    "\n",
    "cov_beta = priorwidth * np.eye(nbeta)\n",
    "cov_theta = priorwidth * np.eye(ntheta)\n",
    "\n",
    "invcov_beta = np.linalg.inv(cov_beta)\n",
    "invcov_theta = np.linalg.inv(cov_theta)"
   ]
  },
  {
   "cell_type": "code",
   "execution_count": 78,
   "metadata": {},
   "outputs": [],
   "source": [
    "xvalues = np.linspace(minx, maxx, ndata)\n",
    "model_1_fid, grad_1_fid = first_model(xvalues, param_1_fid)\n",
    "model_2_fid, grad_2_fid = second_model(xvalues, param_2_fid)"
   ]
  },
  {
   "cell_type": "code",
   "execution_count": 79,
   "metadata": {},
   "outputs": [],
   "source": [
    "epsilon = np.random.randn(ndata) * sigma\n",
    "data = model_1_fid + epsilon"
   ]
  },
  {
   "cell_type": "code",
   "execution_count": 80,
   "metadata": {},
   "outputs": [],
   "source": [
    "initial_first = param_1_fid + 0.1 * np.random.randn(nbeta)\n",
    "soln_first = minimize(nll_first, initial_first, args=(xvalues, data, noise_invcov))\n",
    "mle_first = soln_first.x\n",
    "\n",
    "initial_second = param_2_fid + 0.1 * np.random.randn(ntheta)\n",
    "soln_second = minimize(nll_second, initial_second, args=(xvalues, data, noise_invcov))\n",
    "mle_second = soln_second.x"
   ]
  },
  {
   "cell_type": "code",
   "execution_count": 81,
   "metadata": {},
   "outputs": [],
   "source": [
    "theory_mle_first, grad_mle_first = first_model(xvalues, mle_first)\n",
    "theory_mle_second, grad_mle_second = second_model(xvalues, mle_second)"
   ]
  },
  {
   "cell_type": "code",
   "execution_count": 82,
   "metadata": {},
   "outputs": [],
   "source": [
    "B_first = noise_invcov @ grad_1_fid # grad_mle_sin # \n",
    "B_second = noise_invcov @  grad_2_fid # grad_mle_quad #"
   ]
  },
  {
   "cell_type": "code",
   "execution_count": 83,
   "metadata": {},
   "outputs": [],
   "source": [
    "X_data = data - model_1_fid # theory_mle_sin #\n",
    "Y_first = B_first.T @ X_data\n",
    "Y_second = B_second.T @ X_data"
   ]
  },
  {
   "cell_type": "code",
   "execution_count": 84,
   "metadata": {},
   "outputs": [],
   "source": [
    "Lambda_first = B_first.T @ noise_cov @ B_first\n",
    "Lambda_second = B_second.T @ noise_cov @ B_second"
   ]
  },
  {
   "cell_type": "code",
   "execution_count": 85,
   "metadata": {},
   "outputs": [],
   "source": [
    "det_first = np.linalg.slogdet(2.0 * np.pi * Lambda_first)[1]\n",
    "det_second = np.linalg.slogdet(2.0 * np.pi * Lambda_second)[1]\n",
    "\n",
    "chi2_first = Y_first @ np.linalg.inv(Lambda_first) @ Y_first\n",
    "chi2_second = Y_second @ np.linalg.inv(Lambda_second) @ Y_second"
   ]
  },
  {
   "cell_type": "code",
   "execution_count": 86,
   "metadata": {},
   "outputs": [],
   "source": [
    "log_evi_first_comp, log_evi_first_uncomp = log_evidence_calculations(Lambda_first, cov_beta, noise_cov, X_data, Y_first)\n",
    "log_evi_second_comp, log_evi_second_uncomp = log_evidence_calculations(Lambda_second, cov_theta, noise_cov, X_data, Y_second)\n",
    "\n",
    "log_bf_comp = log_evi_first_comp - log_evi_second_comp\n",
    "log_bf_uncomp = log_evi_first_uncomp - log_evi_second_uncomp\n",
    "delta_bf = log_bf_comp - log_bf_uncomp"
   ]
  },
  {
   "cell_type": "code",
   "execution_count": 87,
   "metadata": {},
   "outputs": [
    {
     "data": {
      "image/png": "[encoded data removed]",
      "text/plain": [
       "<Figure size 576x432 with 1 Axes>"
      ]
     },
     "metadata": {
      "needs_background": "light"
     },
     "output_type": "display_data"
    }
   ],
   "source": [
    "plt.figure(figsize = (8, 6))\n",
    "plt.errorbar(xvalues, data, yerr = sigma, fmt = 'co', label = 'Data', markersize=2)\n",
    "plt.plot(xvalues, model_1_fid, c = 'b', label = label1 + ' (Fiducial)', lw = 2)\n",
    "# plt.plot(xvalues, model_2_fid, c = 'r', label = r'$at^{2} + bt$', lw=2)\n",
    "plt.plot(xvalues, theory_mle_first, c = 'y', label = label1 + ' (MLE)', lw = 2, linestyle = '--')\n",
    "plt.plot(xvalues, theory_mle_second, c = 'r', label =  label2 + ' (MLE)', lw=2, linestyle = '--')\n",
    "plt.xlim(minx, maxx)\n",
    "plt.ylabel(r'$f(t)$', fontsize = fontSize)\n",
    "plt.xlabel(r'$t$', fontsize = fontSize)\n",
    "plt.tick_params(axis='x', labelsize=fontSize)\n",
    "plt.tick_params(axis='y', labelsize=fontSize)\n",
    "plt.legend(loc = 'best',prop={'family':'sans-serif', 'size':15})\n",
    "plt.savefig(f'results/{figlabel}_example_data.pdf', bbox_inches = 'tight')\n",
    "plt.savefig(f'results/{figlabel}_example_data.png', bbox_inches = 'tight')\n",
    "plt.show()"
   ]
  },
  {
   "cell_type": "code",
   "execution_count": 88,
   "metadata": {},
   "outputs": [
    {
     "name": "stdout",
     "output_type": "stream",
     "text": [
      "The log Bayes-Factor in the compressed case is   : -7.74\n",
      "The log Bayes-Factor in the uncompressed case is : -3.93\n"
     ]
    }
   ],
   "source": [
    "print(f'The log Bayes-Factor in the compressed case is   : {log_bf_comp:.2f}')\n",
    "print(f'The log Bayes-Factor in the uncompressed case is : {log_bf_uncomp:.2f}')"
   ]
  },
  {
   "cell_type": "markdown",
   "metadata": {},
   "source": [
    "## Repeating the above $n$ times"
   ]
  },
  {
   "cell_type": "code",
   "execution_count": 89,
   "metadata": {},
   "outputs": [],
   "source": [
    "# def calculate_mle(data, invcov, design):\n",
    "#     invterm = np.linalg.inv(design.T @ invcov @ design)\n",
    "#     mean = invterm @ design.T @ invcov @ data\n",
    "#     return mean \n",
    "\n",
    "# MLE for sinusoidal model and quadratic model\n",
    "# -----------------------------------------------------------------------------------------\n",
    "#         initial_sin = param_1_fid + 0.1 * np.random.randn(nbeta)\n",
    "#         soln_sin = minimize(nll_sin, initial_sin, args=(xvalues, data, noise_invcov))\n",
    "#         mle_sin = soln_sin.x\n",
    "\n",
    "#         initial_quad = param_2_fid + 0.1 * np.random.randn(ntheta)\n",
    "#         soln_quad = minimize(nll_quad, initial_quad, args=(xvalues, data, noise_invcov))\n",
    "#         mle_quad = soln_quad.x\n",
    "\n",
    "#         theory_mle_sin, grad_mle_sin = model_sin(xvalues, mle_sin)\n",
    "#         theory_mle_quad, grad_mle_quad = model_quad(xvalues, mle_quad)\n",
    "# -----------------------------------------------------------------------------------------"
   ]
  },
  {
   "cell_type": "code",
   "execution_count": 90,
   "metadata": {},
   "outputs": [],
   "source": [
    "def repetitions(ntrials):\n",
    "    \n",
    "    record = dict()\n",
    "    record['log_evi_first_uncomp'] = list()\n",
    "    record['log_evi_second_uncomp'] = list()\n",
    "    record['log_evi_first_comp'] = list()\n",
    "    record['log_evi_second_comp'] = list()\n",
    "    record['log_bf_comp'] = list()\n",
    "    record['log_bf_uncomp'] = list()\n",
    "    record['delta_log_bf'] = list()\n",
    "    \n",
    "    for i in range(ntrials):\n",
    "\n",
    "        epsilon = np.random.randn(ndata) * sigma\n",
    "        data = model_1_fid + epsilon\n",
    "        \n",
    "        # for evidence calculations\n",
    "        B_sin = noise_invcov @ grad_1_fid # grad_mle_sin # \n",
    "        B_quad = noise_invcov @ grad_2_fid # grad_mle_quad # \n",
    "        \n",
    "        X_data = data - model_1_fid # theory_mle_sin # \n",
    "        Y_first = B_first.T @ X_data\n",
    "        Y_second = B_second.T @ X_data\n",
    "               \n",
    "        Lambda_first = B_first.T @ noise_cov @ B_first\n",
    "        Lambda_second = B_second.T @ noise_cov @ B_second\n",
    "\n",
    "        log_evi_first_comp, log_evi_first_uncomp = log_evidence_calculations(Lambda_first, cov_beta, noise_cov, X_data, Y_first)\n",
    "        log_evi_second_comp, log_evi_second_uncomp = log_evidence_calculations(Lambda_second, cov_theta, noise_cov, X_data, Y_second)\n",
    "    \n",
    "        # print(log_evi_quad_comp)\n",
    "        \n",
    "        log_bf_comp = log_evi_first_comp - log_evi_second_comp\n",
    "        log_bf_uncomp = log_evi_first_uncomp - log_evi_second_uncomp\n",
    "        delta_log_bf = log_bf_comp - log_bf_uncomp\n",
    "\n",
    "        record['log_evi_first_uncomp'].append(log_evi_first_uncomp)\n",
    "        record['log_evi_second_uncomp'].append(log_evi_second_uncomp)\n",
    "        record['log_evi_first_comp'].append(log_evi_first_comp)\n",
    "        record['log_evi_second_comp'].append(log_evi_second_comp)\n",
    "        record['log_bf_comp'].append(log_bf_comp)        \n",
    "        record['log_bf_uncomp'].append(log_bf_uncomp)\n",
    "        record['delta_log_bf'].append(delta_log_bf)\n",
    "        \n",
    "    return record"
   ]
  },
  {
   "cell_type": "code",
   "execution_count": 91,
   "metadata": {},
   "outputs": [],
   "source": [
    "record = repetitions(5000)"
   ]
  },
  {
   "cell_type": "code",
   "execution_count": 92,
   "metadata": {},
   "outputs": [
    {
     "data": {
      "image/png": "[encoded data removed]",
      "text/plain": [
       "<Figure size 1152x576 with 2 Axes>"
      ]
     },
     "metadata": {
      "needs_background": "light"
     },
     "output_type": "display_data"
    }
   ],
   "source": [
    "max_comp_first = max(record['log_evi_first_comp'])\n",
    "max_comp_second = max(record['log_evi_second_comp'])\n",
    "\n",
    "plt.figure(figsize = (16,8))\n",
    "\n",
    "plt.suptitle('Compression', fontsize = fontSize, y=0.95)\n",
    "plt.subplot(121)\n",
    "plt.hist(np.asarray(record['log_evi_first_comp']) - max_comp_first, density = True, edgecolor='b', linewidth=1.0, label = label1, alpha = 0.2)\n",
    "plt.xlabel(r'$\\textrm{log }Z-$' + f'{abs(max_comp_first):.4f}', fontsize = fontSize)\n",
    "plt.tick_params(axis='x', labelsize=fontSize)\n",
    "plt.tick_params(axis='y', labelsize=fontSize)\n",
    "plt.ticklabel_format(style='sci', axis='y', scilimits=(0,0))\n",
    "plt.ticklabel_format(style='sci', axis='x', scilimits=(0,0))\n",
    "plt.legend(loc = 'upper left',prop={'family':'sans-serif', 'size':15})\n",
    "\n",
    "plt.subplot(122)\n",
    "plt.hist(np.asarray(record['log_evi_second_comp']) - max_comp_second, density = True, edgecolor='r', linewidth=1.5, label = label2, histtype='step')\n",
    "plt.xlabel(r'$\\textrm{log }Z-$' + f'{abs(max_comp_second):.4f}', fontsize = fontSize)\n",
    "plt.tick_params(axis='x', labelsize=fontSize)\n",
    "plt.tick_params(axis='y', labelsize=fontSize)\n",
    "plt.ticklabel_format(style='sci', axis='y', scilimits=(0,0))\n",
    "plt.ticklabel_format(style='sci', axis='x', scilimits=(0,0))\n",
    "plt.legend(loc = 'upper left',prop={'family':'sans-serif', 'size':15})\n",
    "plt.savefig(f'results/{figlabel}_evidence_compression.pdf', bbox_inches = 'tight')\n",
    "plt.savefig(f'results/{figlabel}_evidence_compression.png', bbox_inches = 'tight')\n",
    "plt.show()"
   ]
  },
  {
   "cell_type": "code",
   "execution_count": 93,
   "metadata": {},
   "outputs": [
    {
     "data": {
      "image/png": "[encoded data removed]",
      "text/plain": [
       "<Figure size 576x576 with 1 Axes>"
      ]
     },
     "metadata": {
      "needs_background": "light"
     },
     "output_type": "display_data"
    }
   ],
   "source": [
    "plt.figure(figsize = (8,8))\n",
    "plt.title('No Compression', fontsize=fontSize)\n",
    "plt.hist(record['log_evi_first_uncomp'], density = True, edgecolor='b', linewidth=0.5, label = label1, alpha = 0.2)\n",
    "plt.hist(record['log_evi_second_uncomp'], density = True, edgecolor='r', linewidth=1.5, label = label2, histtype='step')\n",
    "plt.xlabel(r'$\\textrm{log Z}$', fontsize = fontSize)\n",
    "plt.tick_params(axis='x', labelsize=fontSize)\n",
    "plt.tick_params(axis='y', labelsize=fontSize)\n",
    "plt.legend(loc = 'upper left',prop={'family':'sans-serif', 'size':15})\n",
    "plt.savefig(f'results/{figlabel}_evidence_no_compression.pdf', bbox_inches = 'tight')\n",
    "plt.savefig(f'results/{figlabel}_evidence_no_compression.png', bbox_inches = 'tight')\n",
    "plt.show()"
   ]
  },
  {
   "cell_type": "code",
   "execution_count": 94,
   "metadata": {},
   "outputs": [
    {
     "data": {
      "image/png": "[encoded data removed]",
      "text/plain": [
       "<Figure size 1584x432 with 3 Axes>"
      ]
     },
     "metadata": {
      "needs_background": "light"
     },
     "output_type": "display_data"
    }
   ],
   "source": [
    "plt.figure(figsize = (22,6))\n",
    "plt.subplot(131)\n",
    "plt.hist(record['log_bf_uncomp'], density = True, edgecolor='b', linewidth=0.5, label = 'No Compression', alpha = 0.2)\n",
    "plt.xlabel(r'$\\textrm{log }B_{12}$', fontsize = fontSize)\n",
    "plt.tick_params(axis='x', labelsize=fontSize)\n",
    "plt.tick_params(axis='y', labelsize=fontSize)\n",
    "plt.legend(loc = 'best',prop={'family':'sans-serif', 'size':15})\n",
    "\n",
    "plt.subplot(132)\n",
    "plt.hist(record['log_bf_comp'], density = True, edgecolor='r', linewidth=0.5, label = 'Compression', histtype='step')\n",
    "plt.xlabel(r'$\\textrm{log }B_{12}$', fontsize = fontSize)\n",
    "plt.tick_params(axis='x', labelsize=fontSize)\n",
    "plt.tick_params(axis='y', labelsize=fontSize)\n",
    "plt.ticklabel_format(useOffset=False)\n",
    "plt.legend(loc = 'best',prop={'family':'sans-serif', 'size':15})\n",
    "\n",
    "plt.subplot(133)\n",
    "plt.hist(record['delta_log_bf'], density = True, edgecolor='g', linewidth=0.5, label = 'Difference', histtype='step')\n",
    "plt.xlabel(r'$\\textrm{log }B_{12}$', fontsize = fontSize)\n",
    "plt.tick_params(axis='x', labelsize=fontSize)\n",
    "plt.tick_params(axis='y', labelsize=fontSize)\n",
    "plt.legend(loc = 'best',prop={'family':'sans-serif', 'size':15})\n",
    "plt.savefig(f'results/{figlabel}_bayes_factor.pdf', bbox_inches = 'tight')\n",
    "plt.savefig(f'results/{figlabel}_bayes_factor.png', bbox_inches = 'tight')\n",
    "plt.show()"
   ]
  },
  {
   "cell_type": "code",
   "execution_count": 95,
   "metadata": {},
   "outputs": [
    {
     "name": "stdout",
     "output_type": "stream",
     "text": [
      "The standard deviation in the distribution in log-BF for the compressed case is   : 7.39e-04\n",
      "The standard deviation in the distribution in log-BF for the uncompressed case is : 6.98e-01\n"
     ]
    }
   ],
   "source": [
    "std_comp = np.std(record[\"log_bf_comp\"])\n",
    "std_uncomp = np.std(record[\"log_bf_uncomp\"])\n",
    "print(f'The standard deviation in the distribution in log-BF for the compressed case is   : {std_comp:.2e}')\n",
    "print(f'The standard deviation in the distribution in log-BF for the uncompressed case is : {std_uncomp:.2e}')"
   ]
  },
  {
   "cell_type": "code",
   "execution_count": 69,
   "metadata": {},
   "outputs": [],
   "source": [
    "# ndata = 200, sigma = 1.0\n",
    "# The standard deviation in the distribution in log-BF for the compressed case is   : 5.80e-04\n",
    "# The standard deviation in the distribution in log-BF for the uncompressed case is : 1.46e-01\n",
    "\n",
    "# ndata = 200, sigma = 0.5\n",
    "# The standard deviation in the distribution in log-BF for the compressed case is   : 1.47e-04\n",
    "# The standard deviation in the distribution in log-BF for the uncompressed case is : 1.42e-01\n",
    "\n",
    "# ndata = 100, sigma = 1.0\n",
    "# The standard deviation in the distribution in log-BF for the compressed case is   : 1.23e-03\n",
    "# The standard deviation in the distribution in log-BF for the uncompressed case is : 1.40e-01\n",
    "\n",
    "# ndata = 100, sigma = 0.5\n",
    "# The standard deviation in the distribution in log-BF for the compressed case is   : 2.91e-04\n",
    "# The standard deviation in the distribution in log-BF for the uncompressed case is : 1.47e-01"
   ]
  },
  {
   "cell_type": "code",
   "execution_count": 29,
   "metadata": {},
   "outputs": [
    {
     "data": {
      "text/plain": [
       "3.945578231292517"
      ]
     },
     "execution_count": 29,
     "metadata": {},
     "output_type": "execute_result"
    }
   ],
   "source": [
    "# 2 x sigma\n",
    "5.8/1.47"
   ]
  },
  {
   "cell_type": "code",
   "execution_count": 30,
   "metadata": {},
   "outputs": [
    {
     "data": {
      "text/plain": [
       "4.22680412371134"
      ]
     },
     "execution_count": 30,
     "metadata": {},
     "output_type": "execute_result"
    }
   ],
   "source": [
    "# 2 x sigma\n",
    "12.3/2.91"
   ]
  },
  {
   "cell_type": "code",
   "execution_count": 31,
   "metadata": {},
   "outputs": [
    {
     "data": {
      "text/plain": [
       "2.1206896551724137"
      ]
     },
     "execution_count": 31,
     "metadata": {},
     "output_type": "execute_result"
    }
   ],
   "source": [
    "# 2 x number of data\n",
    "1.23e-03 / 5.80e-04"
   ]
  },
  {
   "cell_type": "code",
   "execution_count": 32,
   "metadata": {},
   "outputs": [
    {
     "data": {
      "text/plain": [
       "1.979591836734694"
      ]
     },
     "execution_count": 32,
     "metadata": {},
     "output_type": "execute_result"
    }
   ],
   "source": [
    "# 2 x number of data\n",
    "2.91e-04/1.47e-04"
   ]
  },
  {
   "cell_type": "code",
   "execution_count": null,
   "metadata": {},
   "outputs": [],
   "source": []
  }
 ],
 "metadata": {
  "kernelspec": {
   "display_name": "Python 3",
   "language": "python",
   "name": "python3"
  },
  "language_info": {
   "codemirror_mode": {
    "name": "ipython",
    "version": 3
   },
   "file_extension": ".py",
   "mimetype": "text/x-python",
   "name": "python",
   "nbconvert_exporter": "python",
   "pygments_lexer": "ipython3",
   "version": "3.7.6"
  }
 },
 "nbformat": 4,
 "nbformat_minor": 4
}
