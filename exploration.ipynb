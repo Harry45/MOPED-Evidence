{
 "cells": [
  {
   "cell_type": "code",
   "execution_count": 1,
   "metadata": {},
   "outputs": [],
   "source": [
    "import numpy as np \n",
    "import pandas as pd\n",
    "from scipy.optimize import minimize\n",
    "import matplotlib.pylab as plt \n",
    "\n",
    "plt.rc('text', usetex=True)\n",
    "plt.rc('font',**{'family':'sans-serif','serif':['Palatino']})\n",
    "figSize  = (12, 8)\n",
    "fontSize = 20"
   ]
  },
  {
   "cell_type": "code",
   "execution_count": 2,
   "metadata": {},
   "outputs": [],
   "source": [
    "class FirstModel:\n",
    "    def __init__(self, domain, fiducial, noisecov):\n",
    "        \n",
    "        self.nparam = len(fiducial)\n",
    "        self.domain = domain\n",
    "        self.fiducial = fiducial\n",
    "        \n",
    "        # (N x p)\n",
    "        self.gradient_fid = self.gradient(fiducial)\n",
    "        \n",
    "        # (N x p)\n",
    "        self.b_matrix = np.linalg.inv(noisecov) @ self.gradient_fid\n",
    "        \n",
    "        # (p x p)\n",
    "        self.Lambda = self.b_matrix.T @ noisecov @ self.b_matrix\n",
    "        \n",
    "        # theory of size N \n",
    "        self.theory_fid = self.function(fiducial)\n",
    "        \n",
    "    def function(self, parameters):\n",
    "        mean = parameters[0] * np.sin(parameters[1] * self.domain)\n",
    "        # mean = parameters[0] * self.domain**3 + parameters[1] * self.domain + parameters[2]\n",
    "        return mean\n",
    "        \n",
    "    def gradient(self, parameters):\n",
    "        gradient_param_0 = np.sin(parameters[1] * self.domain)\n",
    "        gradient_param_1 = parameters[0] * self.domain * np.cos(parameters[1] * self.domain)\n",
    "        grad = np.vstack([gradient_param_0, gradient_param_1]).T\n",
    "        \n",
    "        # grad = np.vstack([self.domain**3, self.domain, np.ones(len(self.domain))]).T\n",
    "        return grad "
   ]
  },
  {
   "cell_type": "code",
   "execution_count": 3,
   "metadata": {},
   "outputs": [],
   "source": [
    "class SecondModel(FirstModel):\n",
    "    \n",
    "    def __init__(self, domain, fiducial1, fiducial2, noisecov):\n",
    "        \n",
    "        self.domain = domain \n",
    "        self.fiducial = fiducial2\n",
    "        self.nparam = len(fiducial2)\n",
    "        \n",
    "        # the first model\n",
    "        self.first_model = FirstModel(domain, fiducial1, noisecov)\n",
    "        \n",
    "        assert self.first_model.nparam >= self.nparam, 'Model 1 should have atleast the same number of parameters as Model 2'\n",
    "        \n",
    "        # (N x m)\n",
    "        self.gradient_fid = self.gradient(fiducial2)\n",
    "        \n",
    "        # (m x p)\n",
    "        self.b_matrix = self.gradient_fid.T @ self.first_model.b_matrix @ np.linalg.inv(self.first_model.Lambda)\n",
    "        \n",
    "        # (m x m)\n",
    "        self.Lambda = self.b_matrix @ self.first_model.b_matrix.T @ self.gradient_fid\n",
    "        \n",
    "    def function(self, parameters):\n",
    "        mean = parameters[0] * self.domain**3 + parameters[1] * self.domain\n",
    "        return mean\n",
    "    \n",
    "    def gradient(self, parameters):\n",
    "        grad = np.vstack([self.domain**3, self.domain]).T\n",
    "        return grad"
   ]
  },
  {
   "cell_type": "code",
   "execution_count": 4,
   "metadata": {},
   "outputs": [],
   "source": [
    "def evidence_full_data(data, cov_data, comp_data, comp_cov, cov_prior):\n",
    "    invterm = np.linalg.inv(comp_cov + np.linalg.inv(cov_prior))\n",
    "    det1 = np.linalg.slogdet(2.0 * np.pi * invterm)[1]\n",
    "    det2 = np.linalg.slogdet(2.0 * np.pi * cov_data)[1]\n",
    "    det3 = np.linalg.slogdet(2.0 * np.pi * cov_prior)[1]\n",
    "    chi2_1 = data @ np.linalg.inv(cov_data) @ data\n",
    "    chi2_2 = comp_data @ invterm @ comp_data\n",
    "    evidence = 0.5 * (det1 - det2 - det3 - chi2_1 + chi2_2)\n",
    "    return evidence"
   ]
  },
  {
   "cell_type": "code",
   "execution_count": 5,
   "metadata": {},
   "outputs": [],
   "source": [
    "def evidence_comp_data_1(comp_data, comp_cov, cov_prior):\n",
    "    invterm = np.linalg.inv(comp_cov + np.linalg.inv(cov_prior))\n",
    "    det1 = np.linalg.slogdet(2.0 * np.pi * invterm)[1]\n",
    "    det2 = np.linalg.slogdet(2.0 * np.pi * comp_cov)[1]\n",
    "    det3 = np.linalg.slogdet(2.0 * np.pi * cov_prior)[1]\n",
    "    chi2_1 = comp_data @ np.linalg.inv(comp_cov) @ comp_data\n",
    "    chi2_2 = comp_data @ invterm @ comp_data\n",
    "    evidence = 0.5 * (det1 - det2 - det3 - chi2_1 + chi2_2)\n",
    "    return evidence"
   ]
  },
  {
   "cell_type": "code",
   "execution_count": 6,
   "metadata": {},
   "outputs": [],
   "source": [
    "def evidence_comp_data_2(comp_data1, comp_data2, comp_cov1, comp_cov2, cov_prior):\n",
    "    invterm = np.linalg.inv(comp_cov2 + np.linalg.inv(cov_prior))\n",
    "    det1 = np.linalg.slogdet(2.0 * np.pi * invterm)[1]\n",
    "    det2 = np.linalg.slogdet(2.0 * np.pi * comp_cov1)[1]\n",
    "    det3 = np.linalg.slogdet(2.0 * np.pi * cov_prior)[1]\n",
    "    chi2_1 = comp_data1 @ np.linalg.inv(comp_cov1) @ comp_data1\n",
    "    chi2_2 = comp_data2 @ invterm @ comp_data2\n",
    "    evidence = 0.5 * (det1 - det2 - det3 - chi2_1 + chi2_2)\n",
    "    return evidence"
   ]
  },
  {
   "cell_type": "code",
   "execution_count": 7,
   "metadata": {},
   "outputs": [],
   "source": [
    "class EvidenceAndBF:\n",
    "    \n",
    "    def __init__(self, domain, fiducial1, fiducial2, noisecov, covprior1, covprior2):\n",
    "        \n",
    "        self.noisecov = noisecov\n",
    "        self.invnoise = np.linalg.inv(noisecov)\n",
    "        \n",
    "        self.covprior1 = covprior1\n",
    "        self.covprior2 = covprior2\n",
    "    \n",
    "        self.models = SecondModel(domain, fiducial1, fiducial2, noisecov)\n",
    "        \n",
    "    def calculations(self, data):\n",
    "        \n",
    "        capital_x = data - self.models.first_model.theory_fid\n",
    "        capital_y = self.models.first_model.b_matrix.T @ capital_x\n",
    "        \n",
    "        # for the second model, we need a modified compressed data, but the compressed data is fixed \n",
    "        capital_y2 = self.models.b_matrix @ capital_y\n",
    "        \n",
    "        # evidence for uncompressed data \n",
    "        evidence_1 = evidence_full_data(capital_x, self.noisecov, capital_y, self.models.first_model.Lambda, self.covprior1)\n",
    "        evidence_2 = evidence_full_data(capital_x, self.noisecov, capital_y2, self.models.Lambda, self.covprior2)\n",
    "        \n",
    "        # evidence for the compressed data \n",
    "        comp_evi_1 = evidence_comp_data_1(capital_y, self.models.first_model.Lambda, self.covprior1)\n",
    "        comp_evi_2 = evidence_comp_data_2(capital_y, capital_y2, self.models.first_model.Lambda, self.models.Lambda, self.covprior2)\n",
    "        \n",
    "        # record all quantities \n",
    "        record = dict()\n",
    "        record['evi_full_1'] = evidence_1\n",
    "        record['evi_full_2'] = evidence_2\n",
    "        record['evi_comp_1'] = comp_evi_1\n",
    "        record['evi_comp_2'] = comp_evi_2\n",
    "        record['bf_full'] = evidence_1 - evidence_2\n",
    "        record['bf_comp'] = comp_evi_1 - comp_evi_2\n",
    "        \n",
    "        return record "
   ]
  },
  {
   "cell_type": "code",
   "execution_count": 8,
   "metadata": {},
   "outputs": [],
   "source": [
    "sigma = 0.5\n",
    "ndata = 100\n",
    "minx = 0.0 \n",
    "maxx = np.pi \n",
    "prior_width = 10.0 \n",
    "ntrials = 5000\n",
    "\n",
    "fid1 = [4.0, 0.75] # [-0.5, 2.0, 0.5]\n",
    "fid2 = [-1.0, 4.0] # [-0.5, 2.0]\n",
    "\n",
    "nparam1 = len(fid1)\n",
    "nparam2 = len(fid2)\n",
    "\n",
    "prior_cov_1 = prior_width * np.eye(nparam1)\n",
    "prior_cov_2 = prior_width * np.eye(nparam2)\n",
    "\n",
    "domain = np.linspace(minx, maxx, ndata)\n",
    "noise_cov = np.diag(np.ones(ndata)*sigma**2)\n",
    "\n",
    "label_model_1 = r'$A\\,\\textrm{sin}\\omega t$'\n",
    "label_model_2 = r'$at^{3}+bt$'\n",
    "\n",
    "# label_model_1 = r'$at^{3}+bt+c$'\n",
    "# label_model_2 = r'$pt^{3}+qt$'"
   ]
  },
  {
   "cell_type": "code",
   "execution_count": 9,
   "metadata": {},
   "outputs": [],
   "source": [
    "evidence_bf = EvidenceAndBF(domain, fid1, fid2, noise_cov, prior_cov_1, prior_cov_2)"
   ]
  },
  {
   "cell_type": "markdown",
   "metadata": {},
   "source": [
    "### Single Experiment"
   ]
  },
  {
   "cell_type": "code",
   "execution_count": 10,
   "metadata": {},
   "outputs": [],
   "source": [
    "data = evidence_bf.models.first_model.theory_fid + sigma*np.random.randn(ndata)"
   ]
  },
  {
   "cell_type": "code",
   "execution_count": 11,
   "metadata": {},
   "outputs": [
    {
     "data": {
      "text/plain": [
       "{'evi_full_1': -73.7660467946414,\n",
       " 'evi_full_2': -74.95631231345088,\n",
       " 'evi_comp_1': -18.033033466202948,\n",
       " 'evi_comp_2': -19.223298985012427,\n",
       " 'bf_full': 1.1902655188094826,\n",
       " 'bf_comp': 1.190265518809479}"
      ]
     },
     "execution_count": 11,
     "metadata": {},
     "output_type": "execute_result"
    }
   ],
   "source": [
    "evidence_bf.calculations(data)"
   ]
  },
  {
   "cell_type": "markdown",
   "metadata": {},
   "source": [
    "### Calculate Maximum Likelihood Here"
   ]
  },
  {
   "cell_type": "code",
   "execution_count": 12,
   "metadata": {},
   "outputs": [],
   "source": [
    "def log_likelihood(parameters, data, domain, fid1, fid2, covariance, option=1):\n",
    "    model = SecondModel(domain, fid1, fid2, covariance)\n",
    "    if option == 1:\n",
    "        theory = model.first_model.function(parameters)\n",
    "    else:\n",
    "        theory = model.function(parameters)\n",
    "    diff = data - theory \n",
    "    return -0.5*diff @ np.linalg.inv(covariance) @ diff\n",
    "\n",
    "nll = lambda *args: -log_likelihood(*args)"
   ]
  },
  {
   "cell_type": "code",
   "execution_count": 13,
   "metadata": {},
   "outputs": [],
   "source": [
    "soln_1 = minimize(nll, fid1, args=(data, domain, fid1, fid2, noise_cov, 1))\n",
    "soln_2 = minimize(nll, fid2, args=(data, domain, fid1, fid2, noise_cov, 2))"
   ]
  },
  {
   "cell_type": "code",
   "execution_count": 14,
   "metadata": {},
   "outputs": [
    {
     "data": {
      "text/plain": [
       "array([3.95115665, 0.74802465])"
      ]
     },
     "execution_count": 14,
     "metadata": {},
     "output_type": "execute_result"
    }
   ],
   "source": [
    "soln_1.x"
   ]
  },
  {
   "cell_type": "code",
   "execution_count": 15,
   "metadata": {},
   "outputs": [
    {
     "data": {
      "text/plain": [
       "array([-0.19832313,  2.7905014 ])"
      ]
     },
     "execution_count": 15,
     "metadata": {},
     "output_type": "execute_result"
    }
   ],
   "source": [
    "soln_2.x"
   ]
  },
  {
   "cell_type": "markdown",
   "metadata": {},
   "source": [
    "### Update the Fiducial Points"
   ]
  },
  {
   "cell_type": "code",
   "execution_count": 16,
   "metadata": {},
   "outputs": [],
   "source": [
    "fid1 = soln_1.x\n",
    "fid2 = soln_2.x"
   ]
  },
  {
   "cell_type": "markdown",
   "metadata": {},
   "source": [
    "### Plot of an example of data"
   ]
  },
  {
   "cell_type": "code",
   "execution_count": 17,
   "metadata": {},
   "outputs": [],
   "source": [
    "grid = np.linspace(minx, maxx, 1000)\n",
    "theory_1 = FirstModel(grid, fid1, 1E-5*np.eye(1000)).function(soln_1.x)\n",
    "theory_2 = SecondModel(grid, fid1, fid2, 1E-5*np.eye(1000)).function(soln_2.x)"
   ]
  },
  {
   "cell_type": "code",
   "execution_count": 18,
   "metadata": {},
   "outputs": [
    {
     "data": {
      "image/png": "[encoded data removed]",
      "text/plain": [
       "<Figure size 576x576 with 1 Axes>"
      ]
     },
     "metadata": {
      "needs_background": "light"
     },
     "output_type": "display_data"
    }
   ],
   "source": [
    "plt.figure(figsize=(8,8))\n",
    "plt.errorbar(domain, data, yerr=sigma, fmt = 'co', markersize = 2)\n",
    "plt.plot(grid, theory_1, lw = 2, c = 'k', label = label_model_1)\n",
    "plt.plot(grid, theory_2, lw = 2, c = 'r', label = label_model_2)\n",
    "plt.xlim(minx, maxx)\n",
    "plt.xlabel(r'$t$', fontsize = fontSize)\n",
    "plt.ylabel(r'$f(t)$', fontsize = fontSize)\n",
    "plt.tick_params(axis='x', labelsize=fontSize)\n",
    "plt.tick_params(axis='y', labelsize=fontSize)\n",
    "plt.legend(loc = 'upper right',prop={'family':'sans-serif', 'size':15})\n",
    "# plt.savefig('results/data.pdf', bbox_inches = 'tight')\n",
    "# plt.savefig('results/data.png', bbox_inches = 'tight')\n",
    "plt.show()"
   ]
  },
  {
   "cell_type": "markdown",
   "metadata": {},
   "source": [
    "### Repeated Experiments"
   ]
  },
  {
   "cell_type": "code",
   "execution_count": 19,
   "metadata": {},
   "outputs": [],
   "source": [
    "evidence_bf = EvidenceAndBF(domain, fid1, fid2, noise_cov, prior_cov_1, prior_cov_2)"
   ]
  },
  {
   "cell_type": "code",
   "execution_count": 20,
   "metadata": {},
   "outputs": [],
   "source": [
    "store_quantities = list()\n",
    "for i in range(ntrials):\n",
    "    data = data = evidence_bf.models.first_model.theory_fid + sigma*np.random.randn(ndata)\n",
    "    calculations = evidence_bf.calculations(data)\n",
    "    store_quantities.append(calculations)"
   ]
  },
  {
   "cell_type": "code",
   "execution_count": 21,
   "metadata": {},
   "outputs": [],
   "source": [
    "dataframe = pd.DataFrame(store_quantities)"
   ]
  },
  {
   "cell_type": "code",
   "execution_count": 22,
   "metadata": {},
   "outputs": [
    {
     "data": {
      "text/html": [
       "<div>\n",
       "<style scoped>\n",
       "    .dataframe tbody tr th:only-of-type {\n",
       "        vertical-align: middle;\n",
       "    }\n",
       "\n",
       "    .dataframe tbody tr th {\n",
       "        vertical-align: top;\n",
       "    }\n",
       "\n",
       "    .dataframe thead th {\n",
       "        text-align: right;\n",
       "    }\n",
       "</style>\n",
       "<table border=\"1\" class=\"dataframe\">\n",
       "  <thead>\n",
       "    <tr style=\"text-align: right;\">\n",
       "      <th></th>\n",
       "      <th>evi_full_1</th>\n",
       "      <th>evi_full_2</th>\n",
       "      <th>evi_comp_1</th>\n",
       "      <th>evi_comp_2</th>\n",
       "      <th>bf_full</th>\n",
       "      <th>bf_comp</th>\n",
       "    </tr>\n",
       "  </thead>\n",
       "  <tbody>\n",
       "    <tr>\n",
       "      <th>0</th>\n",
       "      <td>-83.125190</td>\n",
       "      <td>-84.332510</td>\n",
       "      <td>-17.999124</td>\n",
       "      <td>-19.206444</td>\n",
       "      <td>1.207320</td>\n",
       "      <td>1.207320</td>\n",
       "    </tr>\n",
       "    <tr>\n",
       "      <th>1</th>\n",
       "      <td>-88.858760</td>\n",
       "      <td>-90.065661</td>\n",
       "      <td>-17.999883</td>\n",
       "      <td>-19.206784</td>\n",
       "      <td>1.206901</td>\n",
       "      <td>1.206901</td>\n",
       "    </tr>\n",
       "    <tr>\n",
       "      <th>2</th>\n",
       "      <td>-82.001964</td>\n",
       "      <td>-83.209594</td>\n",
       "      <td>-17.999343</td>\n",
       "      <td>-19.206973</td>\n",
       "      <td>1.207630</td>\n",
       "      <td>1.207630</td>\n",
       "    </tr>\n",
       "    <tr>\n",
       "      <th>3</th>\n",
       "      <td>-89.305136</td>\n",
       "      <td>-90.512458</td>\n",
       "      <td>-17.999140</td>\n",
       "      <td>-19.206462</td>\n",
       "      <td>1.207322</td>\n",
       "      <td>1.207322</td>\n",
       "    </tr>\n",
       "    <tr>\n",
       "      <th>4</th>\n",
       "      <td>-82.079520</td>\n",
       "      <td>-83.286848</td>\n",
       "      <td>-17.999212</td>\n",
       "      <td>-19.206540</td>\n",
       "      <td>1.207328</td>\n",
       "      <td>1.207328</td>\n",
       "    </tr>\n",
       "  </tbody>\n",
       "</table>\n",
       "</div>"
      ],
      "text/plain": [
       "   evi_full_1  evi_full_2  evi_comp_1  evi_comp_2   bf_full   bf_comp\n",
       "0  -83.125190  -84.332510  -17.999124  -19.206444  1.207320  1.207320\n",
       "1  -88.858760  -90.065661  -17.999883  -19.206784  1.206901  1.206901\n",
       "2  -82.001964  -83.209594  -17.999343  -19.206973  1.207630  1.207630\n",
       "3  -89.305136  -90.512458  -17.999140  -19.206462  1.207322  1.207322\n",
       "4  -82.079520  -83.286848  -17.999212  -19.206540  1.207328  1.207328"
      ]
     },
     "execution_count": 22,
     "metadata": {},
     "output_type": "execute_result"
    }
   ],
   "source": [
    "dataframe.head()"
   ]
  },
  {
   "cell_type": "markdown",
   "metadata": {},
   "source": [
    "## Plots"
   ]
  },
  {
   "cell_type": "code",
   "execution_count": 23,
   "metadata": {},
   "outputs": [
    {
     "data": {
      "image/png": "[encoded data removed]",
      "text/plain": [
       "<Figure size 576x576 with 1 Axes>"
      ]
     },
     "metadata": {
      "needs_background": "light"
     },
     "output_type": "display_data"
    }
   ],
   "source": [
    "plt.figure(figsize = (8,8))\n",
    "plt.title('No Compression', fontsize=fontSize, y=1.02)\n",
    "plt.hist(dataframe['evi_full_1'].values, density = True, edgecolor='b', linewidth=0.5, label = label_model_1, alpha = 0.2)\n",
    "plt.hist(dataframe['evi_full_2'].values, density = True, edgecolor='r', linewidth=1.5, label = label_model_2, histtype='step')\n",
    "plt.xlabel(r'$\\textrm{log Z}$', fontsize = fontSize)\n",
    "plt.tick_params(axis='x', labelsize=fontSize)\n",
    "plt.tick_params(axis='y', labelsize=fontSize)\n",
    "plt.legend(loc = 'upper left',prop={'family':'sans-serif', 'size':15})\n",
    "# plt.savefig('results/evidence_full_data.pdf', bbox_inches = 'tight')\n",
    "# plt.savefig('results/evidence_full_data.png', bbox_inches = 'tight')\n",
    "plt.show()"
   ]
  },
  {
   "cell_type": "code",
   "execution_count": 24,
   "metadata": {},
   "outputs": [
    {
     "data": {
      "image/png": "[encoded data removed]",
      "text/plain": [
       "<Figure size 1152x576 with 2 Axes>"
      ]
     },
     "metadata": {
      "needs_background": "light"
     },
     "output_type": "display_data"
    }
   ],
   "source": [
    "max_comp_first = max(dataframe['evi_comp_1'].values)\n",
    "max_comp_second =max(dataframe['evi_comp_2'].values)\n",
    "\n",
    "plt.figure(figsize = (16,8))\n",
    "plt.suptitle('Compression', fontsize = fontSize, y=0.95)\n",
    "plt.subplot(121)\n",
    "plt.hist(dataframe['evi_comp_1'].values - max_comp_first, density = True, edgecolor='b', linewidth=1.0, label = label_model_1, alpha = 0.2)\n",
    "plt.xlabel(r'$\\textrm{log }Z-$' + f'{abs(max_comp_first):.2f}', fontsize = fontSize, labelpad=20)\n",
    "plt.tick_params(axis='x', labelsize=fontSize)\n",
    "plt.tick_params(axis='y', labelsize=fontSize)\n",
    "plt.ticklabel_format(style='sci', axis='y', scilimits=(0,0))\n",
    "plt.ticklabel_format(style='sci', axis='x', scilimits=(0,0))\n",
    "plt.legend(loc = 'upper left',prop={'family':'sans-serif', 'size':15})\n",
    "\n",
    "plt.subplot(122)\n",
    "plt.hist(dataframe['evi_comp_2'].values - max_comp_second, density = True, edgecolor='r', linewidth=1.5, label = label_model_2, histtype='step')\n",
    "plt.xlabel(r'$\\textrm{log }Z-$' + f'{abs(max_comp_second):.2f}', fontsize = fontSize, labelpad=20)\n",
    "plt.tick_params(axis='x', labelsize=fontSize)\n",
    "plt.tick_params(axis='y', labelsize=fontSize)\n",
    "plt.ticklabel_format(style='sci', axis='y', scilimits=(0,0))\n",
    "plt.ticklabel_format(style='sci', axis='x', scilimits=(0,0))\n",
    "plt.legend(loc = 'upper left',prop={'family':'sans-serif', 'size':15})\n",
    "\n",
    "# plt.savefig('results/evidence_comp_data.pdf', bbox_inches = 'tight')\n",
    "# plt.savefig('results/evidence_comp_data.png', bbox_inches = 'tight')\n",
    "plt.show()"
   ]
  },
  {
   "cell_type": "code",
   "execution_count": 25,
   "metadata": {},
   "outputs": [
    {
     "data": {
      "image/png": "[encoded data removed]",
      "text/plain": [
       "<Figure size 864x576 with 1 Axes>"
      ]
     },
     "metadata": {
      "needs_background": "light"
     },
     "output_type": "display_data"
    }
   ],
   "source": [
    "max_bf = max([max(dataframe['bf_full'].values), max(dataframe['bf_comp'].values)])\n",
    "plt.figure(figsize = (12,8))\n",
    "plt.title('log Bayes-Factor', fontsize=fontSize, y=1.02)\n",
    "plt.hist(dataframe['bf_full'].values, density = True, edgecolor='b', linewidth=0.5, label = 'Full Data', alpha = 0.2)\n",
    "plt.hist(dataframe['bf_comp'].values, density = True, edgecolor='r', linewidth=1.5, label = 'Compressed Data', histtype='step')\n",
    "plt.xlabel(r'$\\textrm{log }B_{12}$', fontsize = fontSize, labelpad=20)\n",
    "plt.tick_params(axis='x', labelsize=fontSize)\n",
    "plt.tick_params(axis='y', labelsize=fontSize)\n",
    "plt.ticklabel_format(style='sci', axis='y', scilimits=(0,0))\n",
    "plt.ticklabel_format(style='sci', axis='x', scilimits=(0,0))\n",
    "plt.legend(loc = 'upper right',prop={'family':'sans-serif', 'size':15})\n",
    "# plt.savefig('results/log-bayes-factor.pdf', bbox_inches = 'tight')\n",
    "# plt.savefig('results/log-bayes-factor.png', bbox_inches = 'tight')\n",
    "plt.show()"
   ]
  },
  {
   "cell_type": "code",
   "execution_count": null,
   "metadata": {},
   "outputs": [],
   "source": []
  }
 ],
 "metadata": {
  "kernelspec": {
   "display_name": "Python 3",
   "language": "python",
   "name": "python3"
  },
  "language_info": {
   "codemirror_mode": {
    "name": "ipython",
    "version": 3
   },
   "file_extension": ".py",
   "mimetype": "text/x-python",
   "name": "python",
   "nbconvert_exporter": "python",
   "pygments_lexer": "ipython3",
   "version": "3.7.6"
  }
 },
 "nbformat": 4,
 "nbformat_minor": 4
}
