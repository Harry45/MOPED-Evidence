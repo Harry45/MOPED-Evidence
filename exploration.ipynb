{
 "cells": [
  {
   "cell_type": "code",
   "execution_count": 1,
   "metadata": {},
   "outputs": [],
   "source": [
    "import numpy as np \n",
    "import matplotlib.pylab as plt \n",
    "from scipy.stats import multivariate_normal, norm\n",
    "from scipy.optimize import minimize\n",
    "\n",
    "plt.rc('text', usetex=True)\n",
    "plt.rc('font',**{'family':'sans-serif','serif':['Palatino']})\n",
    "figSize  = (12, 8)\n",
    "fontSize = 20"
   ]
  },
  {
   "cell_type": "code",
   "execution_count": 2,
   "metadata": {},
   "outputs": [],
   "source": [
    "def model_sin(xvalues, parameters):\n",
    "    \n",
    "    function = parameters[0] * np.sin(parameters[1] * xvalues)\n",
    "    gradient_param_0 = np.sin(parameters[1] * xvalues)\n",
    "    gradient_param_1 = parameters[0] * xvalues * np.cos(parameters[1] * xvalues)\n",
    "    \n",
    "    # this is of shape Ndata x 2 \n",
    "    gradient = np.vstack([gradient_param_0, gradient_param_1]).T\n",
    "    return function, gradient"
   ]
  },
  {
   "cell_type": "code",
   "execution_count": 3,
   "metadata": {},
   "outputs": [],
   "source": [
    "def model_quad(xvalues, parameters):\n",
    "    factor = xvalues\n",
    "    function = parameters[0] * factor * xvalues**2 + parameters[1] * xvalues\n",
    "    gradient = np.vstack([factor * xvalues**2, xvalues]).T\n",
    "    return function, gradient"
   ]
  },
  {
   "cell_type": "code",
   "execution_count": 4,
   "metadata": {},
   "outputs": [],
   "source": [
    "def calculate_mle(data, invcov, design):\n",
    "    invterm = np.linalg.inv(design.T @ invcov @ design)\n",
    "    mean = invterm @ design.T @ invcov @ data\n",
    "    return mean "
   ]
  },
  {
   "cell_type": "code",
   "execution_count": 5,
   "metadata": {},
   "outputs": [],
   "source": [
    "def log_evidence_calculations(Lambda, covPrior, covNoise, data, compData):\n",
    "    invterm = np.linalg.inv(Lambda + np.linalg.inv(covPrior))\n",
    "    a_quant = 0.5 * compData @ invterm @ compData\n",
    "    d_quant = np.linalg.slogdet(2.0 * np.pi * invterm)[1] - np.linalg.slogdet(2.0 * np.pi * covPrior)[1]\n",
    "    \n",
    "    chi2_comp = -0.5 * compData @ np.linalg.inv(Lambda) @ compData\n",
    "    chi2_uncomp = -0.5 * data @ np.linalg.inv(covNoise) @ data\n",
    "    det_comp = np.linalg.slogdet(2.0 * np.pi * Lambda)[1]\n",
    "    det_uncomp = np.linalg.slogdet(2.0 * np.pi * covNoise)[1]\n",
    "    \n",
    "    log_evi_comp = a_quant + chi2_comp + 0.5 * (d_quant - det_comp)\n",
    "    log_evi_uncomp = a_quant + chi2_uncomp + 0.5 * (d_quant - det_uncomp)\n",
    "    \n",
    "    return log_evi_comp, log_evi_uncomp"
   ]
  },
  {
   "cell_type": "code",
   "execution_count": 6,
   "metadata": {},
   "outputs": [],
   "source": [
    "def log_likelihood_sin(beta, x, data, invcov):\n",
    "    model = model_sin(x, beta)\n",
    "    diff = data - model[0]\n",
    "    chi2 = diff @ invcov @ diff\n",
    "    return -0.5*chi2\n",
    "\n",
    "def log_likelihood_quad(theta, x, data, invcov):\n",
    "    model = model_quad(x, theta)\n",
    "    diff = data - model[0]\n",
    "    chi2 = diff @ invcov @ diff\n",
    "    return -0.5*chi2\n",
    "\n",
    "\n",
    "nll_sin = lambda *args: -log_likelihood_sin(*args)\n",
    "nll_quad = lambda *args: -log_likelihood_quad(*args)"
   ]
  },
  {
   "cell_type": "markdown",
   "metadata": {},
   "source": [
    "## Noise and Priors"
   ]
  },
  {
   "cell_type": "code",
   "execution_count": 7,
   "metadata": {},
   "outputs": [],
   "source": [
    "sigma = 0.5\n",
    "minx = 0.0 \n",
    "maxx = np.pi \n",
    "ndata = 100\n",
    "priorwidth = 10"
   ]
  },
  {
   "cell_type": "code",
   "execution_count": 8,
   "metadata": {},
   "outputs": [],
   "source": [
    "noise_cov = np.diag(np.ones(ndata)*sigma**2)\n",
    "noise_invcov = np.diag(1./(np.ones(ndata)*sigma**2))"
   ]
  },
  {
   "cell_type": "code",
   "execution_count": 9,
   "metadata": {},
   "outputs": [],
   "source": [
    "# we will use beta to denote A and omega \n",
    "# we will use theta to denote a and b \n",
    "mean_beta = np.zeros(2)\n",
    "mean_theta = np.zeros(2)\n",
    "\n",
    "cov_beta = priorwidth * np.eye(2)\n",
    "cov_theta = priorwidth * np.eye(2)\n",
    "\n",
    "invcov_beta = np.linalg.inv(cov_beta)\n",
    "invcov_theta = np.linalg.inv(cov_theta)\n",
    "\n",
    "# priors \n",
    "\n",
    "p_beta = multivariate_normal(mean_beta, cov_beta)\n",
    "p_theta = multivariate_normal(mean_theta, cov_theta)"
   ]
  },
  {
   "cell_type": "code",
   "execution_count": 10,
   "metadata": {},
   "outputs": [],
   "source": [
    "param_1_fid = np.array([4.0, 0.75])\n",
    "param_2_fid = np.array([-1.0, 4.0])\n",
    "\n",
    "xvalues = np.linspace(minx, maxx, ndata)\n",
    "model_1_fid, grad_1_fid = model_sin(xvalues, param_1_fid)\n",
    "model_2_fid, grad_2_fid = model_quad(xvalues, param_2_fid)"
   ]
  },
  {
   "cell_type": "code",
   "execution_count": 11,
   "metadata": {},
   "outputs": [],
   "source": [
    "epsilon = np.random.randn(ndata) * sigma\n",
    "data = model_1_fid + epsilon"
   ]
  },
  {
   "cell_type": "code",
   "execution_count": 12,
   "metadata": {},
   "outputs": [],
   "source": [
    "initial_sin = param_1_fid + 0.1 * np.random.randn(2)\n",
    "soln_sin = minimize(nll_sin, initial_sin, args=(xvalues, data, noise_invcov))\n",
    "mle_sin = soln_sin.x\n",
    "\n",
    "initial_quad = param_2_fid + 0.1 * np.random.randn(2)\n",
    "soln_quad = minimize(nll_quad, initial_quad, args=(xvalues, data, noise_invcov))\n",
    "mle_quad = soln_quad.x"
   ]
  },
  {
   "cell_type": "code",
   "execution_count": 13,
   "metadata": {},
   "outputs": [],
   "source": [
    "theory_mle_sin, grad_mle_sin = model_sin(xvalues, mle_sin)\n",
    "theory_mle_quad, grad_mle_quad = model_quad(xvalues, mle_quad)"
   ]
  },
  {
   "cell_type": "code",
   "execution_count": 14,
   "metadata": {},
   "outputs": [],
   "source": [
    "B_sin = noise_invcov @ grad_1_fid # grad_mle_sin # \n",
    "B_quad = noise_invcov @  grad_2_fid # grad_mle_quad #"
   ]
  },
  {
   "cell_type": "code",
   "execution_count": 15,
   "metadata": {},
   "outputs": [],
   "source": [
    "X_data = data - model_1_fid # theory_mle_sin #\n",
    "Y_sin = B_sin.T @ X_data\n",
    "Y_quad = B_quad.T @ X_data"
   ]
  },
  {
   "cell_type": "code",
   "execution_count": 16,
   "metadata": {},
   "outputs": [],
   "source": [
    "Lambda_sin = B_sin.T @ noise_cov @ B_sin\n",
    "Lambda_quad = B_quad.T @ noise_cov @ B_quad"
   ]
  },
  {
   "cell_type": "code",
   "execution_count": 17,
   "metadata": {},
   "outputs": [],
   "source": [
    "det_sin = np.linalg.slogdet(2.0 * np.pi * Lambda_sin)[1]\n",
    "det_quad = np.linalg.slogdet(2.0 * np.pi * Lambda_quad)[1]\n",
    "\n",
    "chi2_sin = Y_sin @ np.linalg.inv(Lambda_sin) @ Y_sin\n",
    "chi2_quad = Y_quad @ np.linalg.inv(Lambda_quad) @ Y_quad"
   ]
  },
  {
   "cell_type": "code",
   "execution_count": 18,
   "metadata": {},
   "outputs": [],
   "source": [
    "log_evi_sin_comp, log_evi_sin_uncomp = log_evidence_calculations(Lambda_sin, cov_beta, noise_cov, X_data, Y_sin)\n",
    "log_evi_quad_comp, log_evi_quad_uncomp = log_evidence_calculations(Lambda_quad, cov_theta, noise_cov, X_data, Y_quad)\n",
    "\n",
    "log_bf_comp = log_evi_sin_comp - log_evi_quad_comp\n",
    "log_bf_uncomp = log_evi_sin_uncomp - log_evi_quad_uncomp\n",
    "delta_bf = log_bf_comp - log_bf_uncomp"
   ]
  },
  {
   "cell_type": "code",
   "execution_count": 19,
   "metadata": {},
   "outputs": [
    {
     "data": {
      "image/png": "[encoded data removed]",
      "text/plain": [
       "<Figure size 576x432 with 1 Axes>"
      ]
     },
     "metadata": {
      "needs_background": "light"
     },
     "output_type": "display_data"
    }
   ],
   "source": [
    "plt.figure(figsize = (8, 6))\n",
    "plt.errorbar(xvalues, data, yerr = sigma, fmt = 'go', label = 'Data')\n",
    "plt.plot(xvalues, model_1_fid, c = 'b', label = r'$A\\,\\textrm{sin}\\,\\omega t$', lw = 2)\n",
    "# plt.plot(xvalues, model_2_fid, c = 'r', label = r'$at^{2} + bt$', lw=2)\n",
    "plt.plot(xvalues, theory_mle_sin, c = 'b', label = r'MLE: $A\\,\\textrm{sin}\\,\\omega t$', lw = 2, linestyle = '--')\n",
    "plt.plot(xvalues, theory_mle_quad, c = 'r', label = r'MLE: $at^{3} + bt$', lw=2, linestyle = '--')\n",
    "plt.xlim(minx, maxx)\n",
    "plt.ylabel(r'$f(t)$', fontsize = fontSize)\n",
    "plt.xlabel(r'$t$', fontsize = fontSize)\n",
    "plt.tick_params(axis='x', labelsize=fontSize)\n",
    "plt.tick_params(axis='y', labelsize=fontSize)\n",
    "plt.legend(loc = 'best',prop={'family':'sans-serif', 'size':15})\n",
    "plt.show()"
   ]
  },
  {
   "cell_type": "code",
   "execution_count": 20,
   "metadata": {},
   "outputs": [
    {
     "data": {
      "text/plain": [
       "2.4023060766263065"
      ]
     },
     "execution_count": 20,
     "metadata": {},
     "output_type": "execute_result"
    }
   ],
   "source": [
    "log_bf_comp"
   ]
  },
  {
   "cell_type": "code",
   "execution_count": 21,
   "metadata": {},
   "outputs": [
    {
     "data": {
      "text/plain": [
       "0.6050720788647936"
      ]
     },
     "execution_count": 21,
     "metadata": {},
     "output_type": "execute_result"
    }
   ],
   "source": [
    "log_bf_uncomp"
   ]
  },
  {
   "cell_type": "markdown",
   "metadata": {},
   "source": [
    "## Repeating the above $n$ times"
   ]
  },
  {
   "cell_type": "code",
   "execution_count": 22,
   "metadata": {},
   "outputs": [],
   "source": [
    "# MLE for sinusoidal model and quadratic model\n",
    "# -----------------------------------------------------------------------------------------\n",
    "#         initial_sin = param_1_fid + 0.1 * np.random.randn(2)\n",
    "#         soln_sin = minimize(nll_sin, initial_sin, args=(xvalues, data, noise_invcov))\n",
    "#         mle_sin = soln_sin.x\n",
    "\n",
    "#         initial_quad = param_2_fid + 0.1 * np.random.randn(2)\n",
    "#         soln_quad = minimize(nll_quad, initial_quad, args=(xvalues, data, noise_invcov))\n",
    "#         mle_quad = soln_quad.x\n",
    "\n",
    "#         theory_mle_sin, grad_mle_sin = model_sin(xvalues, mle_sin)\n",
    "#         theory_mle_quad, grad_mle_quad = model_quad(xvalues, mle_quad)\n",
    "# -----------------------------------------------------------------------------------------"
   ]
  },
  {
   "cell_type": "code",
   "execution_count": 23,
   "metadata": {},
   "outputs": [],
   "source": [
    "def repetitions(ntrials):\n",
    "    \n",
    "    record = dict()\n",
    "    record['log_evi_sin_uncomp'] = list()\n",
    "    record['log_evi_quad_uncomp'] = list()\n",
    "    record['log_evi_sin_comp'] = list()\n",
    "    record['log_evi_quad_comp'] = list()\n",
    "    record['log_bf_comp'] = list()\n",
    "    record['log_bf_uncomp'] = list()\n",
    "    record['delta_log_bf'] = list()\n",
    "    \n",
    "    for i in range(ntrials):\n",
    "\n",
    "        epsilon = np.random.randn(ndata) * sigma\n",
    "        data = model_1_fid + epsilon\n",
    "        \n",
    "        # for evidence calculations\n",
    "        B_sin = noise_invcov @ grad_1_fid # grad_mle_sin # \n",
    "        B_quad = noise_invcov @ grad_2_fid # grad_mle_quad # \n",
    "        \n",
    "        X_data = data - model_1_fid # theory_mle_sin # \n",
    "        Y_sin = B_sin.T @ X_data\n",
    "        Y_quad = B_quad.T @ X_data\n",
    "               \n",
    "        Lambda_sin = B_sin.T @ noise_cov @ B_sin\n",
    "        Lambda_quad = B_quad.T @ noise_cov @ B_quad\n",
    "\n",
    "        log_evi_sin_comp, log_evi_sin_uncomp = log_evidence_calculations(Lambda_sin, cov_beta, noise_cov, X_data, Y_sin)\n",
    "        log_evi_quad_comp, log_evi_quad_uncomp = log_evidence_calculations(Lambda_quad, cov_theta, noise_cov, X_data, Y_quad)\n",
    "    \n",
    "        # print(log_evi_quad_comp)\n",
    "        \n",
    "        log_bf_comp = log_evi_sin_comp - log_evi_quad_comp\n",
    "        log_bf_uncomp = log_evi_sin_uncomp - log_evi_quad_uncomp\n",
    "        delta_log_bf = log_bf_comp - log_bf_uncomp\n",
    "\n",
    "        record['log_evi_sin_uncomp'].append(log_evi_sin_uncomp)\n",
    "        record['log_evi_quad_uncomp'].append(log_evi_quad_uncomp)\n",
    "        record['log_evi_sin_comp'].append(log_evi_sin_comp)\n",
    "        record['log_evi_quad_comp'].append(log_evi_quad_comp)\n",
    "        record['log_bf_comp'].append(log_bf_comp)        \n",
    "        record['log_bf_uncomp'].append(log_bf_uncomp)\n",
    "        record['delta_log_bf'].append(delta_log_bf)\n",
    "        \n",
    "    return record"
   ]
  },
  {
   "cell_type": "code",
   "execution_count": 24,
   "metadata": {},
   "outputs": [],
   "source": [
    "record = repetitions(5000)"
   ]
  },
  {
   "cell_type": "code",
   "execution_count": 25,
   "metadata": {},
   "outputs": [
    {
     "data": {
      "image/png": "[encoded data removed]",
      "text/plain": [
       "<Figure size 1152x576 with 2 Axes>"
      ]
     },
     "metadata": {
      "needs_background": "light"
     },
     "output_type": "display_data"
    }
   ],
   "source": [
    "plt.figure(figsize = (16,8))\n",
    "\n",
    "plt.suptitle('Compression', fontsize = fontSize, y=0.95)\n",
    "plt.subplot(121)\n",
    "plt.hist(record['log_evi_sin_comp'], density = True, edgecolor='b', linewidth=1.0, label = 'Sinusoidal Model', alpha = 0.2)\n",
    "plt.xlabel(r'$\\textrm{log }Z$', fontsize = fontSize)\n",
    "plt.tick_params(axis='x', labelsize=fontSize)\n",
    "plt.tick_params(axis='y', labelsize=fontSize)\n",
    "plt.ticklabel_format(style='sci', axis='y', scilimits=(0,0))\n",
    "plt.ticklabel_format(useOffset=False)\n",
    "plt.legend(loc = 'upper left',prop={'family':'sans-serif', 'size':15})\n",
    "\n",
    "plt.subplot(122)\n",
    "plt.hist(record['log_evi_quad_comp'], density = True, edgecolor='r', linewidth=1.5, label = 'Cubic Model', histtype='step')\n",
    "plt.xlabel(r'$\\textrm{log }Z$', fontsize = fontSize)\n",
    "plt.tick_params(axis='x', labelsize=fontSize)\n",
    "plt.tick_params(axis='y', labelsize=fontSize)\n",
    "plt.ticklabel_format(style='sci', axis='y', scilimits=(0,0))\n",
    "plt.ticklabel_format(useOffset=False)\n",
    "plt.legend(loc = 'upper left',prop={'family':'sans-serif', 'size':15})\n",
    "plt.show()\n",
    "\n",
    "plt.show()"
   ]
  },
  {
   "cell_type": "code",
   "execution_count": 26,
   "metadata": {},
   "outputs": [
    {
     "data": {
      "image/png": "[encoded data removed]",
      "text/plain": [
       "<Figure size 576x576 with 1 Axes>"
      ]
     },
     "metadata": {
      "needs_background": "light"
     },
     "output_type": "display_data"
    }
   ],
   "source": [
    "plt.figure(figsize = (8,8))\n",
    "plt.title('No Compression', fontsize=fontSize)\n",
    "plt.hist(record['log_evi_sin_uncomp'], density = True, edgecolor='b', linewidth=0.5, label = 'Sinusoidal Model', alpha = 0.2)\n",
    "plt.hist(record['log_evi_quad_uncomp'], density = True, edgecolor='r', linewidth=1.5, label = 'Cubic Model', histtype='step')\n",
    "plt.xlabel(r'$\\textrm{log Z}$', fontsize = fontSize)\n",
    "plt.tick_params(axis='x', labelsize=fontSize)\n",
    "plt.tick_params(axis='y', labelsize=fontSize)\n",
    "plt.legend(loc = 'upper left',prop={'family':'sans-serif', 'size':15})\n",
    "plt.show()"
   ]
  },
  {
   "cell_type": "code",
   "execution_count": 27,
   "metadata": {},
   "outputs": [
    {
     "data": {
      "image/png": "[encoded data removed]",
      "text/plain": [
       "<Figure size 1584x432 with 3 Axes>"
      ]
     },
     "metadata": {
      "needs_background": "light"
     },
     "output_type": "display_data"
    }
   ],
   "source": [
    "plt.figure(figsize = (22,6))\n",
    "plt.subplot(131)\n",
    "plt.hist(record['log_bf_uncomp'], density = True, edgecolor='b', linewidth=0.5, label = 'No Compression', alpha = 0.2)\n",
    "plt.xlabel(r'$\\textrm{log }B_{12}$', fontsize = fontSize)\n",
    "plt.tick_params(axis='x', labelsize=fontSize)\n",
    "plt.tick_params(axis='y', labelsize=fontSize)\n",
    "plt.legend(loc = 'upper right',prop={'family':'sans-serif', 'size':15})\n",
    "\n",
    "plt.subplot(132)\n",
    "plt.hist(record['log_bf_comp'], density = True, edgecolor='r', linewidth=0.5, label = 'Compression', histtype='step')\n",
    "plt.xlabel(r'$\\textrm{log }B_{12}$', fontsize = fontSize)\n",
    "plt.tick_params(axis='x', labelsize=fontSize)\n",
    "plt.tick_params(axis='y', labelsize=fontSize)\n",
    "plt.legend(loc = 'upper right',prop={'family':'sans-serif', 'size':15})\n",
    "\n",
    "plt.subplot(133)\n",
    "plt.hist(record['delta_log_bf'], density = True, edgecolor='g', linewidth=0.5, label = 'Difference', histtype='step')\n",
    "plt.xlabel(r'$\\textrm{log }B_{12}$', fontsize = fontSize)\n",
    "plt.tick_params(axis='x', labelsize=fontSize)\n",
    "plt.tick_params(axis='y', labelsize=fontSize)\n",
    "plt.legend(loc = 'upper right',prop={'family':'sans-serif', 'size':15})\n",
    "plt.show()"
   ]
  },
  {
   "cell_type": "code",
   "execution_count": 28,
   "metadata": {},
   "outputs": [
    {
     "name": "stdout",
     "output_type": "stream",
     "text": [
      "The standard deviation in the distribution in log-BF for the compressed case is   : 2.92e-04\n",
      "The standard deviation in the distribution in log-BF for the uncompressed case is : 1.40e-01\n"
     ]
    }
   ],
   "source": [
    "std_comp = np.std(record[\"log_bf_comp\"])\n",
    "std_uncomp = np.std(record[\"log_bf_uncomp\"])\n",
    "print(f'The standard deviation in the distribution in log-BF for the compressed case is   : {std_comp:.2e}')\n",
    "print(f'The standard deviation in the distribution in log-BF for the uncompressed case is : {std_uncomp:.2e}')"
   ]
  },
  {
   "cell_type": "code",
   "execution_count": 29,
   "metadata": {},
   "outputs": [],
   "source": [
    "# ndata = 200, sigma = 1.0\n",
    "# The standard deviation in the distribution in log-BF for the compressed case is   : 5.80e-04\n",
    "# The standard deviation in the distribution in log-BF for the uncompressed case is : 1.46e-01\n",
    "\n",
    "# ndata = 200, sigma = 0.5\n",
    "# The standard deviation in the distribution in log-BF for the compressed case is   : 1.47e-04\n",
    "# The standard deviation in the distribution in log-BF for the uncompressed case is : 1.42e-01\n",
    "\n",
    "# ndata = 100, sigma = 1.0\n",
    "# The standard deviation in the distribution in log-BF for the compressed case is   : 1.23e-03\n",
    "# The standard deviation in the distribution in log-BF for the uncompressed case is : 1.40e-01\n",
    "\n",
    "# ndata = 100, sigma = 0.5\n",
    "# The standard deviation in the distribution in log-BF for the compressed case is   : 2.91e-04\n",
    "# The standard deviation in the distribution in log-BF for the uncompressed case is : 1.47e-01"
   ]
  },
  {
   "cell_type": "code",
   "execution_count": 30,
   "metadata": {},
   "outputs": [
    {
     "data": {
      "text/plain": [
       "3.945578231292517"
      ]
     },
     "execution_count": 30,
     "metadata": {},
     "output_type": "execute_result"
    }
   ],
   "source": [
    "# 2 x sigma\n",
    "5.8/1.47"
   ]
  },
  {
   "cell_type": "code",
   "execution_count": 31,
   "metadata": {},
   "outputs": [
    {
     "data": {
      "text/plain": [
       "4.22680412371134"
      ]
     },
     "execution_count": 31,
     "metadata": {},
     "output_type": "execute_result"
    }
   ],
   "source": [
    "# 2 x sigma\n",
    "12.3/2.91"
   ]
  },
  {
   "cell_type": "code",
   "execution_count": 32,
   "metadata": {},
   "outputs": [
    {
     "data": {
      "text/plain": [
       "2.1206896551724137"
      ]
     },
     "execution_count": 32,
     "metadata": {},
     "output_type": "execute_result"
    }
   ],
   "source": [
    "# 2 x number of data\n",
    "1.23e-03 / 5.80e-04"
   ]
  },
  {
   "cell_type": "code",
   "execution_count": 33,
   "metadata": {},
   "outputs": [
    {
     "data": {
      "text/plain": [
       "1.979591836734694"
      ]
     },
     "execution_count": 33,
     "metadata": {},
     "output_type": "execute_result"
    }
   ],
   "source": [
    "# 2 x number of data\n",
    "2.91e-04/1.47e-04"
   ]
  },
  {
   "cell_type": "code",
   "execution_count": null,
   "metadata": {},
   "outputs": [],
   "source": []
  }
 ],
 "metadata": {
  "kernelspec": {
   "display_name": "Python 3",
   "language": "python",
   "name": "python3"
  },
  "language_info": {
   "codemirror_mode": {
    "name": "ipython",
    "version": 3
   },
   "file_extension": ".py",
   "mimetype": "text/x-python",
   "name": "python",
   "nbconvert_exporter": "python",
   "pygments_lexer": "ipython3",
   "version": "3.7.6"
  }
 },
 "nbformat": 4,
 "nbformat_minor": 4
}
