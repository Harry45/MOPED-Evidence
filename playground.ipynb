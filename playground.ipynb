{
 "cells": [
  {
   "cell_type": "code",
   "execution_count": 1,
   "metadata": {},
   "outputs": [],
   "source": [
    "import torch\n",
    "from src.model import grad_first_model, first_model"
   ]
  },
  {
   "cell_type": "code",
   "execution_count": 2,
   "metadata": {},
   "outputs": [],
   "source": [
    "xvals = torch.linspace(0.0, 2.0, 25)\n",
    "params = torch.tensor([-1.0, 4.0])"
   ]
  },
  {
   "cell_type": "code",
   "execution_count": 6,
   "metadata": {},
   "outputs": [
    {
     "data": {
      "text/plain": [
       "tensor([0.0000, 0.3264, 0.6389, 0.9375, 1.2222, 1.4931, 1.7500, 1.9931, 2.2222,\n",
       "        2.4375, 2.6389, 2.8264, 3.0000, 3.1597, 3.3056, 3.4375, 3.5556, 3.6597,\n",
       "        3.7500, 3.8264, 3.8889, 3.9375, 3.9722, 3.9931, 4.0000])"
      ]
     },
     "execution_count": 6,
     "metadata": {},
     "output_type": "execute_result"
    }
   ],
   "source": [
    "first_model(params, xvals)"
   ]
  },
  {
   "cell_type": "code",
   "execution_count": 4,
   "metadata": {},
   "outputs": [],
   "source": [
    "# mean = list()\n",
    "# grad = list()\n",
    "\n",
    "# for x in xvals:\n",
    "#     mu, g = grad_first_model(params, x)\n",
    "#     mean.append(mu)\n",
    "#     grad.append(g)\n",
    "    \n",
    "# mean = torch.FloatTensor(mean)\n",
    "# grad = torch.vstack(grad)"
   ]
  },
  {
   "cell_type": "code",
   "execution_count": 5,
   "metadata": {},
   "outputs": [
    {
     "data": {
      "text/plain": [
       "(tensor([0.0000, 0.3264, 0.6389, 0.9375, 1.2222, 1.4931, 1.7500, 1.9931, 2.2222,\n",
       "         2.4375, 2.6389, 2.8264, 3.0000, 3.1597, 3.3056, 3.4375, 3.5556, 3.6597,\n",
       "         3.7500, 3.8264, 3.8889, 3.9375, 3.9722, 3.9931, 4.0000]),\n",
       " tensor([[0.0000, 0.0000],\n",
       "         [0.0069, 0.0833],\n",
       "         [0.0278, 0.1667],\n",
       "         [0.0625, 0.2500],\n",
       "         [0.1111, 0.3333],\n",
       "         [0.1736, 0.4167],\n",
       "         [0.2500, 0.5000],\n",
       "         [0.3403, 0.5833],\n",
       "         [0.4444, 0.6667],\n",
       "         [0.5625, 0.7500],\n",
       "         [0.6944, 0.8333],\n",
       "         [0.8403, 0.9167],\n",
       "         [1.0000, 1.0000],\n",
       "         [1.1736, 1.0833],\n",
       "         [1.3611, 1.1667],\n",
       "         [1.5625, 1.2500],\n",
       "         [1.7778, 1.3333],\n",
       "         [2.0069, 1.4167],\n",
       "         [2.2500, 1.5000],\n",
       "         [2.5069, 1.5833],\n",
       "         [2.7778, 1.6667],\n",
       "         [3.0625, 1.7500],\n",
       "         [3.3611, 1.8333],\n",
       "         [3.6736, 1.9167],\n",
       "         [4.0000, 2.0000]]))"
      ]
     },
     "execution_count": 5,
     "metadata": {},
     "output_type": "execute_result"
    }
   ],
   "source": [
    "grad_first_model(params, xvals)"
   ]
  },
  {
   "cell_type": "code",
   "execution_count": null,
   "metadata": {},
   "outputs": [],
   "source": []
  }
 ],
 "metadata": {
  "kernelspec": {
   "display_name": "Python 3",
   "language": "python",
   "name": "python3"
  },
  "language_info": {
   "codemirror_mode": {
    "name": "ipython",
    "version": 3
   },
   "file_extension": ".py",
   "mimetype": "text/x-python",
   "name": "python",
   "nbconvert_exporter": "python",
   "pygments_lexer": "ipython3",
   "version": "3.7.6"
  }
 },
 "nbformat": 4,
 "nbformat_minor": 4
}
