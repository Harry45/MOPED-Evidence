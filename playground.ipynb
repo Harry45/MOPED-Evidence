{
 "cells": [
  {
   "cell_type": "code",
   "execution_count": 1,
   "metadata": {},
   "outputs": [],
   "source": [
    "import torch\n",
    "from src.model import grad_first_model, first_model"
   ]
  },
  {
   "cell_type": "code",
   "execution_count": 2,
   "metadata": {},
   "outputs": [],
   "source": [
    "xvals = torch.linspace(0.0, 2.0, 25)\n",
    "params = torch.tensor([-1.0, 4.0])"
   ]
  },
  {
   "cell_type": "code",
   "execution_count": 6,
   "metadata": {},
   "outputs": [
    {
     "data": {
      "text/plain": [
       "tensor([0.0000, 0.3264, 0.6389, 0.9375, 1.2222, 1.4931, 1.7500, 1.9931, 2.2222,\n",
       "        2.4375, 2.6389, 2.8264, 3.0000, 3.1597, 3.3056, 3.4375, 3.5556, 3.6597,\n",
       "        3.7500, 3.8264, 3.8889, 3.9375, 3.9722, 3.9931, 4.0000])"
      ]
     },
     "execution_count": 6,
     "metadata": {},
     "output_type": "execute_result"
    }
   ],
   "source": [
    "first_model(params, xvals)"
   ]
  },
  {
   "cell_type": "code",
   "execution_count": 4,
   "metadata": {},
   "outputs": [],
   "source": [
    "# mean = list()\n",
    "# grad = list()\n",
    "\n",
    "# for x in xvals:\n",
    "#     mu, g = grad_first_model(params, x)\n",
    "#     mean.append(mu)\n",
    "#     grad.append(g)\n",
    "    \n",
    "# mean = torch.FloatTensor(mean)\n",
    "# grad = torch.vstack(grad)"
   ]
  },
  {
   "cell_type": "code",
   "execution_count": 7,
   "metadata": {},
   "outputs": [],
   "source": [
    "# grad_first_model(params, xvals)"
   ]
  },
  {
   "cell_type": "code",
   "execution_count": 8,
   "metadata": {},
   "outputs": [],
   "source": [
    "from configmoped import get_config"
   ]
  },
  {
   "cell_type": "code",
   "execution_count": 9,
   "metadata": {},
   "outputs": [],
   "source": [
    "config = get_config()"
   ]
  },
  {
   "cell_type": "code",
   "execution_count": null,
   "metadata": {},
   "outputs": [],
   "source": []
  },
  {
   "cell_type": "code",
   "execution_count": 13,
   "metadata": {},
   "outputs": [],
   "source": [
    "dist = torch.distributions.multivariate_normal.MultivariateNormal(torch.zeros(20), config.noiseCov)"
   ]
  },
  {
   "cell_type": "code",
   "execution_count": 14,
   "metadata": {},
   "outputs": [
    {
     "data": {
      "text/plain": [
       "tensor([ 0.0430,  0.0875, -0.2081,  0.0958, -0.0409,  0.2304, -0.1650,  0.2134,\n",
       "        -0.2220, -0.4489, -0.3142, -0.0328, -0.0896,  0.2690, -0.0681,  0.1485,\n",
       "        -0.2607,  0.3573, -0.1132, -0.1383])"
      ]
     },
     "execution_count": 14,
     "metadata": {},
     "output_type": "execute_result"
    }
   ],
   "source": [
    "dist.sample()"
   ]
  },
  {
   "cell_type": "code",
   "execution_count": null,
   "metadata": {},
   "outputs": [],
   "source": []
  }
 ],
 "metadata": {
  "kernelspec": {
   "display_name": "Python 3",
   "language": "python",
   "name": "python3"
  },
  "language_info": {
   "codemirror_mode": {
    "name": "ipython",
    "version": 3
   },
   "file_extension": ".py",
   "mimetype": "text/x-python",
   "name": "python",
   "nbconvert_exporter": "python",
   "pygments_lexer": "ipython3",
   "version": "3.7.6"
  }
 },
 "nbformat": 4,
 "nbformat_minor": 4
}
