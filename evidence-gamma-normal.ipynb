{
 "cells": [
  {
   "cell_type": "code",
   "execution_count": 1,
   "metadata": {},
   "outputs": [],
   "source": [
    "import torch\n",
    "import numpy as np \n",
    "import matplotlib.pylab as plt \n",
    "\n",
    "plt.rc('text', usetex=True)\n",
    "plt.rc('font',**{'family':'sans-serif','serif':['Palatino']})\n",
    "figSize  = (12, 8)\n",
    "fontSize = 20"
   ]
  },
  {
   "cell_type": "markdown",
   "metadata": {},
   "source": [
    "# Notations\n",
    "Similar to [wikipedia](https://en.wikipedia.org/wiki/Gamma_distribution). \n",
    "\n",
    "$$X \\sim \\Gamma(\\alpha, \\beta)$$\n",
    "\n",
    "The probability distribution function is given by \n",
    "\n",
    "$$f(x;\\alpha,\\beta)=\\dfrac{x^{\\alpha - 1}e^{-\\beta x}\\beta^{\\alpha}}{\\Gamma(\\alpha)}$$\n",
    "\n",
    "where $\\Gamma(\\alpha)=(\\alpha - 1)!$\n",
    "\n",
    "$\\alpha$ is the shape parameter. \n",
    "\n",
    "$\\beta$ is the rate parameter (we will fix this parameter to $\\beta=5.0$ throughout this work). \n",
    "\n",
    "# PyTorch Notations\n",
    "\n",
    "[Link](https://pytorch.org/docs/stable/distributions.html#gamma)\n",
    "\n",
    "`torch.distributions.gamma.Gamma(concentration, rate, validate_args=None)`\n",
    "\n",
    "Creates a Gamma distribution parameterized by shape concentration and rate.\n",
    "\n",
    "# Analysis\n",
    "\n",
    "### Steps\n",
    "- The data is generated from the Gamma distribution.\n",
    "- The parameter $\\beta$ is fixed to $\\beta=5.0$.\n",
    "- Only one parameter, $\\alpha$ varied. \n",
    "- Assume a normal prior on $\\alpha$, that is, $p(\\alpha)=\\mathcal{N}(\\alpha_{*},1)$\n",
    "- Goal: compute evidence with and without compression. \n",
    "- Goal: use the score function for compression.\n",
    "- Goal: compare with the case when a Gaussian likelihood is used. \n",
    "\n",
    "\n",
    "### Bayes' theorem\n",
    "\n",
    "$$p(\\alpha, \\beta|\\boldsymbol{x})=\\dfrac{p(\\boldsymbol{x}|\\alpha, \\beta)\\,p(\\alpha,\\beta)}{p(\\boldsymbol{x})}$$\n",
    "\n",
    "$p(\\beta)=\\delta(\\beta - 5.0)$. We will ignore $\\beta$ below since it is fixed. \n",
    "\n",
    "$$p(\\alpha|\\boldsymbol{x})=\\dfrac{p(\\boldsymbol{x}|\\alpha)\\,p(\\alpha)}{p(\\boldsymbol{x})}$$\n",
    "\n",
    "#### Without Compression\n",
    "\n",
    "$$p(\\boldsymbol{x})=\\int \\Gamma(\\alpha, \\beta=5.0)\\,p(\\alpha)\\,\\textrm{d}\\alpha$$\n",
    "\n",
    "Assume we have generated $N$ iid samples, $\\boldsymbol{x}\\in \\mathbb{R}^{N}$:\n",
    "\n",
    "$$p(\\boldsymbol{x})=\\int \\prod_{i=1}^{N} f(x_{i};\\alpha,\\,\\beta=5.0)\\,p(\\alpha)\\,\\textrm{d}\\alpha$$\n",
    "\n",
    "We can do this integration numerically (on a grid). \n",
    "\n",
    "If we assume a Gaussian likelihood, \n",
    "\n",
    "$$p(\\boldsymbol{x})=\\int \\prod_{i=1}^{N} f(x_{i};\\mu,\\,\\sigma=1.0)\\,p(\\mu)\\,\\textrm{d}\\mu$$\n",
    "\n",
    "\n",
    "#### With Compression\n",
    "We will be using the score function, that is, \n",
    "\n",
    "$$s = \\nabla\\mathcal{L}$$\n",
    "\n",
    "where $\\mathcal{L}$ is the log-likelihood. We need the derivative of the log-likelihood with respect to $\\alpha$, but evaluated at each sample. The log-likelihood when using the Gamma distribution is:\n",
    "\n",
    "$$\\mathcal{L}=\\sum_{i=1}^{N}\\textrm{log}\\,f(x_{i};\\alpha,\\beta=5.0)$$\n",
    "\n",
    "and the derivative of the log-likelihood with respect to the parameter, $\\alpha$ is:\n",
    "\n",
    "$$\\nabla\\mathcal{L}=\\nabla\\sum_{i=1}^{N}\\textrm{log}\\,f(x_{i};\\alpha,\\beta=5.0)$$\n",
    "\n",
    "Therefore, we have compressed $N$ samples (data points) to just 1 number. The likelihood (for the compressed data) is \n",
    "\n",
    "$$p(s|\\alpha)=\\dfrac{1}{\\sqrt{2\\pi\\sigma_{*}^{2}}}\\,\\textrm{exp}\\left[-\\frac{1}{2}\\dfrac{(s-s_{*})^{2}}{\\sigma_{*}^{2}}\\right]$$\n",
    "\n",
    "where $s_{*}=\\nabla\\mathcal{L}(\\alpha=\\alpha_{*})$ and $\\sigma_{*}^{2}=-\\nabla^{2}\\mathcal{L}(\\alpha=\\alpha_{*})$. $\\alpha_{*}$ is a chosen fiducial point. "
   ]
  },
  {
   "cell_type": "markdown",
   "metadata": {},
   "source": [
    "### Explore the Gamma Distribution"
   ]
  },
  {
   "cell_type": "code",
   "execution_count": 2,
   "metadata": {},
   "outputs": [],
   "source": [
    "shape = 10.0\n",
    "\n",
    "# the rate is fixed \n",
    "rate = 5.0\n",
    "\n",
    "dist = torch.distributions.gamma.Gamma(shape, rate)\n",
    "\n",
    "samples = dist.rsample([10000]).view(-1)"
   ]
  },
  {
   "cell_type": "code",
   "execution_count": 3,
   "metadata": {},
   "outputs": [
    {
     "data": {
      "image/png": "[encoded data removed]",
      "text/plain": [
       "<Figure size 576x576 with 1 Axes>"
      ]
     },
     "metadata": {
      "needs_background": "light"
     },
     "output_type": "display_data"
    }
   ],
   "source": [
    "plt.figure(figsize=(8,8))\n",
    "plt.hist(samples, density=True, bins=20, ec='b', alpha=0.5, color='skyblue')\n",
    "plt.ylabel(r'$p(x)$', fontsize = fontSize)\n",
    "plt.xlabel(r'$x$', fontsize = fontSize)\n",
    "plt.tick_params(axis='x', labelsize=fontSize)\n",
    "plt.tick_params(axis='y', labelsize=fontSize)\n",
    "plt.show()"
   ]
  },
  {
   "cell_type": "markdown",
   "metadata": {},
   "source": [
    "### Data\n",
    "This is our data vector of size 500 and is fixed throughout the analysis. "
   ]
  },
  {
   "cell_type": "code",
   "execution_count": 4,
   "metadata": {},
   "outputs": [],
   "source": [
    "data = dist.rsample([300]).view(-1)"
   ]
  },
  {
   "cell_type": "markdown",
   "metadata": {},
   "source": [
    "# Gamma Distribution Likelihood\n",
    "\n",
    "### Parameter Estimation Case\n",
    "We can infer $\\alpha$ from the data (sanity check). "
   ]
  },
  {
   "cell_type": "code",
   "execution_count": 5,
   "metadata": {},
   "outputs": [],
   "source": [
    "def loglike_gamma(data, alpha: float, rate: float = 5.0):\n",
    "    \n",
    "    \n",
    "    alpha = torch.tensor([alpha], dtype = torch.float32)\n",
    "    \n",
    "    rate = torch.tensor([rate], dtype = torch.float32)\n",
    "    \n",
    "    dist = torch.distributions.gamma.Gamma(alpha, rate)\n",
    "    \n",
    "    logp = dist.log_prob(data)\n",
    "    \n",
    "    loglike = torch.sum(logp).item()\n",
    "    \n",
    "    return loglike"
   ]
  },
  {
   "cell_type": "code",
   "execution_count": 6,
   "metadata": {},
   "outputs": [],
   "source": [
    "def logprior_normal(alpha, mean: float = 10.0, sigma: float = 1.0):\n",
    "    \n",
    "    alpha = torch.tensor([alpha], dtype = torch.float32)\n",
    "    \n",
    "    mean = torch.tensor([mean], dtype = torch.float32)\n",
    "    \n",
    "    sigma = torch.tensor([sigma], dtype = torch.float32)\n",
    "    \n",
    "    dist = torch.distributions.normal.Normal(mean, sigma)\n",
    "    \n",
    "    logprior = dist.log_prob(alpha).item()\n",
    "    \n",
    "    return logprior"
   ]
  },
  {
   "cell_type": "code",
   "execution_count": 7,
   "metadata": {},
   "outputs": [],
   "source": [
    "npoint = 1000\n",
    "alpha_grid = torch.linspace(9.0, 11.0, npoint)\n",
    "logpost_gamma = torch.zeros(npoint)"
   ]
  },
  {
   "cell_type": "code",
   "execution_count": 8,
   "metadata": {},
   "outputs": [],
   "source": [
    "for i in range(npoint):\n",
    "    \n",
    "    # the value of alpha\n",
    "    alpha_value = alpha_grid[i].item()\n",
    "    \n",
    "    # the log-posterior value\n",
    "    logpost_gamma[i] = loglike_gamma(data, alpha_value)\n",
    "    logpost_gamma[i] += logprior_normal(alpha_value)"
   ]
  },
  {
   "cell_type": "code",
   "execution_count": 9,
   "metadata": {},
   "outputs": [],
   "source": [
    "# the pdf normalised by the maximum \n",
    "pdf_gamma = torch.exp(logpost_gamma - logpost_gamma.max())"
   ]
  },
  {
   "cell_type": "code",
   "execution_count": 10,
   "metadata": {},
   "outputs": [
    {
     "data": {
      "image/png": "[encoded data removed]",
      "text/plain": [
       "<Figure size 576x576 with 1 Axes>"
      ]
     },
     "metadata": {
      "needs_background": "light"
     },
     "output_type": "display_data"
    }
   ],
   "source": [
    "plt.figure(figsize = (8,8))\n",
    "plt.plot(alpha_grid, pdf_gamma, lw = 2.0)\n",
    "plt.ylabel(r'$p(\\alpha)$', fontsize = fontSize)\n",
    "plt.xlabel(r'$\\alpha$', fontsize = fontSize)\n",
    "plt.tick_params(axis='x', labelsize=fontSize)\n",
    "plt.tick_params(axis='y', labelsize=fontSize)\n",
    "plt.ylim(0.0, 1.2)\n",
    "plt.xlim(min(alpha_grid), max(alpha_grid))\n",
    "plt.show()"
   ]
  },
  {
   "cell_type": "markdown",
   "metadata": {},
   "source": [
    "### Summary Statistics"
   ]
  },
  {
   "cell_type": "code",
   "execution_count": 11,
   "metadata": {},
   "outputs": [],
   "source": [
    "pdf_gamma_norm = pdf_gamma/ torch.trapz(pdf_gamma, alpha_grid)"
   ]
  },
  {
   "cell_type": "markdown",
   "metadata": {},
   "source": [
    "We can calculate the mean and variance as follows:\n",
    "\n",
    "$$\\mathbb{E}[\\alpha] = \\int \\alpha\\, p(\\alpha|\\boldsymbol{x})\\,\\textrm{d}\\alpha$$\n",
    "\n",
    "$$\\textrm{var}[\\alpha]=\\int \\alpha^{2}\\, p(\\alpha|\\boldsymbol{x})\\,\\textrm{d}\\alpha - \\mathbb{E}^{2}[\\alpha]$$"
   ]
  },
  {
   "cell_type": "code",
   "execution_count": 12,
   "metadata": {},
   "outputs": [],
   "source": [
    "mean_alpha = torch.trapz(alpha_grid*pdf_gamma_norm, alpha_grid)"
   ]
  },
  {
   "cell_type": "code",
   "execution_count": 13,
   "metadata": {},
   "outputs": [],
   "source": [
    "var_alpha = torch.trapz(alpha_grid**2 * pdf_gamma_norm, alpha_grid) - mean_alpha**2"
   ]
  },
  {
   "cell_type": "code",
   "execution_count": 14,
   "metadata": {},
   "outputs": [
    {
     "name": "stdout",
     "output_type": "stream",
     "text": [
      "The mean is 9.8626\n",
      "The standard deviation is 0.1741\n"
     ]
    }
   ],
   "source": [
    "print(f'The mean is {mean_alpha.item():.4f}')\n",
    "print(f'The standard deviation is {var_alpha.sqrt().item():.4f}')"
   ]
  },
  {
   "cell_type": "markdown",
   "metadata": {},
   "source": [
    "Good - we expected a value around 10 since the samples (data) were generated from $X\\sim\\Gamma(10.0, 5.0)$. "
   ]
  },
  {
   "cell_type": "markdown",
   "metadata": {},
   "source": [
    "### Evidence Estimate\n",
    "We basically need to do a 1D-integration of the posterior (up to a normalisation constant). "
   ]
  },
  {
   "cell_type": "code",
   "execution_count": 15,
   "metadata": {},
   "outputs": [],
   "source": [
    "evi_gamma = torch.trapz(pdf_gamma, alpha_grid)"
   ]
  },
  {
   "cell_type": "code",
   "execution_count": 16,
   "metadata": {},
   "outputs": [],
   "source": [
    "log_evi_gamma = logpost_gamma.max().item() + torch.log(evi_gamma)"
   ]
  },
  {
   "cell_type": "code",
   "execution_count": 17,
   "metadata": {},
   "outputs": [
    {
     "data": {
      "text/plain": [
       "tensor(-283.0836)"
      ]
     },
     "execution_count": 17,
     "metadata": {},
     "output_type": "execute_result"
    }
   ],
   "source": [
    "log_evi_gamma"
   ]
  },
  {
   "cell_type": "markdown",
   "metadata": {},
   "source": [
    "# Normal Distribution Likelihood\n",
    "\n",
    "### Parameter Estimation Case"
   ]
  },
  {
   "cell_type": "code",
   "execution_count": 18,
   "metadata": {},
   "outputs": [],
   "source": [
    "def loglike_normal(data, mean, sigma: float = 1.0):\n",
    "    \n",
    "    mean = torch.tensor([mean], dtype = torch.float32)\n",
    "\n",
    "    sigma = torch.tensor([sigma], dtype = torch.float32)\n",
    "    \n",
    "    dist = torch.distributions.normal.Normal(mean, sigma)\n",
    "    \n",
    "    logp = dist.log_prob(data)\n",
    "    \n",
    "    loglike = torch.sum(logp).item()\n",
    "    \n",
    "    return loglike"
   ]
  },
  {
   "cell_type": "markdown",
   "metadata": {},
   "source": [
    "Looking at the Gamma distribution above, the mean is roughly centered on 2. "
   ]
  },
  {
   "cell_type": "code",
   "execution_count": 19,
   "metadata": {},
   "outputs": [],
   "source": [
    "npoint = 1000\n",
    "mu_grid = torch.linspace(1.5, 2.5, npoint)\n",
    "logpost_normal = torch.zeros(npoint)"
   ]
  },
  {
   "cell_type": "code",
   "execution_count": 20,
   "metadata": {},
   "outputs": [],
   "source": [
    "for i in range(npoint):\n",
    "    \n",
    "    # the value of alpha\n",
    "    mu_value = mu_grid[i].item()\n",
    "    \n",
    "    # the log-posterior value\n",
    "    logpost_normal[i] = loglike_normal(data, mu_value)\n",
    "    \n",
    "    # add the prior contribution with a mean = 2.0 and standard deviation = 1.0\n",
    "    logpost_normal[i] += logprior_normal(mu_value, 2.0, 1.0)"
   ]
  },
  {
   "cell_type": "code",
   "execution_count": 21,
   "metadata": {},
   "outputs": [],
   "source": [
    "# the pdf normalised by the maximum \n",
    "pdf_normal = torch.exp(logpost_normal - logpost_normal.max())"
   ]
  },
  {
   "cell_type": "code",
   "execution_count": 22,
   "metadata": {},
   "outputs": [
    {
     "data": {
      "image/png": "[encoded data removed]",
      "text/plain": [
       "<Figure size 576x576 with 1 Axes>"
      ]
     },
     "metadata": {
      "needs_background": "light"
     },
     "output_type": "display_data"
    }
   ],
   "source": [
    "plt.figure(figsize = (8,8))\n",
    "plt.plot(mu_grid, pdf_normal, lw = 2.0)\n",
    "plt.ylabel(r'$p(\\mu)$', fontsize = fontSize)\n",
    "plt.xlabel(r'$\\mu$', fontsize = fontSize)\n",
    "plt.tick_params(axis='x', labelsize=fontSize)\n",
    "plt.tick_params(axis='y', labelsize=fontSize)\n",
    "plt.ylim(0.0, 1.2)\n",
    "plt.xlim(min(mu_grid), max(mu_grid))\n",
    "plt.show()"
   ]
  },
  {
   "cell_type": "code",
   "execution_count": 23,
   "metadata": {},
   "outputs": [],
   "source": [
    "evi_normal = torch.trapz(pdf_normal, mu_grid)"
   ]
  },
  {
   "cell_type": "code",
   "execution_count": 24,
   "metadata": {},
   "outputs": [],
   "source": [
    "log_evi_normal = logpost_normal.max().item() + torch.log(evi_normal)"
   ]
  },
  {
   "cell_type": "code",
   "execution_count": 25,
   "metadata": {},
   "outputs": [
    {
     "data": {
      "text/plain": [
       "tensor(-339.0552)"
      ]
     },
     "execution_count": 25,
     "metadata": {},
     "output_type": "execute_result"
    }
   ],
   "source": [
    "log_evi_normal "
   ]
  },
  {
   "cell_type": "code",
   "execution_count": 26,
   "metadata": {},
   "outputs": [
    {
     "name": "stdout",
     "output_type": "stream",
     "text": [
      "The log-Bayes factor between Model 1 (Gamma) and Model 2 (Normal) is 55.97\n"
     ]
    }
   ],
   "source": [
    "logBF = log_evi_gamma - log_evi_normal\n",
    "print(f'The log-Bayes factor between Model 1 (Gamma) and Model 2 (Normal) is {logBF:.2f}')"
   ]
  },
  {
   "cell_type": "markdown",
   "metadata": {},
   "source": [
    "Good - we expect the Gamma likelihood function to be better compared to a Gaussian likelihood function."
   ]
  },
  {
   "cell_type": "markdown",
   "metadata": {},
   "source": [
    "# Compression - Score Function"
   ]
  },
  {
   "cell_type": "code",
   "execution_count": 27,
   "metadata": {},
   "outputs": [],
   "source": [
    "def score_compression_gamma(data, alpha: float, rate: float = 5.0):\n",
    "    \n",
    "    alpha = torch.tensor([alpha], dtype = torch.float32)\n",
    "    \n",
    "    # we need the derivatives with respect to the shape parameter\n",
    "    alpha.requires_grad = True\n",
    "    \n",
    "    rate = torch.tensor([rate], dtype = torch.float32)\n",
    "    \n",
    "    dist = torch.distributions.gamma.Gamma(alpha, rate)\n",
    "    \n",
    "    # the log-likelihood \n",
    "    log_like = dist.log_prob(data).sum()\n",
    "    \n",
    "    # gradient of log-likelihood with respect to shape (alpha) \n",
    "    grad_log_like = torch.autograd.grad(log_like, alpha, create_graph=True)[0]\n",
    "    \n",
    "    # the second derivative with respect to shape (alpha)\n",
    "    hessian = torch.autograd.grad(grad_log_like, alpha)[0]\n",
    "    \n",
    "    return grad_log_like.item(), hessian.item()"
   ]
  },
  {
   "cell_type": "markdown",
   "metadata": {},
   "source": [
    "We will choose $\\alpha=10.0$ as the expansion (fiducial) point. We can also quickly compute the Maximum Likelihood Estimator (MLE), that is, find $\\alpha_{\\textrm{MLE}}$ for which $\\nabla\\mathcal{L}=0$ and this happens at:\n",
    "\n",
    "$$\\alpha_{\\textrm{MLE}}=\\dfrac{\\beta}{N}\\sum_{i=1}^{N}x_{i}$$\n",
    "\n",
    "In our work, $\\beta=5.0$. So we want just compute $\\alpha_{\\textrm{MLE}}$."
   ]
  },
  {
   "cell_type": "code",
   "execution_count": 28,
   "metadata": {},
   "outputs": [
    {
     "data": {
      "text/plain": [
       "9.87557053565979"
      ]
     },
     "execution_count": 28,
     "metadata": {},
     "output_type": "execute_result"
    }
   ],
   "source": [
    "# Maximum likelihood estimate \n",
    "torch.mean(data).item() * 5.0"
   ]
  },
  {
   "cell_type": "code",
   "execution_count": 29,
   "metadata": {},
   "outputs": [],
   "source": [
    "# compress the data at the shape parameter = 10.0\n",
    "\n",
    "s_data, h_data = score_compression_gamma(data, 10.0)"
   ]
  },
  {
   "cell_type": "code",
   "execution_count": 30,
   "metadata": {},
   "outputs": [
    {
     "name": "stdout",
     "output_type": "stream",
     "text": [
      "Error estimate of the score: 0.1780\n"
     ]
    }
   ],
   "source": [
    "print(f'Error estimate of the score: {np.sqrt(-1.0 / h_data):.4f}')"
   ]
  },
  {
   "cell_type": "code",
   "execution_count": 31,
   "metadata": {},
   "outputs": [
    {
     "name": "stdout",
     "output_type": "stream",
     "text": [
      "Previously, we estimated the standard deviation of the shape parameter using the posterior as: 0.1741\n"
     ]
    }
   ],
   "source": [
    "print(f'Previously, we estimated the standard deviation of the shape parameter using the posterior as: {var_alpha.sqrt().item():.4f}')"
   ]
  },
  {
   "cell_type": "markdown",
   "metadata": {},
   "source": [
    "# ISSUE below\n",
    "\n",
    "The pdf is *always* centred on the expansion point? and the error estimate on $\\alpha$ does not look good!"
   ]
  },
  {
   "cell_type": "code",
   "execution_count": 32,
   "metadata": {},
   "outputs": [],
   "source": [
    "def loglike_gamma_score(alpha, data, score, hessian, rate: float = 5.0):\n",
    "    \n",
    "    grad, _ = score_compression_gamma(data, alpha, rate)\n",
    "    \n",
    "    # print(grad)\n",
    "    \n",
    "    # calculate the variance (inverse of hessian)\n",
    "    var = torch.tensor([-1. / hessian])\n",
    "    \n",
    "    std = torch.sqrt(var)\n",
    "    \n",
    "    gaussian = torch.distributions.normal.Normal(score, std)\n",
    "    \n",
    "    loglike = gaussian.log_prob(torch.tensor([grad]))\n",
    "       \n",
    "    return loglike "
   ]
  },
  {
   "cell_type": "code",
   "execution_count": 33,
   "metadata": {},
   "outputs": [],
   "source": [
    "logpost_gamma_score = torch.zeros(npoint)"
   ]
  },
  {
   "cell_type": "code",
   "execution_count": 34,
   "metadata": {},
   "outputs": [],
   "source": [
    "alpha_test = torch.linspace(9.90, 10.10, 1000)\n",
    "for i in range(npoint):\n",
    "    \n",
    "    # the value of alpha\n",
    "    alpha_value = alpha_test[i].item()\n",
    "    \n",
    "    # the log-posterior value\n",
    "    logpost_gamma_score[i] = loglike_gamma_score(alpha_value, data, s_data, h_data, rate = 5.0)\n",
    "    logpost_gamma_score[i] += logprior_normal(alpha_value, 10.0, 1.0)"
   ]
  },
  {
   "cell_type": "code",
   "execution_count": 35,
   "metadata": {},
   "outputs": [],
   "source": [
    "# the pdf normalised by the maximum \n",
    "pdf_gamma_score = torch.exp(logpost_gamma_score - logpost_gamma_score.max())"
   ]
  },
  {
   "cell_type": "code",
   "execution_count": 36,
   "metadata": {},
   "outputs": [
    {
     "data": {
      "image/png": "[encoded data removed]",
      "text/plain": [
       "<Figure size 576x576 with 1 Axes>"
      ]
     },
     "metadata": {
      "needs_background": "light"
     },
     "output_type": "display_data"
    }
   ],
   "source": [
    "plt.figure(figsize = (8,8))\n",
    "plt.plot(alpha_test, pdf_gamma_score, lw = 2.0)\n",
    "plt.ylabel(r'$p(\\alpha)$', fontsize = fontSize)\n",
    "plt.xlabel(r'$\\alpha$', fontsize = fontSize)\n",
    "plt.tick_params(axis='x', labelsize=fontSize)\n",
    "plt.tick_params(axis='y', labelsize=fontSize)\n",
    "plt.ylim(0.0, 1.2)\n",
    "# plt.xlim(min(alpha_grid), max(alpha_grid))\n",
    "plt.show()"
   ]
  },
  {
   "cell_type": "markdown",
   "metadata": {},
   "source": [
    "### Test\n",
    "We can just sample the score, given the score function calculated at $\\alpha=10.0$ and the error estimate. This looks good but we would expect the error estimate on $\\alpha$ to be of the same width (since the Hessian is just the second derivative of the log-likelihoood with respect to the parameter $\\alpha$). Maybe not - maybe we need a lot of data for the likelihood to peak. Maybe the likelihood surface is too broad. "
   ]
  },
  {
   "cell_type": "code",
   "execution_count": 37,
   "metadata": {},
   "outputs": [],
   "source": [
    "gaussian_test = torch.distributions.normal.Normal(s_data, np.sqrt(-1.0 / h_data))"
   ]
  },
  {
   "cell_type": "code",
   "execution_count": 38,
   "metadata": {},
   "outputs": [
    {
     "data": {
      "image/png": "[encoded data removed]",
      "text/plain": [
       "<Figure size 576x576 with 1 Axes>"
      ]
     },
     "metadata": {
      "needs_background": "light"
     },
     "output_type": "display_data"
    }
   ],
   "source": [
    "plt.figure(figsize=(8,8))\n",
    "plt.hist(gaussian_test.rsample([10000]), density=True, bins=20, ec='b', alpha=0.5, color='skyblue')\n",
    "plt.ylabel(r'$p(s)$', fontsize = fontSize)\n",
    "plt.xlabel(r'$s$', fontsize = fontSize)\n",
    "plt.tick_params(axis='x', labelsize=fontSize)\n",
    "plt.tick_params(axis='y', labelsize=fontSize)\n",
    "plt.show()"
   ]
  },
  {
   "cell_type": "code",
   "execution_count": null,
   "metadata": {},
   "outputs": [],
   "source": []
  }
 ],
 "metadata": {
  "kernelspec": {
   "display_name": "Python 3",
   "language": "python",
   "name": "python3"
  },
  "language_info": {
   "codemirror_mode": {
    "name": "ipython",
    "version": 3
   },
   "file_extension": ".py",
   "mimetype": "text/x-python",
   "name": "python",
   "nbconvert_exporter": "python",
   "pygments_lexer": "ipython3",
   "version": "3.7.6"
  }
 },
 "nbformat": 4,
 "nbformat_minor": 4
}
